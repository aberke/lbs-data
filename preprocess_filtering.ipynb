{
 "cells": [
  {
   "cell_type": "code",
   "execution_count": 1,
   "metadata": {},
   "outputs": [
    {
     "name": "stdout",
     "output_type": "stream",
     "text": [
      "using input filepath:  ./data/mount/201805/14460_201805.csv\n",
      "output filtered data filepath:  ./data/mount/201805/filtered/\n"
     ]
    }
   ],
   "source": [
    "\"\"\"\n",
    "This file is used for initial filtering and understanding of data.\n",
    "At different points in the filtering process, files are saved.\n",
    "\n",
    "File names for filtered data:\n",
    "\n",
    "For data filtered to specific day range:\n",
    "/filtered/[day start]_[day end]_....\n",
    "\n",
    "/filtered/[date range]/[areas]_[filtering details]\n",
    "\n",
    "areas:\n",
    "e.g. county_middlesex_norfolk_suffolk (only contains data in these counties)\n",
    "e.g. cities_cambridge_brookline_boston_somerville (only contains data in these cities)\n",
    "\n",
    "filtering_details\n",
    "e.g. 10days_10nights (only contains data for users with at least 10 nights & 10 days of data)\n",
    "\n",
    "end up with something like...\n",
    "e.g. /filtered/20180501_20180514/county_middlesex_norfolk_suffolk_10days_10nights.csv\n",
    "\n",
    "\"\"\"\n",
    "from datetime import datetime, timedelta\n",
    "from dateutil import parser\n",
    "\n",
    "import geopandas as gpd\n",
    "import matplotlib.pyplot as plt\n",
    "import numpy as np\n",
    "import pandas as pd\n",
    "from shapely.geometry import Point, Polygon\n",
    "\n",
    "MSA = \"14460\"\n",
    "YEARMONTH = \"201805\"\n",
    "\n",
    "\n",
    "DATA_PATH = \"./data/mount/{yearmonth}/\".format(yearmonth=YEARMONTH)\n",
    "\n",
    "FILTERED_DATA_PATH = \"{data_path}filtered/\".format(data_path=DATA_PATH)\n",
    "\n",
    "input_filename = \"{msa}_{yearmonth}.csv\".format(msa=MSA, yearmonth=YEARMONTH)\n",
    "input_filepath = DATA_PATH + input_filename\n",
    "print('using input filepath: ', input_filepath)\n",
    "print('output filtered data filepath: ', FILTERED_DATA_PATH)"
   ]
  },
  {
   "cell_type": "code",
   "execution_count": 25,
   "metadata": {},
   "outputs": [],
   "source": [
    "# Column names defined as variables\n",
    "\n",
    "DEVICE_ID = 'device ID'\n",
    "DWELLTIME = 'DwellTime'\n",
    "TIMESTAMP = 'timestamp'\n",
    "\n",
    "# temp added column\n",
    "TIMESTAMP_DAY = 'timestamp day'"
   ]
  },
  {
   "cell_type": "markdown",
   "metadata": {},
   "source": [
    "Handling timestamps:\n",
    "\n",
    "From provided data documentation:\n",
    "Timestamp of the data point in ISO-8601. Times are expressed in local time, together with a time zone offset in hours and minutes. A time zone offset of \"+hh:mm\" indicates that the date/time uses a local time zone which is \"hh\" hours and \"mm\" minutes ahead of UTC. A time zone offset of \"-hh:mm\" indicates that the date/time uses a local time zone which is \"hh\" hours and \"mm\" minutes behind UTC.\n",
    "\n",
    "We convert the timestamp to a datetime __without__ the built in pandas to_datetime function in, because we want to keep the relavent timezone information and this function shifts the hour to reflect only the UTC datetime.\n",
    "\n",
    "e.g. `df[column] = df[column].apply(lambda t: parser.parse(str(t)))`"
   ]
  },
  {
   "cell_type": "code",
   "execution_count": 3,
   "metadata": {},
   "outputs": [],
   "source": [
    "def timestamp_to_datetime(df, column=TIMESTAMP):\n",
    "    df[column] = df[column].apply(lambda t: parser.parse(str(t)))\n",
    "    return df"
   ]
  },
  {
   "cell_type": "markdown",
   "metadata": {},
   "source": [
    "## Filter by days\n",
    "\n",
    "Filter the data to only include the days of interest.\n",
    "For us, this is a 5 day workweek (Monday - Friday).\n",
    "\n",
    "Note: There is a 'day' column. This column represents the day that the data was processed.  Not when the dwell occurred.\n"
   ]
  },
  {
   "cell_type": "code",
   "execution_count": 4,
   "metadata": {},
   "outputs": [],
   "source": [
    "# The first work week in May (Monday - Friday)\n",
    "STARTDAY = 20180507\n",
    "ENDDAY = 20180511\n",
    "\n",
    "startday_str = str(STARTDAY)\n",
    "endday_str = str(ENDDAY)"
   ]
  },
  {
   "cell_type": "code",
   "execution_count": 5,
   "metadata": {},
   "outputs": [],
   "source": [
    "def filter_to_days(df, startday_str, endday_str):\n",
    "    \"\"\"Returns data frame filtered to rows from the day range.\"\"\"\n",
    "    df = timestamp_to_datetime(df, column=TIMESTAMP)\n",
    "    temp_col = 'withindays'\n",
    "    df[temp_col] = df[TIMESTAMP].apply(lambda t: startday_str <= t.strftime(\"%Y%m%d\") <= endday_str)\n",
    "    return df[df[temp_col]].drop(temp_col, axis=1)"
   ]
  },
  {
   "cell_type": "code",
   "execution_count": null,
   "metadata": {},
   "outputs": [],
   "source": [
    "\"\"\"\n",
    "The starting file is huge (~1.2 GB), so filtering is done in chunks.\n",
    "\n",
    "The fitered chunks are appended to a newly written output file.\n",
    "\n",
    "\"\"\"\n",
    "\n",
    "chunksize = 10**5\n",
    "\n",
    "filtered_days_seen_set = set() # used for sanity check\n",
    "\n",
    "days_filtered_output_filepath = \"{data_path}{start_day}_{end_day}/{msa}.csv\".format(\n",
    "    data_path=FILTERED_DATA_PATH, start_day=STARTDAY, end_day=ENDDAY, msa=MSA)\n",
    "\n",
    "print('reading file in chunks of size %s from %s' % (chunksize, input_filepath))\n",
    "print('writing filtered data to %s' % days_filtered_output_filepath)\n",
    "\n",
    "chunks_read = 0\n",
    "input_file_total_lines = 0\n",
    "filtered_total_lines = 0\n",
    "# Overwrite existing file (open with 'w').  Write chunks by appending to the file (mode 'a').\n",
    "with open(days_filtered_output_filepath, 'w') as output_file:\n",
    "    for df_chunk in pd.read_csv(input_filepath, chunksize=chunksize):\n",
    "        chunks_read += 1\n",
    "        lines_read = df_chunk.shape[0]\n",
    "        # Filter data chunk to the days range\n",
    "        df_chunk_filtered = filter_to_days(df_chunk, startday_str, endday_str)\n",
    "        filtered_lines = df_chunk_filtered.shape[0]\n",
    "        # write the filtered data chunk\n",
    "        df_chunk_filtered.to_csv(output_file, mode='a', header=(filtered_total_lines == 0), index=False) # mode='a' tells pandas to append; only write the header at top.\n",
    "        print('chunk %s : lines read: %s, filtered lines: %s' % (chunks_read, lines_read, filtered_lines))\n",
    "        input_file_total_lines += lines_read\n",
    "        filtered_total_lines += filtered_lines\n",
    "        # for sanity checking the days data:\n",
    "        df_chunk_filtered[TIMESTAMP_DAY] = df_chunk_filtered[TIMESTAMP].apply(lambda t: t.day)\n",
    "        filtered_days_seen_set.update(list(df_chunk_filtered[TIMESTAMP_DAY].unique()))\n",
    "\n",
    "\n",
    "print('total input file rows: ', input_file_total_lines)\n",
    "print('total output file rows:', filtered_total_lines)\n",
    "\n",
    "# sanity check: expected number of unique days\n",
    "assert(len(filtered_days_seen_set) == (int(ENDDAY) - int(STARTDAY) + 1))"
   ]
  },
  {
   "cell_type": "code",
   "execution_count": null,
   "metadata": {},
   "outputs": [],
   "source": [
    "# How much did this filter by vs what we expected?\n",
    "\n",
    "# Total input data points divided by days of month:\n",
    "avg_data_pnts_per_day = input_file_total_lines / 31\n",
    "print('avg datapoints per day (= all datapoints/31 days) =', avg_data_pnts_per_day)\n",
    "days = (ENDDAY - STARTDAY + 1)\n",
    "print('filtered days =', days)\n",
    "expected_datapoints = avg_data_pnts_per_day*days\n",
    "print('expected datapoints = avg datapoints per day * days =', expected_datapoints)\n",
    "print('true datapoints count for the %s days =' % days, filtered_total_lines)"
   ]
  },
  {
   "cell_type": "markdown",
   "metadata": {},
   "source": [
    "## Filter by geographic region\n",
    "\n",
    "Filter to geographic region of interest.\n",
    "e.g. counties: Middlesex, Norfolk, Suffolk\n",
    "\n",
    "- Data is filtered to points that occur within the geographic region.\n",
    "- Geographic region is defined by shapefiles.\n",
    "-  The shapefiles are divided by county."
   ]
  },
  {
   "cell_type": "code",
   "execution_count": 7,
   "metadata": {},
   "outputs": [
    {
     "name": "stdout",
     "output_type": "stream",
     "text": [
      "./shapefiles/ma/county_middlesex_norfolk_suffolk.shp\n"
     ]
    },
    {
     "data": {
      "text/html": [
       "<div>\n",
       "<style scoped>\n",
       "    .dataframe tbody tr th:only-of-type {\n",
       "        vertical-align: middle;\n",
       "    }\n",
       "\n",
       "    .dataframe tbody tr th {\n",
       "        vertical-align: top;\n",
       "    }\n",
       "\n",
       "    .dataframe thead th {\n",
       "        text-align: right;\n",
       "    }\n",
       "</style>\n",
       "<table border=\"1\" class=\"dataframe\">\n",
       "  <thead>\n",
       "    <tr style=\"text-align: right;\">\n",
       "      <th></th>\n",
       "      <th>STATEFP10</th>\n",
       "      <th>COUNTYFP10</th>\n",
       "      <th>COUNTYNS10</th>\n",
       "      <th>GEOID10</th>\n",
       "      <th>NAME10</th>\n",
       "      <th>NAMELSAD10</th>\n",
       "      <th>LSAD10</th>\n",
       "      <th>CLASSFP10</th>\n",
       "      <th>MTFCC10</th>\n",
       "      <th>CSAFP10</th>\n",
       "      <th>CBSAFP10</th>\n",
       "      <th>METDIVFP10</th>\n",
       "      <th>FUNCSTAT10</th>\n",
       "      <th>ALAND10</th>\n",
       "      <th>AWATER10</th>\n",
       "      <th>INTPTLAT10</th>\n",
       "      <th>INTPTLON10</th>\n",
       "      <th>geometry</th>\n",
       "    </tr>\n",
       "  </thead>\n",
       "  <tbody>\n",
       "    <tr>\n",
       "      <th>0</th>\n",
       "      <td>25</td>\n",
       "      <td>021</td>\n",
       "      <td>00606937</td>\n",
       "      <td>25021</td>\n",
       "      <td>Norfolk</td>\n",
       "      <td>Norfolk County</td>\n",
       "      <td>06</td>\n",
       "      <td>H1</td>\n",
       "      <td>G4020</td>\n",
       "      <td>148</td>\n",
       "      <td>14460</td>\n",
       "      <td>14484</td>\n",
       "      <td>A</td>\n",
       "      <td>1025908386</td>\n",
       "      <td>124944841</td>\n",
       "      <td>+42.1697025</td>\n",
       "      <td>-071.1798747</td>\n",
       "      <td>(POLYGON ((-71.1575566213608 42.32971866445732...</td>\n",
       "    </tr>\n",
       "    <tr>\n",
       "      <th>1</th>\n",
       "      <td>25</td>\n",
       "      <td>025</td>\n",
       "      <td>00606939</td>\n",
       "      <td>25025</td>\n",
       "      <td>Suffolk</td>\n",
       "      <td>Suffolk County</td>\n",
       "      <td>06</td>\n",
       "      <td>H4</td>\n",
       "      <td>G4020</td>\n",
       "      <td>148</td>\n",
       "      <td>14460</td>\n",
       "      <td>14484</td>\n",
       "      <td>N</td>\n",
       "      <td>150618894</td>\n",
       "      <td>160748611</td>\n",
       "      <td>+42.3319600</td>\n",
       "      <td>-071.0201725</td>\n",
       "      <td>POLYGON ((-70.91789254591536 42.38600568279522...</td>\n",
       "    </tr>\n",
       "    <tr>\n",
       "      <th>2</th>\n",
       "      <td>25</td>\n",
       "      <td>017</td>\n",
       "      <td>00606935</td>\n",
       "      <td>25017</td>\n",
       "      <td>Middlesex</td>\n",
       "      <td>Middlesex County</td>\n",
       "      <td>06</td>\n",
       "      <td>H4</td>\n",
       "      <td>G4020</td>\n",
       "      <td>148</td>\n",
       "      <td>14460</td>\n",
       "      <td>15764</td>\n",
       "      <td>N</td>\n",
       "      <td>2118135038</td>\n",
       "      <td>75739760</td>\n",
       "      <td>+42.4794770</td>\n",
       "      <td>-071.3965070</td>\n",
       "      <td>POLYGON ((-71.52218473720555 42.2664526406431,...</td>\n",
       "    </tr>\n",
       "  </tbody>\n",
       "</table>\n",
       "</div>"
      ],
      "text/plain": [
       "  STATEFP10 COUNTYFP10 COUNTYNS10 GEOID10     NAME10        NAMELSAD10 LSAD10  \\\n",
       "0        25        021   00606937   25021    Norfolk    Norfolk County     06   \n",
       "1        25        025   00606939   25025    Suffolk    Suffolk County     06   \n",
       "2        25        017   00606935   25017  Middlesex  Middlesex County     06   \n",
       "\n",
       "  CLASSFP10 MTFCC10 CSAFP10 CBSAFP10 METDIVFP10 FUNCSTAT10     ALAND10  \\\n",
       "0        H1   G4020     148    14460      14484          A  1025908386   \n",
       "1        H4   G4020     148    14460      14484          N   150618894   \n",
       "2        H4   G4020     148    14460      15764          N  2118135038   \n",
       "\n",
       "    AWATER10   INTPTLAT10    INTPTLON10  \\\n",
       "0  124944841  +42.1697025  -071.1798747   \n",
       "1  160748611  +42.3319600  -071.0201725   \n",
       "2   75739760  +42.4794770  -071.3965070   \n",
       "\n",
       "                                            geometry  \n",
       "0  (POLYGON ((-71.1575566213608 42.32971866445732...  \n",
       "1  POLYGON ((-70.91789254591536 42.38600568279522...  \n",
       "2  POLYGON ((-71.52218473720555 42.2664526406431,...  "
      ]
     },
     "execution_count": 7,
     "metadata": {},
     "output_type": "execute_result"
    },
    {
     "data": {
      "image/png": "[encoded data removed]",
      "text/plain": [
       "<Figure size 432x288 with 1 Axes>"
      ]
     },
     "metadata": {
      "needs_background": "light"
     },
     "output_type": "display_data"
    }
   ],
   "source": [
    "\n",
    "from util import get_shapefile_filename, get_shapefile_filepath\n",
    "\n",
    "# Load in the shapefile\n",
    "counties = ['middlesex', 'norfolk', 'suffolk']\n",
    "counties_shapefile_filepath = get_shapefile_filepath('ma', 'county', counties)\n",
    "print(counties_shapefile_filepath)\n",
    "\n",
    "counties_shapefile = gpd.read_file(counties_shapefile_filepath).to_crs(epsg=4326)\n",
    "counties_shapefile.plot()\n",
    "plt.title('MA counties: ' + ', '.join(counties))\n",
    "\n",
    "counties_shapefile.head()"
   ]
  },
  {
   "cell_type": "markdown",
   "metadata": {},
   "source": [
    "Filter out the points that do not fall within desired county regions.\n",
    "\n",
    "Along the way, attach the county code \n",
    "\n",
    "Write the filtered output to file.\n",
    "\n",
    "The filtering is done in chunks."
   ]
  },
  {
   "cell_type": "code",
   "execution_count": 8,
   "metadata": {},
   "outputs": [],
   "source": [
    "region_filtered_output_filepath = \"{data_path}{start_day}_{end_day}/{region}.csv\".format(\n",
    "    data_path=FILTERED_DATA_PATH, start_day=STARTDAY, end_day=ENDDAY,\n",
    "    region='county_'+'_'.join(sorted(counties)))"
   ]
  },
  {
   "cell_type": "code",
   "execution_count": 11,
   "metadata": {},
   "outputs": [],
   "source": [
    "COUNTY = 'COUNTY'\n",
    "COUNTYFP = 'COUNTYFP10'"
   ]
  },
  {
   "cell_type": "code",
   "execution_count": null,
   "metadata": {},
   "outputs": [],
   "source": [
    "chunksize = 10**5\n",
    "\n",
    "filtered_counties_seen_set = set() # used for sanity check\n",
    "\n",
    "print('filtering data to counties: ' + ', '.join(counties))\n",
    "print('reading file in chunks of size %s from %s' % (chunksize, days_filtered_output_filepath))\n",
    "print('writing filtered data to %s' % region_filtered_output_filepath)\n",
    "\n",
    "def get_county(data_row, shapefile=counties_shapefile):\n",
    "    lat = float(data_row['lat'])\n",
    "    lon = float(data_row['lon'])\n",
    "    point = Point(lon, lat) # the points actually reverse - yes this looks weird but consider lon the x-axis and lat the y-axis on an x-y plane...\n",
    "    for i, shp_row in shapefile.iterrows():\n",
    "        try:\n",
    "            # this could be a Polygon or a Multipolygon when the tract contains islands (<3 New England)\n",
    "            polygon = shp_row['geometry']\n",
    "            if point.within(polygon):\n",
    "                return shp_row[COUNTYFP]\n",
    "        except Exception as e:\n",
    "            print('Exception when looking for point in county ' + shp_row[COUNTYFP], ': ', e)\n",
    "            raise e\n",
    "    return None\n",
    "\n",
    "df_chunk_filtered = None  # for inspecting after\n",
    "\n",
    "input_file_total_lines = 0\n",
    "filtered_total_lines = 0\n",
    "# Overwrite existing file (open with 'w').  Write chunks by appending to the file (mode 'a').\n",
    "with open(region_filtered_output_filepath, 'w') as output_file:\n",
    "    for df_chunk in pd.read_csv(days_filtered_output_filepath, chunksize=chunksize):\n",
    "        lines_read = df_chunk.shape[0]\n",
    "        # Filter data chunk\n",
    "        df_chunk[COUNTY] = df_chunk.apply(get_county, axis=1)\n",
    "        df_chunk_filtered = df_chunk.dropna()\n",
    "        filtered_lines = df_chunk_filtered.shape[0]\n",
    "        print('lines read vs filtered lines: ', lines_read, filtered_lines)\n",
    "        # write the filtered data chunk\n",
    "        df_chunk_filtered.to_csv(output_file, mode='a', header=(filtered_total_lines==0), index=False) # mode='a' tells pandas to append\n",
    "        input_file_total_lines += lines_read\n",
    "        filtered_total_lines += filtered_lines\n",
    "        # for sanity checking the days data:\n",
    "        filtered_counties_seen_set.update(list(df_chunk_filtered[COUNTY].unique()))\n",
    "\n",
    "\n",
    "print('total input file rows: ', input_file_total_lines)\n",
    "print('total output file rows:', filtered_total_lines)\n",
    "\n",
    "assert(filtered_counties_seen_set == set(counties_shapefile[COUNTYFP]))\n",
    "\n",
    "# df_chunk_filtered.head()"
   ]
  },
  {
   "cell_type": "markdown",
   "metadata": {},
   "source": [
    "Look at how many datapoints per county.\n",
    "For comparison: \n",
    "- Middlesex county (017) population Estimate (2018) 1,614,714; Source: https://en.wikipedia.org/wiki/Middlesex_County,_Massachusetts\n",
    "- Norfolk (021) county population Estimate (2018) 705,388; Source: https://en.wikipedia.org/wiki/Norfolk_County,_Massachusetts\n",
    "- Suffolk county (025) population Estimate (2018) 807,252; Source: https://en.wikipedia.org/wiki/Suffolk_County,_Massachusetts\n",
    "\n",
    "There are 652 census tracts among these counties"
   ]
  },
  {
   "cell_type": "code",
   "execution_count": 12,
   "metadata": {},
   "outputs": [
    {
     "name": "stdout",
     "output_type": "stream",
     "text": [
      "area population estimate (2018): 3127354\n"
     ]
    }
   ],
   "source": [
    "area_population = 1614714 + 705388 + 807252\n",
    "print('area population estimate (2018):', area_population)"
   ]
  },
  {
   "cell_type": "code",
   "execution_count": 13,
   "metadata": {},
   "outputs": [
    {
     "name": "stdout",
     "output_type": "stream",
     "text": [
      "data points per county\n",
      "021: 180029\n",
      "025: 230665\n",
      "017: 431422\n"
     ]
    }
   ],
   "source": [
    "\"\"\"\n",
    "Create DF mapping county to number of datapoints occuring in that county.\n",
    "\n",
    "i.e. DF with columns\n",
    "COUNTY, count\n",
    "\n",
    "Of course this too is done in chunks.\n",
    "\"\"\"\n",
    "chunksize = 10**5\n",
    "\n",
    "county_fps = counties_shapefile[COUNTYFP].unique()\n",
    "county_count_dict = {county: 0 for county in county_fps} # make a dict {county: count}\n",
    "\n",
    "for df_chunk in pd.read_csv(region_filtered_output_filepath, chunksize=chunksize):\n",
    "    for county in county_fps:\n",
    "        county_count_dict[county] += df_chunk[df_chunk[COUNTY].astype('int') == int(county)].shape[0]\n",
    "\n",
    "print('data points per county')\n",
    "for county, count in county_count_dict.items():\n",
    "    print('%s: %s' % (county, count))"
   ]
  },
  {
   "cell_type": "markdown",
   "metadata": {},
   "source": [
    "# Further filtering\n",
    "\n",
    "Filtering and data inspection that reads/uses the entire dataset instead of chunks."
   ]
  },
  {
   "cell_type": "code",
   "execution_count": 14,
   "metadata": {},
   "outputs": [
    {
     "name": "stdout",
     "output_type": "stream",
     "text": [
      "reading filtered data from ./data/mount/201805/filtered/20180507_20180511/county_middlesex_norfolk_suffolk.csv\n"
     ]
    }
   ],
   "source": [
    "fpath = region_filtered_output_filepath\n",
    "print('reading filtered data from', fpath)\n",
    "df = pd.read_csv(fpath)"
   ]
  },
  {
   "cell_type": "code",
   "execution_count": null,
   "metadata": {},
   "outputs": [],
   "source": [
    "# update the columns to use 'device ID instead of LBS provider name'\n",
    "df.rename(columns={df.columns[2]:DEVICE_ID}, inplace=True)"
   ]
  },
  {
   "cell_type": "code",
   "execution_count": 17,
   "metadata": {},
   "outputs": [
    {
     "name": "stdout",
     "output_type": "stream",
     "text": [
      "dropped 7008 of 842116 rows where dwelltime > maximum of 2160 (36 hours)\n"
     ]
    }
   ],
   "source": [
    "\"\"\"Filter out garbage / outlier datapoints.\"\"\"\n",
    "\n",
    "# Filter out rows where dwelltime > MAX_DWELLTIME\n",
    "MAX_HOURS = 36\n",
    "MAX_DWELLTIME = 36*60\n",
    "row_count_before = df.shape[0]\n",
    "df = df[df[DWELLTIME] <= MAX_DWELLTIME]\n",
    "rows_dropped = (row_count_before - df.shape[0])\n",
    "print('dropped %s of %s rows where dwelltime > maximum of %s (%s hours)' % (rows_dropped, row_count_before, MAX_DWELLTIME, MAX_HOURS))"
   ]
  },
  {
   "cell_type": "code",
   "execution_count": null,
   "metadata": {},
   "outputs": [],
   "source": [
    "# df.sort_values(TIMESTAMP).head()"
   ]
  },
  {
   "cell_type": "code",
   "execution_count": 20,
   "metadata": {},
   "outputs": [
    {
     "name": "stdout",
     "output_type": "stream",
     "text": [
      "user id count: 80980\n"
     ]
    },
    {
     "data": {
      "text/plain": [
       "count    80980.000000\n",
       "mean        10.312522\n",
       "std         13.098543\n",
       "min          1.000000\n",
       "25%          2.000000\n",
       "50%          5.000000\n",
       "75%         14.000000\n",
       "max        279.000000\n",
       "Name: device ID, dtype: float64"
      ]
     },
     "execution_count": 20,
     "metadata": {},
     "output_type": "execute_result"
    }
   ],
   "source": [
    "# How many unique users are there?\n",
    "user_id_count = df[DEVICE_ID].nunique()\n",
    "print('user id count:', user_id_count)\n",
    "\n",
    "# How are the number of datapoints distributed across users?\n",
    "user_id_occurances = df[DEVICE_ID].value_counts(ascending=True)\n",
    "user_id_occurances.describe()"
   ]
  },
  {
   "cell_type": "code",
   "execution_count": 21,
   "metadata": {},
   "outputs": [],
   "source": [
    "# Make the timestamp a datetime\n",
    "df = timestamp_to_datetime(df, column=TIMESTAMP)"
   ]
  },
  {
   "cell_type": "code",
   "execution_count": 22,
   "metadata": {},
   "outputs": [
    {
     "data": {
      "text/plain": [
       "Text(0, 0.5, 'datapoints')"
      ]
     },
     "execution_count": 22,
     "metadata": {},
     "output_type": "execute_result"
    },
    {
     "data": {
      "image/png": "[encoded data removed]",
      "text/plain": [
       "<Figure size 576x432 with 1 Axes>"
      ]
     },
     "metadata": {
      "needs_background": "light"
     },
     "output_type": "display_data"
    }
   ],
   "source": [
    "\"\"\"\n",
    "Identify hour of each dwell start, and create histogram of points for each hour.\n",
    "Does this look like a sensible dataset?\n",
    "Do dwells look well distributed between working and home (awake) hours?\n",
    "\n",
    "Notes on Working with timestamps.\n",
    "The timestamps are in ISO format.  e.g. '2018-05-01T07:18:02-04:00'\n",
    "The offset refers to how many hours the timezone is from Coordinated Universal Time (UTC).\n",
    "\"\"\"\n",
    "\n",
    "\n",
    "def get_hour(timestamp):\n",
    "    return parser.parse(str(timestamp)).hour\n",
    "assert(14 == get_hour('2018-05-07T14:52:22-04:00'))\n",
    "# datapoint_hours = df[TIMESTAMP].apply(get_hour)\n",
    "\n",
    "datapoint_hours = df[TIMESTAMP].apply(lambda t: t.hour)\n",
    "\n",
    "# Make a histogram\n",
    "ax = datapoint_hours.hist(bins=24, grid=False, figsize=(8,6), color='#86bf91', zorder=2, rwidth=0.9)\n",
    "ax.set_title(\"Dwell datapoints by starting hour\")\n",
    "ax.set_xlabel(\"hour\", labelpad=20, weight='bold', size=12)\n",
    "ax.set_ylabel(\"datapoints\", labelpad=20, weight='bold', size=12)"
   ]
  },
  {
   "cell_type": "code",
   "execution_count": 26,
   "metadata": {},
   "outputs": [],
   "source": [
    "# Add a column for the day each dwell occurs, to allow in processing by unique days / nights\n",
    "df[TIMESTAMP_DAY] = df[TIMESTAMP].apply(lambda t: t.day)"
   ]
  },
  {
   "cell_type": "code",
   "execution_count": 29,
   "metadata": {},
   "outputs": [
    {
     "name": "stdout",
     "output_type": "stream",
     "text": [
      "count    80980.000000\n",
      "mean         2.844221\n",
      "std          1.599543\n",
      "min          1.000000\n",
      "25%          1.000000\n",
      "50%          3.000000\n",
      "75%          5.000000\n",
      "max          5.000000\n",
      "Name: device ID, dtype: float64\n"
     ]
    }
   ],
   "source": [
    "\"\"\"\n",
    "What is the distribution of number of days of data per user?\n",
    "What about nights per user?\n",
    "\"\"\"\n",
    "\n",
    "\n",
    "def get_user_days(df):\n",
    "    \"\"\"Returns a mapping of id -> unique days of datapoints\"\"\"\n",
    "    return df.groupby([DEVICE_ID, TIMESTAMP_DAY])[DEVICE_ID].count().groupby(level=DEVICE_ID).count()\n",
    "\n",
    "user_days = get_user_days(df)\n",
    "print(user_days.describe())"
   ]
  },
  {
   "cell_type": "code",
   "execution_count": 30,
   "metadata": {},
   "outputs": [
    {
     "name": "stderr",
     "output_type": "stream",
     "text": [
      "/Users/aberke/anaconda3/lib/python3.7/site-packages/ipykernel_launcher.py:12: SettingWithCopyWarning: \n",
      "A value is trying to be set on a copy of a slice from a DataFrame.\n",
      "Try using .loc[row_indexer,col_indexer] = value instead\n",
      "\n",
      "See the caveats in the documentation: http://pandas.pydata.org/pandas-docs/stable/indexing.html#indexing-view-versus-copy\n",
      "  if sys.path[0] == '':\n"
     ]
    },
    {
     "data": {
      "text/plain": [
       "count    56121.000000\n",
       "mean         2.388375\n",
       "std          1.397986\n",
       "min          1.000000\n",
       "25%          1.000000\n",
       "50%          2.000000\n",
       "75%          3.000000\n",
       "max          5.000000\n",
       "Name: device ID, dtype: float64"
      ]
     },
     "execution_count": 30,
     "metadata": {},
     "output_type": "execute_result"
    }
   ],
   "source": [
    "HOUR = 'hour'\n",
    "\n",
    "NIGHTTIME_STARTHOUR = 20\n",
    "NIGHTTIME_ENDHOUR = 8\n",
    "\n",
    "def get_user_nights(df):\n",
    "    \"\"\"\n",
    "    Returns a mapping of id -> unique nights of datapoints\n",
    "    To calculate distribution of nights, first make a dataframe with just nighttime points.\n",
    "    \"\"\"\n",
    "    user_night_df = df[[DEVICE_ID, TIMESTAMP_DAY, TIMESTAMP]]\n",
    "    user_night_df[HOUR] = user_night_df[TIMESTAMP].apply(get_hour)\n",
    "    # limit this dataframe to just nighttime hours\n",
    "    user_night_df = user_night_df[(NIGHTTIME_STARTHOUR <= user_night_df[HOUR]) | (user_night_df[HOUR] <= NIGHTTIME_ENDHOUR)]\n",
    "    user_nights = user_night_df.groupby([DEVICE_ID, TIMESTAMP_DAY])[DEVICE_ID].count().groupby(level=DEVICE_ID).count()\n",
    "    return user_nights\n",
    "\n",
    "\n",
    "user_nights = get_user_nights(df)\n",
    "user_nights.describe()"
   ]
  },
  {
   "cell_type": "markdown",
   "metadata": {},
   "source": [
    "## Filter data by threshold number of days and/or nights of data\n",
    "\n",
    "To do so, first create a dataframe with information about number of days and nights per user."
   ]
  },
  {
   "cell_type": "code",
   "execution_count": 31,
   "metadata": {},
   "outputs": [
    {
     "name": "stderr",
     "output_type": "stream",
     "text": [
      "/Users/aberke/anaconda3/lib/python3.7/site-packages/ipykernel_launcher.py:12: SettingWithCopyWarning: \n",
      "A value is trying to be set on a copy of a slice from a DataFrame.\n",
      "Try using .loc[row_indexer,col_indexer] = value instead\n",
      "\n",
      "See the caveats in the documentation: http://pandas.pydata.org/pandas-docs/stable/indexing.html#indexing-view-versus-copy\n",
      "  if sys.path[0] == '':\n",
      "/Users/aberke/anaconda3/lib/python3.7/site-packages/ipykernel_launcher.py:13: SettingWithCopyWarning: \n",
      "A value is trying to be set on a copy of a slice from a DataFrame.\n",
      "Try using .loc[row_indexer,col_indexer] = value instead\n",
      "\n",
      "See the caveats in the documentation: http://pandas.pydata.org/pandas-docs/stable/indexing.html#indexing-view-versus-copy\n",
      "  del sys.path[0]\n",
      "/Users/aberke/anaconda3/lib/python3.7/site-packages/ipykernel_launcher.py:14: SettingWithCopyWarning: \n",
      "A value is trying to be set on a copy of a slice from a DataFrame.\n",
      "Try using .loc[row_indexer,col_indexer] = value instead\n",
      "\n",
      "See the caveats in the documentation: http://pandas.pydata.org/pandas-docs/stable/indexing.html#indexing-view-versus-copy\n",
      "  \n",
      "/Users/aberke/anaconda3/lib/python3.7/site-packages/pandas/core/frame.py:3790: SettingWithCopyWarning: \n",
      "A value is trying to be set on a copy of a slice from a DataFrame\n",
      "\n",
      "See the caveats in the documentation: http://pandas.pydata.org/pandas-docs/stable/indexing.html#indexing-view-versus-copy\n",
      "  downcast=downcast, **kwargs)\n"
     ]
    }
   ],
   "source": [
    "# Create dataframe with columns\n",
    "# device ID, day, timestamp, user days count, user nights count\n",
    "#\n",
    "# And then evaluate best thresholds.\n",
    "\n",
    "DAYS_COUNT = 'user days count'\n",
    "NIGHTS_COUNT = 'user nights count'\n",
    "\n",
    "def make_user_days_nights_df(df):\n",
    "    user_days = get_user_days(df)\n",
    "    user_nights = get_user_nights(df)\n",
    "    user_days_nights_df = df[[DEVICE_ID, TIMESTAMP_DAY, TIMESTAMP]]\n",
    "    user_days_nights_df[DAYS_COUNT] = user_days_nights_df[DEVICE_ID].map(user_days)\n",
    "    user_days_nights_df[NIGHTS_COUNT] = user_days_nights_df[DEVICE_ID].map(user_nights)\n",
    "    return user_days_nights_df\n",
    "    \n",
    "user_days_nights_df = make_user_days_nights_df(df)\n",
    "user_days_nights_df.fillna(0, inplace=True)"
   ]
  },
  {
   "cell_type": "code",
   "execution_count": 32,
   "metadata": {},
   "outputs": [
    {
     "name": "stdout",
     "output_type": "stream",
     "text": [
      "reminder, area population:  3127354\n"
     ]
    }
   ],
   "source": [
    "print('reminder, area population: ', area_population)"
   ]
  },
  {
   "cell_type": "markdown",
   "metadata": {},
   "source": [
    "### 1 Workweet of Data\n",
    "\n",
    "Directly below we look into how to best filter data for 1 work week of data (5 days).\n",
    "\n",
    "The decision for how to filter is based on how many days and nights of data users have.\n"
   ]
  },
  {
   "cell_type": "code",
   "execution_count": 33,
   "metadata": {},
   "outputs": [
    {
     "name": "stdout",
     "output_type": "stream",
     "text": [
      "count    22707.000000\n",
      "mean        23.157088\n",
      "std         16.851940\n",
      "min          3.000000\n",
      "25%         11.000000\n",
      "50%         19.000000\n",
      "75%         30.000000\n",
      "max        279.000000\n",
      "Name: device ID, dtype: float64\n"
     ]
    }
   ],
   "source": [
    "# What if we restricted data to users with at least...\n",
    "# 3 unique days, 3 unique nights of data\n",
    "\n",
    "user_3days_3nights_df = user_days_nights_df[\n",
    "        (user_days_nights_df[DAYS_COUNT] >= 3) \\\n",
    "         & (user_days_nights_df[NIGHTS_COUNT] >= 3)\n",
    "]\n",
    "# How are the number of datapoints distributed across users?\n",
    "print(user_3days_3nights_df[DEVICE_ID].value_counts(ascending=True).describe())"
   ]
  },
  {
   "cell_type": "code",
   "execution_count": 34,
   "metadata": {},
   "outputs": [
    {
     "data": {
      "text/plain": [
       "count    31284.000000\n",
       "mean        20.080648\n",
       "std         15.825725\n",
       "min          3.000000\n",
       "25%          9.000000\n",
       "50%         16.000000\n",
       "75%         26.000000\n",
       "max        279.000000\n",
       "Name: device ID, dtype: float64"
      ]
     },
     "execution_count": 34,
     "metadata": {},
     "output_type": "execute_result"
    }
   ],
   "source": [
    "# What if we restricted data to users with at least...\n",
    "# 3 unique days, 2 unique nights of data\n",
    "user_3days_2nights_df = user_days_nights_df[\n",
    "        (user_days_nights_df[DAYS_COUNT] >= 3) \\\n",
    "         & (user_days_nights_df[NIGHTS_COUNT] >= 2)\n",
    "]\n",
    "# How are the number of datapoints distributed across users?\n",
    "user_3days_2nights_df[DEVICE_ID].value_counts(ascending=True).describe()"
   ]
  },
  {
   "cell_type": "markdown",
   "metadata": {},
   "source": [
    "Decision!  Can change later...\n",
    "\n",
    "- We restrict data to users with at least 3 unique days and 3 unique nights of data.\n",
    "- This restriction means working with ~22,707 users, where the area population is ~3,127,354\n",
    "- sample percentage = (users count)/(population estimate) * 100 = (22707/3127354) * 100 = ~0.726%\n",
    "\n",
    "Note: During later data procession portions, can restrict home census tracts of interest to tracts\n",
    "where there is a greater threshold number of users."
   ]
  },
  {
   "cell_type": "code",
   "execution_count": 36,
   "metadata": {},
   "outputs": [],
   "source": [
    "DAYS_THRESHOLD = 3\n",
    "NIGHTS_THRESHOLD = 3"
   ]
  },
  {
   "cell_type": "code",
   "execution_count": 37,
   "metadata": {},
   "outputs": [
    {
     "name": "stdout",
     "output_type": "stream",
     "text": [
      "will write filtered data to ./data/mount/201805/filtered/20180507_20180511/county_middlesex_norfolk_suffolk_3days_3nights.csv\n"
     ]
    }
   ],
   "source": [
    "days_nights_1workweek_filtered_output_filepath = \"{data_path}{start_day}_{end_day}/{region}_{days}days_{nights}nights.csv\".format(\n",
    "    data_path=FILTERED_DATA_PATH, start_day=STARTDAY, end_day=ENDDAY,\n",
    "    region='county_'+'_'.join(sorted(['middlesex', 'norfolk', 'suffolk'])),\n",
    "    days=DAYS_THRESHOLD, nights=NIGHTS_THRESHOLD)\n",
    "\n",
    "print('will write filtered data to', days_nights_1workweek_filtered_output_filepath)"
   ]
  },
  {
   "cell_type": "code",
   "execution_count": 38,
   "metadata": {},
   "outputs": [
    {
     "name": "stdout",
     "output_type": "stream",
     "text": [
      "filtered data rows: 525828\n",
      "avg users per tract: 34.826687116564415\n",
      "writing filtered output to  ./data/mount/201805/filtered/20180507_20180511/county_middlesex_norfolk_suffolk_3days_3nights.csv\n"
     ]
    }
   ],
   "source": [
    "keep_users = user_3days_3nights_df[DEVICE_ID].unique()\n",
    "\n",
    "workweek_days_nights_filtered_df = df[df[DEVICE_ID].isin(keep_users)].drop(TIMESTAMP_DAY, axis=1)\n",
    "print('filtered data rows:', workweek_days_nights_filtered_df.shape[0])\n",
    "print('avg users per tract:', len(keep_users)/652)\n",
    "\n",
    "print('writing filtered output to ', days_nights_1workweek_filtered_output_filepath)\n",
    "workweek_days_nights_filtered_df.to_csv(days_nights_1workweek_filtered_output_filepath, index=False)"
   ]
  }
 ],
 "metadata": {
  "kernelspec": {
   "display_name": "Python 3",
   "language": "python",
   "name": "python3"
  },
  "language_info": {
   "codemirror_mode": {
    "name": "ipython",
    "version": 3
   },
   "file_extension": ".py",
   "mimetype": "text/x-python",
   "name": "python",
   "nbconvert_exporter": "python",
   "pygments_lexer": "ipython3",
   "version": "3.7.1"
  }
 },
 "nbformat": 4,
 "nbformat_minor": 2
}

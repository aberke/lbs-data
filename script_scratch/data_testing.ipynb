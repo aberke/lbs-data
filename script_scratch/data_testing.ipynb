{
 "cells": [
  {
   "cell_type": "code",
   "execution_count": 2,
   "metadata": {},
   "outputs": [],
   "source": [
    "\"\"\"\n",
    "Mount the remote disk to work with data.\n",
    "\n",
    "(Note this is for given MSA 14460)\n",
    "\n",
    "sudo sshfs -o allow_other,defer_permissions \\\n",
    "USER@matlaber1.media.mit.edu:/REMOTE_DATA_PATH \\\n",
    "/LOCAL_DATA_PATH/\n",
    "\n",
    "later...\n",
    "sudo umount /LOCAL_DATA_PATH/\n",
    "\n",
    "\"\"\"\n",
    "import matplotlib.pyplot as plt\n",
    "from matplotlib.ticker import StrMethodFormatter\n",
    "import pandas as pd\n",
    "\n",
    "\n",
    "data_path = \"../data/mount/201902/\""
   ]
  },
  {
   "cell_type": "code",
   "execution_count": 3,
   "metadata": {},
   "outputs": [
    {
     "name": "stdout",
     "output_type": "stream",
     "text": [
      "(8348279, 7)\n"
     ]
    }
   ],
   "source": [
    "# Read in the data of interest.\n",
    "\n",
    "# How is this different than the other files?\n",
    "filename_14460_201902 = \"14460_201902.csv\"\n",
    "filepath = data_path + filename_14460_201902\n",
    "df_14460_201902 = pd.read_csv(filepath)\n",
    "print(df_14460_201902.shape)"
   ]
  },
  {
   "cell_type": "code",
   "execution_count": 9,
   "metadata": {},
   "outputs": [
    {
     "name": "stdout",
     "output_type": "stream",
     "text": [
      "unique device ids: 273750\n"
     ]
    }
   ],
   "source": [
    "DEVICE_ID = 'device ID'\n",
    "# update the columns to use 'device ID instead of LBS provider name'\n",
    "df_14460_201902.rename(columns={df_14460_201902.columns[2]:DEVICE_ID}, inplace=True)\n",
    "\n",
    "unique_device_ids = df_14460_201902[DEVICE_ID].nunique()\n",
    "print('unique device ids:', unique_device_ids)"
   ]
  },
  {
   "cell_type": "code",
   "execution_count": 10,
   "metadata": {},
   "outputs": [
    {
     "data": {
      "text/plain": [
       "count    8.348279e+06\n",
       "mean     3.018497e+02\n",
       "std      1.029048e+03\n",
       "min      2.000000e+00\n",
       "25%      1.022000e+01\n",
       "50%      5.265000e+01\n",
       "75%      2.667700e+02\n",
       "max      4.335632e+04\n",
       "Name: DwellTime, dtype: float64"
      ]
     },
     "execution_count": 10,
     "metadata": {},
     "output_type": "execute_result"
    }
   ],
   "source": [
    "# Histogram of dwell times\n",
    "dwell_times = df_14460_201902.DwellTime\n",
    "dwell_times.describe()"
   ]
  },
  {
   "cell_type": "code",
   "execution_count": 11,
   "metadata": {},
   "outputs": [
    {
     "name": "stdout",
     "output_type": "stream",
     "text": [
      "number of long dwell times (>1 hr): 64596\n"
     ]
    }
   ],
   "source": [
    "# There are many longer dwell times\n",
    "# 64596 are more than 1hr (3600)\n",
    "long_dwell_times = dwell_times[dwell_times > 3600]\n",
    "print('number of long dwell times (>1 hr):', long_dwell_times.shape[0])"
   ]
  },
  {
   "cell_type": "code",
   "execution_count": 12,
   "metadata": {},
   "outputs": [
    {
     "data": {
      "text/plain": [
       "count    273750.000000\n",
       "mean         30.495996\n",
       "std          43.804200\n",
       "min           1.000000\n",
       "25%           3.000000\n",
       "50%          12.000000\n",
       "75%          41.000000\n",
       "max         832.000000\n",
       "Name: device ID, dtype: float64"
      ]
     },
     "execution_count": 12,
     "metadata": {},
     "output_type": "execute_result"
    }
   ],
   "source": [
    "# Histogram of occurances of each device id\n",
    "device_occurances = df_14460_201902[DEVICE_ID].value_counts(ascending=True)\n",
    "device_occurances.describe()"
   ]
  },
  {
   "cell_type": "code",
   "execution_count": 14,
   "metadata": {},
   "outputs": [
    {
     "data": {
      "image/png": "[encoded data removed]",
      "text/plain": [
       "<Figure size 864x576 with 1 Axes>"
      ]
     },
     "metadata": {
      "needs_background": "light"
     },
     "output_type": "display_data"
    }
   ],
   "source": [
    "ax = device_occurances.hist(bins=25, grid=False, figsize=(12,8), color='#86bf91', zorder=2, rwidth=0.9)\n",
    "x=ax\n",
    "# Despine\n",
    "x.spines['right'].set_visible(False)\n",
    "x.spines['top'].set_visible(False)\n",
    "x.spines['left'].set_visible(False)\n",
    "\n",
    "# Switch off ticks\n",
    "x.tick_params(axis=\"both\", which=\"both\", bottom=\"off\", top=\"off\", labelbottom=\"on\", left=\"off\", right=\"off\", labelleft=\"on\")\n",
    "\n",
    "# Draw horizontal axis lines\n",
    "vals = x.get_yticks()\n",
    "for tick in vals:\n",
    "    x.axhline(y=tick, linestyle='dashed', alpha=0.4, color='#eeeeee', zorder=1)\n",
    "\n",
    "# Remove title\n",
    "x.set_title(\"Number of occurances for unique device ids\")\n",
    "\n",
    "# Set x-axis label\n",
    "x.set_xlabel(\"Occurances\", labelpad=20, weight='bold', size=12)\n",
    "\n",
    "# Set y-axis label\n",
    "x.set_ylabel(\"device ids\", labelpad=20, weight='bold', size=12)\n",
    "\n",
    "# Format y-axis label\n",
    "x.yaxis.set_major_formatter(StrMethodFormatter('{x:,g}'))"
   ]
  },
  {
   "cell_type": "code",
   "execution_count": 15,
   "metadata": {},
   "outputs": [
    {
     "data": {
      "text/plain": [
       "count    273750.000000\n",
       "mean         30.495996\n",
       "std          43.804200\n",
       "min           1.000000\n",
       "25%           3.000000\n",
       "50%          12.000000\n",
       "75%          41.000000\n",
       "max         832.000000\n",
       "Name: device ID, dtype: float64"
      ]
     },
     "execution_count": 15,
     "metadata": {},
     "output_type": "execute_result"
    }
   ],
   "source": [
    "device_occurances.describe()"
   ]
  }
 ],
 "metadata": {
  "kernelspec": {
   "display_name": "Python 3",
   "language": "python",
   "name": "python3"
  },
  "language_info": {
   "codemirror_mode": {
    "name": "ipython",
    "version": 3
   },
   "file_extension": ".py",
   "mimetype": "text/x-python",
   "name": "python",
   "nbconvert_exporter": "python",
   "pygments_lexer": "ipython3",
   "version": "3.7.1"
  }
 },
 "nbformat": 4,
 "nbformat_minor": 2
}

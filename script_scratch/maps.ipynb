{
 "cells": [
  {
   "cell_type": "code",
   "execution_count": null,
   "metadata": {},
   "outputs": [],
   "source": [
    "\"\"\"\n",
    "Filter the ACS dataset to match LBS data area\n",
    "Make choropleth map for home location density -- for later visual comparison to LBS data\n",
    "\n",
    "Smaller steps:\n",
    "- read in ACS dataset\n",
    "- read in shapefile\n",
    "- prune the files to only include columns of interest, rename columns to be readable\n",
    "- join the files on census area\n",
    "\"\"\"\n",
    "\n",
    "import geopandas\n",
    "import matplotlib.pyplot as plt\n",
    "import numpy as np\n",
    "import pandas as pd\n",
    "\n",
    "# for saving the map figures\n",
    "DPI = 300\n",
    "output_dir = './results/maps/'\n",
    "\n",
    "GEOGRAPHY = 'Geography'\n",
    "\n",
    "COUNTY_SUBDIVISION_GEOID = \"COUNTY SUBDIV GEOID\"\n",
    "TRACT_GEOID = 'TRACT GEOID'\n",
    "BLOCKGROUP_GEOID = 'BLOCKGROUP GEOID'\n"
   ]
  },
  {
   "cell_type": "markdown",
   "metadata": {},
   "source": [
    "# Population density for county subdivision"
   ]
  },
  {
   "cell_type": "code",
   "execution_count": null,
   "metadata": {},
   "outputs": [],
   "source": [
    "acs_census_county_subdivisions_filepath = \"./data/ACS/ma_acs_5_year_census_county_subdivisions_2017/ACS_17_5YR_B01003_with_ann.csv\"\n",
    "acs_census_county_subdivisions_df = pd.read_csv(acs_census_county_subdivisions_filepath)\n",
    "print(acs_census_county_subdivisions_df.shape)\n",
    "acs_census_county_subdivisions_df.head(3)"
   ]
  },
  {
   "cell_type": "code",
   "execution_count": null,
   "metadata": {},
   "outputs": [],
   "source": [
    "# drop the Id column because it is unneeded.\n",
    "acs_census_county_subdivisions_df.drop(columns=['Id'], inplace=True)\n",
    "# rename important geoid column that will be used for merge/join\n",
    "acs_census_county_subdivisions_df.rename(columns={'Id2': COUNTY_SUBDIVISION_GEOID}, inplace=True)\n",
    "print(acs_census_county_subdivisions_df.shape)\n",
    "acs_census_county_subdivisions_df.head()"
   ]
  },
  {
   "cell_type": "code",
   "execution_count": null,
   "metadata": {},
   "outputs": [],
   "source": [
    "# Read in shapefile\n",
    "census_county_subdivisions_shapefile_filepath = \"./shapefiles/ma/middlesex-suffolk-norfolk-countysubdivisions.shp\"\n",
    "census_county_subdivisions_shapefile = geopandas.read_file(census_county_subdivisions_shapefile_filepath)\n",
    "print(census_county_subdivisions_shapefile.shape)\n",
    "census_county_subdivisions_shapefile.head(5)"
   ]
  },
  {
   "cell_type": "code",
   "execution_count": null,
   "metadata": {},
   "outputs": [],
   "source": [
    "# Update the GEOID column to match the ACS data \n",
    "census_county_subdivisions_shapefile.rename(columns={'GEOID': COUNTY_SUBDIVISION_GEOID}, inplace=True)\n",
    "census_county_subdivisions_shapefile[COUNTY_SUBDIVISION_GEOID] = census_county_subdivisions_shapefile.astype({COUNTY_SUBDIVISION_GEOID: 'int64'})[COUNTY_SUBDIVISION_GEOID]\n",
    "# Merge the population data with the shapefile\n",
    "census_county_subdivisions_shapefile_data_merged = census_county_subdivisions_shapefile.set_index(COUNTY_SUBDIVISION_GEOID).join(acs_census_county_subdivisions_df.set_index(COUNTY_SUBDIVISION_GEOID))\n",
    "census_county_subdivisions_shapefile_data_merged.sort_values(by=['Estimate; Total'], ascending=False, inplace=True)\n",
    "# Add a variable for population density\n",
    "AREA = \"ALAND\"\n",
    "POPULATION_ESTIMATE = \"Estimate; Total\"\n",
    "POPULATION_ESTIMATE_DENSITY = \"POP_ESTIMATE_DENSITY\"\n",
    "\n",
    "\n",
    "census_county_subdivisions_shapefile_data_merged[POPULATION_ESTIMATE_DENSITY] = census_county_subdivisions_shapefile_data_merged[POPULATION_ESTIMATE]/census_county_subdivisions_shapefile_data_merged[AREA]\n",
    "census_county_subdivisions_shapefile_data_merged.dropna(inplace=True)\n",
    "\n",
    "# create figure and axes for Matplotlib\n",
    "fig, ax = plt.subplots(1, figsize=(15, 10))\n",
    "# create map\n",
    "census_county_subdivisions_shapefile_data_merged.plot(column=POPULATION_ESTIMATE_DENSITY, legend=True, ax=ax) #, cmap='Blues', linewidth=0.8, edgecolor='0.8')\n",
    "# remove the axis\n",
    "ax.axis('off')\n",
    "# add a title\n",
    "title = 'Population density by county subdivision'\n",
    "ax.set_title(title, fontdict={'fontsize': '25', 'fontweight' : '3'})\n",
    "# create an annotation for the data source\n",
    "annotation = 'Source: ACS 5-year estimates, 2017'\n",
    "ax.annotate(annotation, xy=(0.1, .08),  xycoords='figure fraction', horizontalalignment='left', verticalalignment='top', fontsize=12, color='#555555')\n",
    "census_county_subdivisions_shapefile_data_merged.head()"
   ]
  },
  {
   "cell_type": "code",
   "execution_count": null,
   "metadata": {},
   "outputs": [],
   "source": [
    "# Make and save a pruned version of this file that has only\n",
    "# boston, brookline, cambridge, somerville\n",
    "keep_names = ['boston', 'brookline', 'cambridge', 'somerville']\n",
    "bos_brook_camb_som_county_subdivisions_shapefile_data = census_county_subdivisions_shapefile_data_merged[census_county_subdivisions_shapefile_data_merged['NAME'].str.lower().isin(keep_names)]\n",
    "# Save this pruned map\n",
    "output_filepath = \"./shapefiles/ma/boston-brookline-cambridge-somerville_countysubdivisions.shp\"\n",
    "bos_brook_camb_som_county_subdivisions_shapefile_data.to_file(output_filepath)\n",
    "\n",
    "# map it.  Create figure and axes for Matplotlib\n",
    "fig, ax = plt.subplots(1, figsize=(15, 10))\n",
    "# create map\n",
    "bos_brook_camb_som_county_subdivisions_shapefile_data.plot(column=POPULATION_ESTIMATE_DENSITY, legend=True, ax=ax) #, cmap='Blues', linewidth=0.8, edgecolor='0.8')\n",
    "# remove the axis\n",
    "ax.axis('off')\n",
    "# add a title\n",
    "title = 'Population density by county subdivision'\n",
    "subtitle = '(Boston, Brookline, Cambridge, Somerville)'\n",
    "fig.suptitle(title + '\\n' + subtitle, fontsize=18)\n",
    "# ax.set_title(title, fontdict={'fontsize': '18', 'fontweight' : '3'})\n",
    "# create an annotation for the data source\n",
    "annotation = 'Source: ACS 5-year estimates, 2017'\n",
    "ax.annotate(annotation, xy=(0.1, .08),  xycoords='figure fraction', horizontalalignment='left', verticalalignment='top', fontsize=12, color='#555555')\n",
    "bos_brook_camb_som_county_subdivisions_shapefile_data.head()"
   ]
  },
  {
   "cell_type": "markdown",
   "metadata": {},
   "source": [
    "# Census Tracts"
   ]
  },
  {
   "cell_type": "code",
   "execution_count": null,
   "metadata": {},
   "outputs": [],
   "source": [
    "acs_census_tracts_data_filepath = \"./data/ACS/ma_acs_5_year_census_tracts_2017/ACS_17_5YR_B01003_with_ann.csv\"\n",
    "acs_census_tracts_df = pd.read_csv(acs_census_tracts_data_filepath)\n",
    "acs_census_tracts_df.head(3)"
   ]
  },
  {
   "cell_type": "code",
   "execution_count": null,
   "metadata": {},
   "outputs": [],
   "source": [
    "# drop the Id column because it is unneeded.\n",
    "acs_census_tracts_df.drop(columns=['Id'], inplace=True)\n",
    "# rename important geoid column that will be used for merge/join\n",
    "acs_census_tracts_df.rename(columns={'Id2': TRACT_GEOID}, inplace=True)\n",
    "acs_census_tracts_df.head(3)"
   ]
  },
  {
   "cell_type": "code",
   "execution_count": null,
   "metadata": {},
   "outputs": [],
   "source": [
    "# Read in shapefile\n",
    "# For better visualization for now, limited higher density areas close to home\n",
    "census_tracts_shapefile_filepath = \"./shapefiles/ma/boston-brookline-cambridge-somerville_tract.shp\"\n",
    "census_tracts_shapefile = geopandas.read_file(census_tracts_shapefile_filepath)\n",
    "census_tracts_shapefile.plot()\n",
    "census_tracts_shapefile.head(3)"
   ]
  },
  {
   "cell_type": "code",
   "execution_count": null,
   "metadata": {},
   "outputs": [],
   "source": [
    "# Set coordinate system\n",
    "census_tracts_shapefile = census_tracts_shapefile.to_crs(epsg=4326)\n",
    "# Update the census tract GEOID column to match the ACS data \n",
    "census_tracts_shapefile.rename(columns={'GEOID10': TRACT_GEOID}, inplace=True)\n",
    "census_tracts_shapefile[TRACT_GEOID] = census_tracts_shapefile.astype({TRACT_GEOID: 'int64'})[TRACT_GEOID]\n",
    "census_tracts_shapefile.plot()\n",
    "census_tracts_shapefile.head(3)"
   ]
  },
  {
   "cell_type": "code",
   "execution_count": null,
   "metadata": {},
   "outputs": [],
   "source": [
    "merged_tracts_data_shapefile = census_tracts_shapefile.set_index(TRACT_GEOID).join(acs_census_tracts_df.set_index(TRACT_GEOID))\n",
    "merged_tracts_data_shapefile.plot()\n",
    "merged_tracts_data_shapefile.sort_values(by=['Estimate; Total'], ascending=False, inplace=True)\n",
    "merged_tracts_data_shapefile.head(3)"
   ]
  },
  {
   "cell_type": "code",
   "execution_count": null,
   "metadata": {},
   "outputs": [],
   "source": [
    "# Add a variable for population density\n",
    "AREA_ACRES = \"AREA_ACRES\"\n",
    "AREA_SQFT = \"AREA_SQFT\"\n",
    "POPULATION_ESTIMATE = \"Estimate; Total\"\n",
    "POPULATION_ESTIMATE_DENSITY_PER_ACRE = \"POP_ESTIMATE_DENSITY_PER_ACRE\"\n",
    "\n",
    "\n",
    "merged_tracts_data_shapefile[POPULATION_ESTIMATE_DENSITY_PER_ACRE] = merged_tracts_data_shapefile[POPULATION_ESTIMATE]/merged_tracts_data_shapefile[AREA_ACRES]\n",
    "\n",
    "# create figure and axes for Matplotlib\n",
    "fig, ax = plt.subplots(1, figsize=(15, 10))\n",
    "# create map\n",
    "merged_tracts_data_shapefile.plot(column=POPULATION_ESTIMATE_DENSITY_PER_ACRE, legend=True, ax=ax) #, cmap='Blues', linewidth=0.8, edgecolor='0.8')\n",
    "# remove the axis\n",
    "ax.axis('off')\n",
    "# add a title\n",
    "title = 'Population density by census tract (people per acre)'\n",
    "ax.set_title(title, fontdict={'fontsize': '25', 'fontweight' : '3'})\n",
    "# create an annotation for the data source\n",
    "annotation = 'Source: ACS 5-year estimates, 2017'\n",
    "ax.annotate(annotation, xy=(0.1, .08),  xycoords='figure fraction', horizontalalignment='left', verticalalignment='top', fontsize=12, color='#555555')\n",
    "\n",
    "merged_tracts_data_shapefile.head(3)"
   ]
  },
  {
   "cell_type": "code",
   "execution_count": null,
   "metadata": {},
   "outputs": [],
   "source": [
    "# save the map\n",
    "filename = 'acs-population-density-census-tract-bos-brook-cam-som.png'\n",
    "filepath = output_dir + filename\n",
    "print('saving map to %s' % filepath)\n",
    "fig.savefig(filepath,  dpi=DPI)"
   ]
  },
  {
   "cell_type": "markdown",
   "metadata": {},
   "source": [
    "# Census Block Group"
   ]
  },
  {
   "cell_type": "code",
   "execution_count": null,
   "metadata": {},
   "outputs": [],
   "source": [
    "acs_blockgroups_data_filepath = \"./data/ACS/ma_acs_5_year_census_block_group_2017/ACS_17_5YR_B02001_with_ann.csv\"\n",
    "acs_blockgroups_df = pd.read_csv(acs_blockgroups_data_filepath)\n",
    "print(acs_blockgroups_df.shape)\n",
    "acs_blockgroups_df.head(3)"
   ]
  },
  {
   "cell_type": "code",
   "execution_count": null,
   "metadata": {},
   "outputs": [],
   "source": [
    "# drop the Id column because it is unneeded.\n",
    "acs_blockgroups_df.drop(columns=['Id'], inplace=True)\n",
    "# rename important geoid column that will be used for merge/join\n",
    "acs_blockgroups_df.rename(columns={'Id2': BLOCKGROUP_GEOID}, inplace=True)\n",
    "acs_blockgroups_df.head(3)"
   ]
  },
  {
   "cell_type": "code",
   "execution_count": null,
   "metadata": {},
   "outputs": [],
   "source": [
    "# For now only keep race info for how many white and black people there are.\n",
    "POPULATION_ESTIMATE_TOTAL = 'Estimate; Total:'\n",
    "POPULATION_MARGIN_OF_ERROR_TOTAL = 'Margin of Error; Total:'\n",
    "POPULATION_ESTIMATE_WHITE = 'Estimate; Total: - White alone'\n",
    "POPULATION_MARGIN_OF_ERROR_WHITE = 'Margin of Error; Total: - White alone'\n",
    "POPULATION_ESTIMATE_BLACK = 'Estimate; Total: - Black or African American alone'\n",
    "POPULATION_MARGIN_OF_ERROR_BLACK = 'Margin of Error; Total: - Black or African American alone'\n",
    "POPULATION_ESTIMATE_OTHER = 'Estimate; Total: All the others! Including mixrace households'\n",
    "\n",
    "# For now only keep race info for how many white and black people there are.\n",
    "acs_blockgroups_df = acs_blockgroups_df[[BLOCKGROUP_GEOID, GEOGRAPHY, \n",
    "                                         POPULATION_ESTIMATE_TOTAL, POPULATION_MARGIN_OF_ERROR_TOTAL, \n",
    "                                         POPULATION_ESTIMATE_WHITE, POPULATION_MARGIN_OF_ERROR_WHITE,\n",
    "                                         POPULATION_ESTIMATE_BLACK, POPULATION_MARGIN_OF_ERROR_BLACK]]\n",
    "# make column for everyone else...\n",
    "acs_blockgroups_df[POPULATION_ESTIMATE_OTHER] = acs_blockgroups_df[POPULATION_ESTIMATE_TOTAL] - acs_blockgroups_df[POPULATION_ESTIMATE_WHITE] - acs_blockgroups_df[POPULATION_ESTIMATE_BLACK]\n",
    "acs_blockgroups_df.head(3)"
   ]
  },
  {
   "cell_type": "code",
   "execution_count": null,
   "metadata": {},
   "outputs": [],
   "source": [
    "# Read in shapefile\n",
    "# For better visualization for now, limited higher density areas close to home\n",
    "blockgroups_shapefile_filepath = \"./shapefiles/ma/boston-brookline-cambridge-somerville_blockgroup.shp\"\n",
    "blockgroups_shapefile = geopandas.read_file(blockgroups_shapefile_filepath)\n",
    "# Set coordinate system\n",
    "blockgroups_shapefile = blockgroups_shapefile.to_crs(epsg=4326)\n",
    "# Update the census tract GEOID column to match the ACS data \n",
    "blockgroups_shapefile.rename(columns={'GEOID10': BLOCKGROUP_GEOID}, inplace=True)\n",
    "blockgroups_shapefile[BLOCKGROUP_GEOID] = blockgroups_shapefile.astype({BLOCKGROUP_GEOID: 'int64'})[BLOCKGROUP_GEOID]\n",
    "blockgroups_shapefile.plot()\n",
    "print(blockgroups_shapefile.shape)\n",
    "blockgroups_shapefile.head(3)"
   ]
  },
  {
   "cell_type": "code",
   "execution_count": null,
   "metadata": {},
   "outputs": [],
   "source": [
    "merged_blockgroups_data_shapefile = blockgroups_shapefile.set_index(BLOCKGROUP_GEOID).join(acs_blockgroups_df.set_index(BLOCKGROUP_GEOID))\n",
    "merged_blockgroups_data_shapefile.plot()\n",
    "fig, ax = plt.subplots(1, figsize=(15, 10))\n",
    "merged_blockgroups_data_shapefile.sort_values(by=['Estimate; Total:'], ascending=False, inplace=True)\n",
    "merged_blockgroups_data_shapefile.head(3)"
   ]
  },
  {
   "cell_type": "code",
   "execution_count": null,
   "metadata": {},
   "outputs": [],
   "source": [
    "# Map population density\n",
    "AREA_ACRES = \"AREA_ACRES\"\n",
    "AREA_SQFT = \"AREA_SQFT\"\n",
    "POPULATION_ESTIMATE = \"Estimate; Total:\"\n",
    "# Add a variable for population density\n",
    "POPULATION_ESTIMATE_DENSITY_PER_ACRE = \"POP_ESTIMATE_DENSITY_PER_ACRE\"\n",
    "\n",
    "\n",
    "merged_blockgroups_data_shapefile[POPULATION_ESTIMATE_DENSITY_PER_ACRE] = merged_blockgroups_data_shapefile[POPULATION_ESTIMATE]/merged_blockgroups_data_shapefile[AREA_ACRES]\n",
    "\n",
    "# create figure and axes for Matplotlib\n",
    "fig, ax = plt.subplots(1, figsize=(15, 10))\n",
    "# create map\n",
    "merged_blockgroups_data_shapefile.plot(column=POPULATION_ESTIMATE_DENSITY_PER_ACRE, legend=True, ax=ax) #, cmap='Blues', linewidth=0.8, edgecolor='0.8')\n",
    "# remove the axis\n",
    "ax.axis('off')\n",
    "# add a title\n",
    "title = 'Population density by census block group (people per acre)'\n",
    "ax.set_title(title, fontdict={'fontsize': '25', 'fontweight' : '3'})\n",
    "# create an annotation for the data source\n",
    "annotation = 'Source: ACS 5-year estimates, 2017'\n",
    "ax.annotate(annotation, xy=(0.1, .08),  xycoords='figure fraction', horizontalalignment='left', verticalalignment='top', fontsize=12, color='#555555')\n",
    "\n",
    "merged_blockgroups_data_shapefile.head(3)"
   ]
  },
  {
   "cell_type": "code",
   "execution_count": null,
   "metadata": {},
   "outputs": [],
   "source": [
    "# save the map\n",
    "filename = 'acs-population-density-census-blockgroup-bos-brook-cam-som.png'\n",
    "filepath = output_dir + filename\n",
    "print('saving map to %s' % filepath)\n",
    "fig.savefig(filepath,  dpi=DPI)"
   ]
  },
  {
   "cell_type": "markdown",
   "metadata": {},
   "source": [
    "## Compare the ACS to the LBS data\n",
    "\n",
    "- load in the inferred homes (census block group) data (for given time period)\n",
    "- create aggregate df mapping LBS inferred census area --> user count\n",
    "- join this aggregated LBS data with the merged census area data shapefile\n",
    "- (this should limit the data to estimates for same areas for LBS and ACS data)\n",
    "\n",
    "- scale the LBS data:\n",
    "\n",
    "Calculate what proportion of the area's population the LBS dataset represents. \n",
    "- LBS sample = all LBS data users with inferred homes in area\n",
    "- ACS population = total population in area that was estimated by ACS/census\n",
    "- proportion = (LBS sample ) / ACS population\n",
    "- Scaling parameter = 1/proportion\n",
    "\n",
    "Scale the aggregated LBS home location data by the scaling parameter to match the total population\n",
    "\n",
    "#### Visualize:\n",
    "\n",
    "Population density\n",
    "- map the population density based on the LBS data\n",
    "- compare to map of population based on ACS population estimates\n",
    "\n",
    "Margins of error\n",
    "- TODO....\n"
   ]
  },
  {
   "cell_type": "code",
   "execution_count": null,
   "metadata": {},
   "outputs": [],
   "source": [
    "# - load in the inferred homes (blockgroup) data (for given time period)\n",
    "\n",
    "# variables for dataset\n",
    "\n",
    "DEVICE_ID = \"device ID\"\n",
    "\n",
    "INFERRED_HOME_BLOCKGROUP_GEOID = \"inferred home census blockgroup geoid\"\n",
    "USER_COUNT = \"device ID count\"\n",
    "\n",
    "filepath = '../data/mount/201805/filtered/filtered_14460_201805_inferred_homes_blockgroup_bos_brook_cam_som.csv'\n",
    "lbs_inferred_homes_blockgroup_df = geopandas.read_file(filepath)\n",
    "print(lbs_inferred_homes_blockgroup_df.shape)\n",
    "# lbs_inferred_homes_blockgroup_df.head(2)"
   ]
  },
  {
   "cell_type": "code",
   "execution_count": null,
   "metadata": {},
   "outputs": [],
   "source": [
    "# - create aggregate df mapping LBS inferred blockgroup --> user count\n",
    "# - i.e. map inferred home census area geoid to number of users\n",
    "# - make DF with columns: INFERRED_HOME_BLOCKGROUP_GEOID, USER_COUNT\n",
    "\n",
    "\n",
    "inferred_home_geoids = lbs_inferred_homes_blockgroup_df[INFERRED_HOME_BLOCKGROUP_GEOID].unique()\n",
    "inferred_home_geoids_user_count = []\n",
    "for geoid in inferred_home_geoids:\n",
    "    geoid_df = lbs_inferred_homes_blockgroup_df[lbs_inferred_homes_blockgroup_df[INFERRED_HOME_BLOCKGROUP_GEOID] == geoid]\n",
    "    user_count = geoid_df[DEVICE_ID].nunique()\n",
    "    inferred_home_geoids_user_count.append(user_count)\n",
    "\n",
    "lbs_inferred_homes_blockgroup_count_df = pd.DataFrame.from_dict({\n",
    "    INFERRED_HOME_BLOCKGROUP_GEOID: inferred_home_geoids,\n",
    "    USER_COUNT: inferred_home_geoids_user_count,\n",
    "})\n",
    "print(lbs_inferred_homes_blockgroup_count_df.shape)\n",
    "lbs_inferred_homes_blockgroup_count_df.head()"
   ]
  },
  {
   "cell_type": "code",
   "execution_count": null,
   "metadata": {},
   "outputs": [],
   "source": [
    "# join this aggregated LBS data with the merged census data shapefile\n",
    "# (this should limit the data to estimates for same areas for LBS and ACS data)\n",
    "\n",
    "# first must make join keys the same\n",
    "lbs_inferred_homes_blockgroup_count_df[INFERRED_HOME_BLOCKGROUP_GEOID] = lbs_inferred_homes_blockgroup_count_df.astype({INFERRED_HOME_BLOCKGROUP_GEOID: 'int64'})[INFERRED_HOME_BLOCKGROUP_GEOID]\n",
    "\n",
    "merged_acs_lbs_blockgroup_data_shapefile = merged_blockgroups_data_shapefile.join(lbs_inferred_homes_blockgroup_count_df.set_index(INFERRED_HOME_BLOCKGROUP_GEOID), how='inner')\n",
    "# merged_acs_lbs_tracts_data_shapefile = lbs_inferred_homes_tract_count_df.join(merged_tracts_data_shapefile, on=INFERRED_HOME_TRACT_GEOID)\n",
    "print(merged_acs_lbs_blockgroup_data_shapefile.shape)\n",
    "merged_acs_lbs_blockgroup_data_shapefile.head()"
   ]
  },
  {
   "cell_type": "code",
   "execution_count": null,
   "metadata": {},
   "outputs": [],
   "source": [
    "# scale the LBS data:\n",
    "\n",
    "# Calculate what proportion of the area's population the LBS dataset represents.\n",
    "\n",
    "# LBS sample = all LBS data users with inferred homes in area\n",
    "# ACS population = total population in area that was estimated by ACS/census\n",
    "# proportion = (LBS sample ) / ACS population\n",
    "# Scaling parameter = 1/proportion\n",
    "\n",
    "LBS_POPULATION_ESTIMATE = 'LBS population estimate'\n",
    "\n",
    "lbs_sample_size = merged_acs_lbs_blockgroup_data_shapefile[USER_COUNT].sum()\n",
    "acs_population_size = merged_acs_lbs_blockgroup_data_shapefile[POPULATION_ESTIMATE].sum()\n",
    "proportion = lbs_sample_size/acs_population_size\n",
    "scaling_parameter = 1/proportion\n",
    "print('scaling LBS user counts by %s to get %s' % (scaling_parameter, LBS_POPULATION_ESTIMATE))\n",
    "merged_acs_lbs_blockgroup_data_shapefile[LBS_POPULATION_ESTIMATE] = merged_acs_lbs_blockgroup_data_shapefile[USER_COUNT].multiply(scaling_parameter)\n",
    "merged_acs_lbs_blockgroup_data_shapefile.head()"
   ]
  },
  {
   "cell_type": "markdown",
   "metadata": {},
   "source": [
    "## Visualize"
   ]
  },
  {
   "cell_type": "code",
   "execution_count": null,
   "metadata": {},
   "outputs": [],
   "source": [
    "# Add LBS estimated population density\n",
    "\n",
    "LBS_POPULATION_ESTIMATE_DENSITY_PER_ACRE = 'LBS_POPULATION_ESTIMATE_DENSITY_PER_ACRE'\n",
    "\n",
    "merged_acs_lbs_blockgroup_data_shapefile[LBS_POPULATION_ESTIMATE_DENSITY_PER_ACRE] = merged_acs_lbs_blockgroup_data_shapefile[LBS_POPULATION_ESTIMATE]/merged_acs_lbs_blockgroup_data_shapefile[AREA_ACRES]\n",
    "# create figure and axes for Matplotlib\n",
    "fig, ax = plt.subplots(1, figsize=(15, 10))\n",
    "# create map\n",
    "merged_acs_lbs_blockgroup_data_shapefile.plot(column=LBS_POPULATION_ESTIMATE_DENSITY_PER_ACRE, legend=True, ax=ax)\n",
    "# remove the axis\n",
    "ax.axis('off')\n",
    "# add a title\n",
    "title = 'Estimated population density by census tract'\n",
    "ax.set_title(title, fontdict={'fontsize': '25', 'fontweight' : '3'})\n",
    "# create an annotation for the data source\n",
    "annotation = 'Source: LBS data for May 2018'\n",
    "ax.annotate(annotation, xy=(0.1, .08),  xycoords='figure fraction', horizontalalignment='left', verticalalignment='top', fontsize=12, color='#555555')\n",
    "\n",
    "merged_acs_lbs_blockgroup_data_shapefile.head(3)"
   ]
  },
  {
   "cell_type": "code",
   "execution_count": null,
   "metadata": {},
   "outputs": [],
   "source": [
    "# Save this ugly map\n",
    "filename = 'lbs-population-density-census-blockgroup-bos-brook-cam-som.png'\n",
    "filepath = output_dir + filename\n",
    "print('saving map to %s' % filepath)\n",
    "fig.savefig(filepath,  dpi=DPI)"
   ]
  },
  {
   "cell_type": "code",
   "execution_count": null,
   "metadata": {},
   "outputs": [],
   "source": [
    "# Add a column for the difference between ACS vs LBS estimates, and map it.\n",
    "ESTIMATE_DIFFERENCE = 'ACS vs LBS estimate difference (blockgroup)'\n",
    "\n",
    "merged_acs_lbs_blockgroup_data_shapefile[ESTIMATE_DIFFERENCE] = (merged_acs_lbs_blockgroup_data_shapefile[LBS_POPULATION_ESTIMATE] - merged_acs_lbs_blockgroup_data_shapefile[POPULATION_ESTIMATE])\n",
    "# map the difference\n",
    "# create figure and axes for Matplotlib\n",
    "fig, ax = plt.subplots(1, figsize=(15, 10))\n",
    "# remove the axis\n",
    "ax.axis('off')\n",
    "# add a title\n",
    "title = 'ACS vs LBS estimate differences'\n",
    "ax.set_title(title, fontdict={'fontsize': '25', 'fontweight' : '3'})\n",
    "# create an annotation for the data source\n",
    "annotation = 'Source: ACS 5-year 2017; LBS data for May 2018'\n",
    "ax.annotate(annotation, xy=(0.1, .08),  xycoords='figure fraction', horizontalalignment='left', verticalalignment='top', fontsize=12, color='#555555')\n",
    "merged_acs_lbs_blockgroup_data_shapefile.plot(column=ESTIMATE_DIFFERENCE, legend=True, ax=ax)\n",
    "merged_acs_lbs_blockgroup_data_shapefile.head(10)"
   ]
  },
  {
   "cell_type": "code",
   "execution_count": null,
   "metadata": {},
   "outputs": [],
   "source": [
    "# Save this ugly map\n",
    "filename = 'acs-lbs-population-diff-census-blockgroup-bos-brook-cam-som.png'\n",
    "filepath = output_dir + filename\n",
    "print('saving map to %s' % filepath)\n",
    "fig.savefig(filepath,  dpi=DPI)"
   ]
  },
  {
   "cell_type": "markdown",
   "metadata": {},
   "source": [
    "What is the correlation between the ACS population estimate and the LBS user count per census area?"
   ]
  },
  {
   "cell_type": "code",
   "execution_count": null,
   "metadata": {},
   "outputs": [],
   "source": [
    "from sklearn.linear_model import LinearRegression"
   ]
  },
  {
   "cell_type": "code",
   "execution_count": null,
   "metadata": {},
   "outputs": [],
   "source": [
    "# Create linear regression object.\n",
    "lr_home_areas = LinearRegression()\n",
    "\n",
    "df_user_count_population_est = merged_acs_lbs_blockgroup_data_shapefile[[USER_COUNT, POPULATION_ESTIMATE]]\n",
    "\n",
    "# Fit linear regression.\n",
    "lr_home_areas.fit(df_user_count_population_est[[USER_COUNT]], df_user_count_population_est[POPULATION_ESTIMATE])\n",
    "\n",
    "# Get the slope and intercept of the line best fit.\n",
    "print(lr_home_areas.intercept_)\n",
    "print(lr_home_areas.coef_)\n",
    "\n",
    "df_user_count_population_est.head()"
   ]
  },
  {
   "cell_type": "code",
   "execution_count": null,
   "metadata": {},
   "outputs": [],
   "source": [
    "df_user_count_population_est.corr()"
   ]
  }
 ],
 "metadata": {
  "kernelspec": {
   "display_name": "Python 3",
   "language": "python",
   "name": "python3"
  },
  "language_info": {
   "codemirror_mode": {
    "name": "ipython",
    "version": 3
   },
   "file_extension": ".py",
   "mimetype": "text/x-python",
   "name": "python",
   "nbconvert_exporter": "python",
   "pygments_lexer": "ipython3",
   "version": "3.7.1"
  }
 },
 "nbformat": 4,
 "nbformat_minor": 2
}

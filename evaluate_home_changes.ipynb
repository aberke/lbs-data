{
 "cells": [
  {
   "cell_type": "markdown",
   "metadata": {},
   "source": [
    "Home areas are inferred for users based on where they spend most time in the nighttime hours.\n",
    "These inferences are made after filtering the dataset to users with enough datapoints, and to datapoints within a specified geographic region, *and* within a specified time period.\n",
    "\n",
    "Question:  How much do the inferred home areas change for users  across different  datasets that were filtered for different time periods?\n",
    "\n",
    "The below code is meant to answer that question.\n",
    "It is relevant for evaluating how well our trajectory synthesis models do when given home areas that they must produce location data for.\n"
   ]
  },
  {
   "cell_type": "code",
   "execution_count": 43,
   "metadata": {},
   "outputs": [],
   "source": [
    "import numpy as np\n",
    "import pandas as pd\n",
    "\n",
    "\n",
    "# Column names defined as variables\n",
    "DEVICE_ID = 'device ID'\n",
    "HOME_TRACT = 'home TRACT'\n",
    "\n",
    "# Compare the (user device ID -> inferred home TRACT) mapping between the following files\n",
    "# File 1: For 1st full work week in May 2018\n",
    "users_and_homes_file1 = './data/mount/201805/filtered/20180507_20180511/county_middlesex_norfolk_suffolk_3days_3nights_homes.csv'\n",
    "# File 2: For 2nd full work week in May 2018\n",
    "users_and_homes_file2 = './data/mount/201805/filtered/20180514_20180518/county_middlesex_norfolk_suffolk_3days_3nights_homes.csv'"
   ]
  },
  {
   "cell_type": "code",
   "execution_count": 44,
   "metadata": {},
   "outputs": [],
   "source": [
    "# Read in the data\n",
    "user_homes1_df = pd.read_csv(users_and_homes_file1)\n",
    "user_homes2_df = pd.read_csv(users_and_homes_file2)"
   ]
  },
  {
   "cell_type": "markdown",
   "metadata": {},
   "source": [
    "Join the datasets, only keeping data for user device IDs that occur in both datasets"
   ]
  },
  {
   "cell_type": "code",
   "execution_count": 54,
   "metadata": {},
   "outputs": [
    {
     "name": "stdout",
     "output_type": "stream",
     "text": [
      "number of users in file 1: 22673\n",
      "number of users in file 2: 22522\n",
      "number of users in both file 1 and file 2: 14076\n",
      "portion of users in file 1 that are also in file 2: 14076/22673 = 0.6208265337626252\n"
     ]
    }
   ],
   "source": [
    "# Merge the data\n",
    "joined_user_homes_df = pd.merge(user_homes1_df, user_homes2_df, how=\"inner\", on=DEVICE_ID, suffixes=(' 1', ' 2'))\n",
    "\n",
    "u1 = user_homes1_df.shape[0]\n",
    "u2 = user_homes2_df.shape[0]\n",
    "u_joined = joined_user_homes_df.shape[0]\n",
    "print('number of users in file 1: %s' % u1)\n",
    "print('number of users in file 2: %s' % u2)\n",
    "\n",
    "print('number of users in both file 1 and file 2: %s' % u_joined)\n",
    "print('portion of users in file 1 that are also in file 2: %s/%s = %s' % (u_joined, u1, (u_joined/u1)))"
   ]
  },
  {
   "cell_type": "markdown",
   "metadata": {},
   "source": [
    "For what portion of the remaining users do the inferred homes match across the datasets?"
   ]
  },
  {
   "cell_type": "code",
   "execution_count": 55,
   "metadata": {},
   "outputs": [
    {
     "name": "stdout",
     "output_type": "stream",
     "text": [
      "total users: 14076\n",
      "users with inferred homes matching across datasets: 12860\n",
      "portion (users with matching homes)/(total users) = (12860)/(14076) = 0.9136118215402103\n"
     ]
    }
   ],
   "source": [
    "total_users_count = joined_user_homes_df.shape[0]\n",
    "matching_homes_df = joined_user_homes_df[joined_user_homes_df[HOME_TRACT + ' 1']==joined_user_homes_df[HOME_TRACT + ' 2']]\n",
    "matching_homes_users_count = matching_homes_df.shape[0]\n",
    "print('total users: %s' % total_users_count)\n",
    "print('users with inferred homes matching across datasets: %s' % matching_homes_users_count)\n",
    "print('portion (users with matching homes)/(total users) = (%s)/(%s) = %s' % \\\n",
    "      (matching_homes_users_count, total_users_count, (matching_homes_users_count/total_users_count)))\n"
   ]
  },
  {
   "cell_type": "code",
   "execution_count": null,
   "metadata": {},
   "outputs": [],
   "source": []
  }
 ],
 "metadata": {
  "kernelspec": {
   "display_name": "Python 3",
   "language": "python",
   "name": "python3"
  },
  "language_info": {
   "codemirror_mode": {
    "name": "ipython",
    "version": 3
   },
   "file_extension": ".py",
   "mimetype": "text/x-python",
   "name": "python",
   "nbconvert_exporter": "python",
   "pygments_lexer": "ipython3",
   "version": "3.7.1"
  }
 },
 "nbformat": 4,
 "nbformat_minor": 2
}

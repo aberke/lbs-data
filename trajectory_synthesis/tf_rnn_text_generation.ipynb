{
 "cells": [
  {
   "cell_type": "markdown",
   "metadata": {
    "colab_type": "text",
    "id": "t09eeeR5prIJ"
   },
   "source": [
    "##### Copyright 2019 The TensorFlow Authors."
   ]
  },
  {
   "cell_type": "code",
   "execution_count": 91,
   "metadata": {
    "cellView": "form",
    "colab": {},
    "colab_type": "code",
    "id": "GCCk8_dHpuNf"
   },
   "outputs": [],
   "source": [
    "#@title Licensed under the Apache License, Version 2.0 (the \"License\");\n",
    "# you may not use this file except in compliance with the License.\n",
    "# You may obtain a copy of the License at\n",
    "#\n",
    "# https://www.apache.org/licenses/LICENSE-2.0\n",
    "#\n",
    "# Unless required by applicable law or agreed to in writing, software\n",
    "# distributed under the License is distributed on an \"AS IS\" BASIS,\n",
    "# WITHOUT WARRANTIES OR CONDITIONS OF ANY KIND, either express or implied.\n",
    "# See the License for the specific language governing permissions and\n",
    "# limitations under the License."
   ]
  },
  {
   "cell_type": "markdown",
   "metadata": {
    "colab_type": "text",
    "id": "ovpZyIhNIgoq"
   },
   "source": [
    "# Text generation with an RNN"
   ]
  },
  {
   "cell_type": "markdown",
   "metadata": {
    "colab_type": "text",
    "id": "BwpJ5IffzRG6"
   },
   "source": [
    "We borrowed this code from the following Google TF notebook: https://github.com/tensorflow/docs/blob/master/site/en/tutorials/text/text_generation.ipynb\n",
    "\n",
    "This was a tutorial to demonstrate how to generate text using a character-based RNN.  The example text was Shakespeare.\n",
    "\n",
    "We modified the notebook for our data and specific needs."
   ]
  },
  {
   "cell_type": "markdown",
   "metadata": {
    "colab_type": "text",
    "id": "srXC6pLGLwS6"
   },
   "source": [
    "## Setup"
   ]
  },
  {
   "cell_type": "markdown",
   "metadata": {
    "colab_type": "text",
    "id": "WGyKZj3bzf9p"
   },
   "source": [
    "### Import TensorFlow and other libraries"
   ]
  },
  {
   "cell_type": "code",
   "execution_count": 36,
   "metadata": {
    "colab": {},
    "colab_type": "code",
    "id": "yG_n40gFzf9s"
   },
   "outputs": [],
   "source": [
    "from __future__ import absolute_import, division, print_function, unicode_literals\n",
    "\n",
    "try:\n",
    "  # %tensorflow_version only exists in Colab.\n",
    "  %tensorflow_version 2.x\n",
    "except Exception:\n",
    "  pass\n",
    "import tensorflow as tf\n",
    "tf.enable_eager_execution()\n",
    "\n",
    "import numpy as np\n",
    "import os\n",
    "import time"
   ]
  },
  {
   "cell_type": "code",
   "execution_count": 37,
   "metadata": {},
   "outputs": [
    {
     "name": "stdout",
     "output_type": "stream",
     "text": [
      "1.13.1\n"
     ]
    }
   ],
   "source": [
    "print(tf.__version__)"
   ]
  },
  {
   "cell_type": "markdown",
   "metadata": {
    "colab_type": "text",
    "id": "EHDoRoc5PKWz"
   },
   "source": [
    "### Download the Shakespeare dataset\n",
    "\n",
    "Change the following line to run this code on your own data."
   ]
  },
  {
   "cell_type": "code",
   "execution_count": 38,
   "metadata": {
    "colab": {},
    "colab_type": "code",
    "id": "pD_55cOxLkAb"
   },
   "outputs": [],
   "source": [
    "path_to_file = './data/relabeled_trajectories_1_workweek.txt'"
   ]
  },
  {
   "cell_type": "markdown",
   "metadata": {
    "colab_type": "text",
    "id": "UHjdCjDuSvX_"
   },
   "source": [
    "### Read the data\n",
    "\n",
    "First, look in the text:"
   ]
  },
  {
   "cell_type": "code",
   "execution_count": 39,
   "metadata": {
    "colab": {},
    "colab_type": "code",
    "id": "aavnuByVymwK"
   },
   "outputs": [
    {
     "name": "stdout",
     "output_type": "stream",
     "text": [
      "Length of text: 8316581 characters\n",
      "using %s characters from text 8316581\n"
     ]
    }
   ],
   "source": [
    "# Read, then decode for py2 compat.\n",
    "text = open(path_to_file, 'rb').read().decode(encoding='utf-8')\n",
    "# length of text is the number of characters in it\n",
    "text_len = len(text)\n",
    "print ('Length of text: {} characters'.format(text_len))\n",
    "# This is too long for this machine to handle.  Take just a portion of it.\n",
    "# text = text[:text_len]  # // 2]\n",
    "print ('using %s characters from text', len(text))"
   ]
  },
  {
   "cell_type": "code",
   "execution_count": 40,
   "metadata": {
    "colab": {},
    "colab_type": "code",
    "id": "Duhg9NrUymwO"
   },
   "outputs": [
    {
     "name": "stdout",
     "output_type": "stream",
     "text": [
      "1 2 1 1 1 1 1 1 1 2 2 2 2 2 2 2 1 1 1 1 1 1 1 1 1 1 1 1 1 1 1 1 1 2 2 2 2 2 2 2 2 1 1 1 1 1 1 1 1 1 1 1 1 1 1 1 1 2 2 2 2 2 2 2 3 3 1 1 1 1 1 1 1 1 1 1 1 1 1 1 1 2 2 2 2 2 2 2 1 1 1 4 1 1 1 1 1 1 1 1 1 1 1 1 1 2 2 2 2 2 2 2 1 1 1 1 1 1 0 0 0 0\n",
      "5 5 5 5 5 5 5 5 5 5 5 5 5 5 5 5 5 5 5 5 5 0 0 0 5 5 5 5 5 5 5 5 5 5 5 5 5 5 0 0 0 0 6 6 6 0 0 0 0 5 5 5 5 5 5 5 5 5 5 5 5 5 5 0 5 0 7 7 8 9 0 5 5 5 5 5 5 5 5 5 5 5 5 5 5 5 10 5 5 5 0 11 11 0 11 11 0 5 5 5 5 5 5 5 5 5 5 5 5 5 5 5 5 5 0 0 0 0 0 0 0 0\n",
      "12 12 12 12 12 12 12 12 12 12 12 12 13 13 2 14 12 12 12 0 12 12 12 12 12 12 12 12 12 12 12 12 12 12 12 12 13 13 15 15 12 12 12 12 12 3 12 12 12 12 12 12 12 12 12 12 12 12 12 12 12 13 13 3 \n"
     ]
    }
   ],
   "source": [
    "# Take a look at the first 250 characters in text\n",
    "print(text[:681])"
   ]
  },
  {
   "cell_type": "code",
   "execution_count": 41,
   "metadata": {
    "colab": {},
    "colab_type": "code",
    "id": "IlCgQBRVymwR"
   },
   "outputs": [
    {
     "name": "stdout",
     "output_type": "stream",
     "text": [
      "['0', '1', '10', '100', '101', '102', '103', '104', '105', '106', '107', '108', '109', '11', '110', '111', '112', '113', '114', '115', '116', '117', '118', '119', '12', '120', '121', '122', '123', '124', '125', '126', '127', '128', '129', '13', '130', '131', '132', '133', '134', '135', '136', '137', '138', '139', '14', '140', '141', '142', '143', '144', '145', '146', '147', '148', '149', '15', '150', '151', '152', '153', '154', '155', '156', '157', '158', '159', '16', '160', '161', '162', '163', '164', '165', '166', '167', '168', '169', '17', '170', '171', '172', '173', '174', '175', '176', '177', '178', '179', '18', '180', '181', '182', '183', '184', '185', '186', '187', '188', '189', '19', '190', '191', '192', '193', '194', '195', '196', '197', '198', '199', '2', '20', '200', '201', '202', '203', '204', '205', '206', '207', '208', '209', '21', '210', '211', '212', '213', '214', '215', '216', '217', '218', '219', '22', '220', '221', '222', '223', '224', '225', '226', '227', '228', '229', '23', '230', '231', '232', '233', '234', '235', '236', '237', '238', '239', '24', '240', '241', '242', '243', '244', '245', '246', '247', '248', '249', '25', '250', '251', '252', '253', '254', '255', '256', '257', '258', '259', '26', '260', '261', '262', '263', '264', '265', '266', '267', '268', '269', '27', '270', '271', '272', '273', '274', '275', '276', '277', '278', '279', '28', '280', '281', '282', '283', '284', '285', '286', '287', '288', '289', '29', '290', '291', '292', '293', '294', '295', '296', '297', '298', '299', '3', '30', '300', '301', '302', '303', '304', '305', '306', '307', '308', '309', '31', '310', '311', '312', '313', '314', '315', '316', '317', '318', '319', '32', '320', '321', '322', '323', '324', '325', '326', '327', '328', '329', '33', '330', '331', '332', '333', '334', '335', '336', '337', '338', '339', '34', '340', '341', '342', '343', '344', '345', '346', '347', '348', '349', '35', '350', '351', '352', '353', '354', '355', '356', '357', '358', '359', '36', '360', '361', '362', '363', '364', '365', '366', '367', '368', '369', '37', '370', '371', '372', '373', '374', '375', '376', '377', '378', '379', '38', '380', '381', '382', '383', '384', '385', '386', '387', '388', '389', '39', '390', '391', '392', '393', '394', '395', '396', '397', '398', '399', '4', '40', '400', '401', '402', '403', '404', '405', '406', '407', '408', '409', '41', '410', '411', '412', '413', '414', '415', '416', '417', '418', '419', '42', '420', '421', '422', '423', '424', '425', '426', '427', '428', '429', '43', '430', '431', '432', '433', '434', '435', '436', '437', '438', '439', '44', '440', '441', '442', '443', '444', '445', '446', '447', '448', '449', '45', '450', '451', '452', '453', '454', '455', '456', '457', '458', '459', '46', '460', '461', '462', '463', '464', '465', '466', '467', '468', '469', '47', '470', '471', '472', '473', '474', '475', '476', '477', '478', '479', '48', '480', '481', '482', '483', '484', '485', '486', '487', '488', '489', '49', '490', '491', '492', '493', '494', '495', '496', '497', '498', '499', '5', '50', '500', '501', '502', '503', '504', '505', '506', '507', '508', '509', '51', '510', '511', '512', '513', '514', '515', '516', '517', '518', '519', '52', '520', '521', '522', '523', '524', '525', '526', '527', '528', '529', '53', '530', '531', '532', '533', '534', '535', '536', '537', '538', '539', '54', '540', '541', '542', '543', '544', '545', '546', '547', '548', '549', '55', '550', '551', '552', '553', '554', '555', '556', '557', '558', '559', '56', '560', '561', '562', '563', '564', '565', '566', '567', '568', '569', '57', '570', '571', '572', '573', '574', '575', '576', '577', '578', '579', '58', '580', '581', '582', '583', '584', '585', '586', '587', '588', '589', '59', '590', '591', '592', '593', '594', '595', '596', '597', '598', '599', '6', '60', '600', '601', '602', '603', '604', '605', '606', '607', '608', '609', '61', '610', '611', '612', '613', '614', '615', '616', '617', '618', '619', '62', '620', '621', '622', '623', '624', '625', '626', '627', '628', '629', '63', '630', '631', '632', '633', '634', '635', '636', '637', '638', '639', '64', '640', '641', '642', '643', '644', '645', '646', '647', '648', '649', '65', '650', '651', '66', '67', '68', '69', '7', '70', '71', '72', '73', '74', '75', '76', '77', '78', '79', '8', '80', '81', '82', '83', '84', '85', '86', '87', '88', '89', '9', '90', '91', '92', '93', '94', '95', '96', '97', '98', '99']\n",
      "652 unique characters\n"
     ]
    }
   ],
   "source": [
    "# The unique characters in the file\n",
    "vocab = sorted(set(text.split()))\n",
    "print(vocab)\n",
    "print ('{} unique characters'.format(len(vocab)))"
   ]
  },
  {
   "cell_type": "markdown",
   "metadata": {
    "colab_type": "text",
    "id": "rNnrKn_lL-IJ"
   },
   "source": [
    "## Process the text"
   ]
  },
  {
   "cell_type": "markdown",
   "metadata": {
    "colab_type": "text",
    "id": "LFjSVAlWzf-N"
   },
   "source": [
    "### Vectorize the text\n",
    "\n",
    "Before training, we need to map strings to a numerical representation. Create two lookup tables: one mapping characters to numbers, and another for numbers to characters."
   ]
  },
  {
   "cell_type": "code",
   "execution_count": 42,
   "metadata": {
    "colab": {},
    "colab_type": "code",
    "id": "IalZLbvOzf-F"
   },
   "outputs": [
    {
     "name": "stdout",
     "output_type": "stream",
     "text": [
      "{'0': 0, '1': 1, '10': 2, '100': 3, '101': 4, '102': 5, '103': 6, '104': 7, '105': 8, '106': 9, '107': 10, '108': 11, '109': 12, '11': 13, '110': 14, '111': 15, '112': 16, '113': 17, '114': 18, '115': 19, '116': 20, '117': 21, '118': 22, '119': 23, '12': 24, '120': 25, '121': 26, '122': 27, '123': 28, '124': 29, '125': 30, '126': 31, '127': 32, '128': 33, '129': 34, '13': 35, '130': 36, '131': 37, '132': 38, '133': 39, '134': 40, '135': 41, '136': 42, '137': 43, '138': 44, '139': 45, '14': 46, '140': 47, '141': 48, '142': 49, '143': 50, '144': 51, '145': 52, '146': 53, '147': 54, '148': 55, '149': 56, '15': 57, '150': 58, '151': 59, '152': 60, '153': 61, '154': 62, '155': 63, '156': 64, '157': 65, '158': 66, '159': 67, '16': 68, '160': 69, '161': 70, '162': 71, '163': 72, '164': 73, '165': 74, '166': 75, '167': 76, '168': 77, '169': 78, '17': 79, '170': 80, '171': 81, '172': 82, '173': 83, '174': 84, '175': 85, '176': 86, '177': 87, '178': 88, '179': 89, '18': 90, '180': 91, '181': 92, '182': 93, '183': 94, '184': 95, '185': 96, '186': 97, '187': 98, '188': 99, '189': 100, '19': 101, '190': 102, '191': 103, '192': 104, '193': 105, '194': 106, '195': 107, '196': 108, '197': 109, '198': 110, '199': 111, '2': 112, '20': 113, '200': 114, '201': 115, '202': 116, '203': 117, '204': 118, '205': 119, '206': 120, '207': 121, '208': 122, '209': 123, '21': 124, '210': 125, '211': 126, '212': 127, '213': 128, '214': 129, '215': 130, '216': 131, '217': 132, '218': 133, '219': 134, '22': 135, '220': 136, '221': 137, '222': 138, '223': 139, '224': 140, '225': 141, '226': 142, '227': 143, '228': 144, '229': 145, '23': 146, '230': 147, '231': 148, '232': 149, '233': 150, '234': 151, '235': 152, '236': 153, '237': 154, '238': 155, '239': 156, '24': 157, '240': 158, '241': 159, '242': 160, '243': 161, '244': 162, '245': 163, '246': 164, '247': 165, '248': 166, '249': 167, '25': 168, '250': 169, '251': 170, '252': 171, '253': 172, '254': 173, '255': 174, '256': 175, '257': 176, '258': 177, '259': 178, '26': 179, '260': 180, '261': 181, '262': 182, '263': 183, '264': 184, '265': 185, '266': 186, '267': 187, '268': 188, '269': 189, '27': 190, '270': 191, '271': 192, '272': 193, '273': 194, '274': 195, '275': 196, '276': 197, '277': 198, '278': 199, '279': 200, '28': 201, '280': 202, '281': 203, '282': 204, '283': 205, '284': 206, '285': 207, '286': 208, '287': 209, '288': 210, '289': 211, '29': 212, '290': 213, '291': 214, '292': 215, '293': 216, '294': 217, '295': 218, '296': 219, '297': 220, '298': 221, '299': 222, '3': 223, '30': 224, '300': 225, '301': 226, '302': 227, '303': 228, '304': 229, '305': 230, '306': 231, '307': 232, '308': 233, '309': 234, '31': 235, '310': 236, '311': 237, '312': 238, '313': 239, '314': 240, '315': 241, '316': 242, '317': 243, '318': 244, '319': 245, '32': 246, '320': 247, '321': 248, '322': 249, '323': 250, '324': 251, '325': 252, '326': 253, '327': 254, '328': 255, '329': 256, '33': 257, '330': 258, '331': 259, '332': 260, '333': 261, '334': 262, '335': 263, '336': 264, '337': 265, '338': 266, '339': 267, '34': 268, '340': 269, '341': 270, '342': 271, '343': 272, '344': 273, '345': 274, '346': 275, '347': 276, '348': 277, '349': 278, '35': 279, '350': 280, '351': 281, '352': 282, '353': 283, '354': 284, '355': 285, '356': 286, '357': 287, '358': 288, '359': 289, '36': 290, '360': 291, '361': 292, '362': 293, '363': 294, '364': 295, '365': 296, '366': 297, '367': 298, '368': 299, '369': 300, '37': 301, '370': 302, '371': 303, '372': 304, '373': 305, '374': 306, '375': 307, '376': 308, '377': 309, '378': 310, '379': 311, '38': 312, '380': 313, '381': 314, '382': 315, '383': 316, '384': 317, '385': 318, '386': 319, '387': 320, '388': 321, '389': 322, '39': 323, '390': 324, '391': 325, '392': 326, '393': 327, '394': 328, '395': 329, '396': 330, '397': 331, '398': 332, '399': 333, '4': 334, '40': 335, '400': 336, '401': 337, '402': 338, '403': 339, '404': 340, '405': 341, '406': 342, '407': 343, '408': 344, '409': 345, '41': 346, '410': 347, '411': 348, '412': 349, '413': 350, '414': 351, '415': 352, '416': 353, '417': 354, '418': 355, '419': 356, '42': 357, '420': 358, '421': 359, '422': 360, '423': 361, '424': 362, '425': 363, '426': 364, '427': 365, '428': 366, '429': 367, '43': 368, '430': 369, '431': 370, '432': 371, '433': 372, '434': 373, '435': 374, '436': 375, '437': 376, '438': 377, '439': 378, '44': 379, '440': 380, '441': 381, '442': 382, '443': 383, '444': 384, '445': 385, '446': 386, '447': 387, '448': 388, '449': 389, '45': 390, '450': 391, '451': 392, '452': 393, '453': 394, '454': 395, '455': 396, '456': 397, '457': 398, '458': 399, '459': 400, '46': 401, '460': 402, '461': 403, '462': 404, '463': 405, '464': 406, '465': 407, '466': 408, '467': 409, '468': 410, '469': 411, '47': 412, '470': 413, '471': 414, '472': 415, '473': 416, '474': 417, '475': 418, '476': 419, '477': 420, '478': 421, '479': 422, '48': 423, '480': 424, '481': 425, '482': 426, '483': 427, '484': 428, '485': 429, '486': 430, '487': 431, '488': 432, '489': 433, '49': 434, '490': 435, '491': 436, '492': 437, '493': 438, '494': 439, '495': 440, '496': 441, '497': 442, '498': 443, '499': 444, '5': 445, '50': 446, '500': 447, '501': 448, '502': 449, '503': 450, '504': 451, '505': 452, '506': 453, '507': 454, '508': 455, '509': 456, '51': 457, '510': 458, '511': 459, '512': 460, '513': 461, '514': 462, '515': 463, '516': 464, '517': 465, '518': 466, '519': 467, '52': 468, '520': 469, '521': 470, '522': 471, '523': 472, '524': 473, '525': 474, '526': 475, '527': 476, '528': 477, '529': 478, '53': 479, '530': 480, '531': 481, '532': 482, '533': 483, '534': 484, '535': 485, '536': 486, '537': 487, '538': 488, '539': 489, '54': 490, '540': 491, '541': 492, '542': 493, '543': 494, '544': 495, '545': 496, '546': 497, '547': 498, '548': 499, '549': 500, '55': 501, '550': 502, '551': 503, '552': 504, '553': 505, '554': 506, '555': 507, '556': 508, '557': 509, '558': 510, '559': 511, '56': 512, '560': 513, '561': 514, '562': 515, '563': 516, '564': 517, '565': 518, '566': 519, '567': 520, '568': 521, '569': 522, '57': 523, '570': 524, '571': 525, '572': 526, '573': 527, '574': 528, '575': 529, '576': 530, '577': 531, '578': 532, '579': 533, '58': 534, '580': 535, '581': 536, '582': 537, '583': 538, '584': 539, '585': 540, '586': 541, '587': 542, '588': 543, '589': 544, '59': 545, '590': 546, '591': 547, '592': 548, '593': 549, '594': 550, '595': 551, '596': 552, '597': 553, '598': 554, '599': 555, '6': 556, '60': 557, '600': 558, '601': 559, '602': 560, '603': 561, '604': 562, '605': 563, '606': 564, '607': 565, '608': 566, '609': 567, '61': 568, '610': 569, '611': 570, '612': 571, '613': 572, '614': 573, '615': 574, '616': 575, '617': 576, '618': 577, '619': 578, '62': 579, '620': 580, '621': 581, '622': 582, '623': 583, '624': 584, '625': 585, '626': 586, '627': 587, '628': 588, '629': 589, '63': 590, '630': 591, '631': 592, '632': 593, '633': 594, '634': 595, '635': 596, '636': 597, '637': 598, '638': 599, '639': 600, '64': 601, '640': 602, '641': 603, '642': 604, '643': 605, '644': 606, '645': 607, '646': 608, '647': 609, '648': 610, '649': 611, '65': 612, '650': 613, '651': 614, '66': 615, '67': 616, '68': 617, '69': 618, '7': 619, '70': 620, '71': 621, '72': 622, '73': 623, '74': 624, '75': 625, '76': 626, '77': 627, '78': 628, '79': 629, '8': 630, '80': 631, '81': 632, '82': 633, '83': 634, '84': 635, '85': 636, '86': 637, '87': 638, '88': 639, '89': 640, '9': 641, '90': 642, '91': 643, '92': 644, '93': 645, '94': 646, '95': 647, '96': 648, '97': 649, '98': 650, '99': 651}\n"
     ]
    }
   ],
   "source": [
    "# Creating a mapping from unique characters to indices\n",
    "word2idx = {u:i for i, u in enumerate(vocab)}\n",
    "idx2word = np.array(vocab) # the backwards mapping of char2idx\n",
    "print(word2idx)"
   ]
  },
  {
   "cell_type": "code",
   "execution_count": 43,
   "metadata": {},
   "outputs": [
    {
     "name": "stdout",
     "output_type": "stream",
     "text": [
      "[0, 0, 0, 0, 0, 0, 0, 0, 0, 0, 0, 0, 0, 564, 0, 0, 0, 0, 0, 0, 0, 0, 0, 0, 0, 0, 0, 0, 0, 0, 0, 0, 0, 0, 0, 0, 0, 0, 0, 0, 0, 0, 0, 0, 0, 0, 0, 0, 0, 0, 0, 0, 0, 0, 0, 0, 0, 0, 0, 0, 0, 0, 0, 0, 0, 0, 0, 0, 0, 0, 0, 0, 0, 0, 0, 0, 0, 0, 0, 0, 0, 0, 0, 0, 0, 0, 0, 0, 0, 0, 0, 0, 0, 0, 0, 0, 0, 0, 0, 0, 0, 0, 0, 0, 0, 0, 0, 0, 0, 0, 0, 0, 0, 0, 0, 0, 0, 0, 0, 0, 0, 0]\n",
      "23183\n"
     ]
    }
   ],
   "source": [
    "def make_text_as_int_list(text):\n",
    "    results = []\n",
    "    # first split by new line '\\n'\n",
    "    lines = text.split('\\n')\n",
    "    for i, line in enumerate(lines):\n",
    "        line_results = []\n",
    "        area_list = line.split(' ')\n",
    "        area_indices_list = [word2idx[area] for area in area_list if area is not '']\n",
    "        for index in area_indices_list:\n",
    "            line_results.append(index)\n",
    "#             results.append(char2idx[' '])\n",
    "        results.append(line_results)  \n",
    "    return results\n",
    "\n",
    "vectorized = make_text_as_int_list(text)\n",
    "vectorized = vectorized[:len(vectorized)-1]\n",
    "print(vectorized[-1])\n",
    "print(len(vectorized))"
   ]
  },
  {
   "cell_type": "markdown",
   "metadata": {
    "colab_type": "text",
    "id": "tZfqhkYCymwX"
   },
   "source": [
    "Now we have an integer representation for each labeled area."
   ]
  },
  {
   "cell_type": "markdown",
   "metadata": {
    "colab_type": "text",
    "id": "bbmsf23Bymwe"
   },
   "source": [
    "### The prediction task"
   ]
  },
  {
   "cell_type": "markdown",
   "metadata": {
    "colab_type": "text",
    "id": "wssHQ1oGymwe"
   },
   "source": [
    "Given a character, or a sequence of characters, what is the most probable next character? This is the task we're training the model to perform. The input to the model will be a sequence of characters, and we train the model to predict the output—the following character at each time step.\n",
    "\n",
    "Since RNNs maintain an internal state that depends on the previously seen elements, given all the characters computed until this moment, what is the next character?\n"
   ]
  },
  {
   "cell_type": "markdown",
   "metadata": {
    "colab_type": "text",
    "id": "hgsVvVxnymwf"
   },
   "source": [
    "### Create training examples and targets\n",
    "\n",
    "##### NOTE: we don't necessarily add +1\n",
    "\n",
    "\n",
    "Next divide the text into example sequences. Each input sequence will contain `seq_length` characters from the text.\n",
    "\n",
    "For each input sequence, the corresponding targets contain the same length of text, except shifted one character to the right.\n",
    "\n",
    "So break the text into chunks of `seq_length+1`. For example, say `seq_length` is 4 and our text is \"Hello\". The input sequence would be \"Hell\", and the target sequence \"ello\".\n",
    "\n",
    "To do this first use the `tf.data.Dataset.from_tensor_slices` function to convert the text vector into a stream of character indices."
   ]
  },
  {
   "cell_type": "code",
   "execution_count": 44,
   "metadata": {
    "colab": {},
    "colab_type": "code",
    "id": "0UHJDA39zf-O"
   },
   "outputs": [
    {
     "name": "stdout",
     "output_type": "stream",
     "text": [
      "['1' '2' '1' '1' '1' '1' '1' '1' '1' '2' '2' '2' '2' '2' '2' '2' '1' '1'\n",
      " '1' '1' '1' '1' '1' '1' '1' '1' '1' '1' '1' '1' '1' '1' '1' '2' '2' '2'\n",
      " '2' '2' '2' '2' '2' '1' '1' '1' '1' '1' '1' '1' '1' '1' '1' '1' '1' '1'\n",
      " '1' '1' '1' '2' '2' '2' '2' '2' '2' '2' '3' '3' '1' '1' '1' '1' '1' '1'\n",
      " '1' '1' '1' '1' '1' '1' '1' '1' '1' '2' '2' '2' '2' '2' '2' '2' '1' '1'\n",
      " '1' '4' '1' '1' '1' '1' '1' '1' '1' '1' '1' '1' '1' '1' '1' '2' '2' '2'\n",
      " '2' '2' '2' '2' '1' '1' '1' '1' '1' '1' '0' '0' '0' '0']\n",
      "['5' '5' '5' '5' '5' '5' '5' '5' '5' '5' '5' '5' '5' '5' '5' '5' '5' '5'\n",
      " '5' '5' '5' '0' '0' '0' '5' '5' '5' '5' '5' '5' '5' '5' '5' '5' '5' '5'\n",
      " '5' '5' '0' '0' '0' '0' '6' '6' '6' '0' '0' '0' '0' '5' '5' '5' '5' '5'\n",
      " '5' '5' '5' '5' '5' '5' '5' '5' '5' '0' '5' '0' '7' '7' '8' '9' '0' '5'\n",
      " '5' '5' '5' '5' '5' '5' '5' '5' '5' '5' '5' '5' '5' '5' '10' '5' '5' '5'\n",
      " '0' '11' '11' '0' '11' '11' '0' '5' '5' '5' '5' '5' '5' '5' '5' '5' '5'\n",
      " '5' '5' '5' '5' '5' '5' '5' '0' '0' '0' '0' '0' '0' '0' '0']\n",
      "['12' '12' '12' '12' '12' '12' '12' '12' '12' '12' '12' '12' '13' '13' '2'\n",
      " '14' '12' '12' '12' '0' '12' '12' '12' '12' '12' '12' '12' '12' '12' '12'\n",
      " '12' '12' '12' '12' '12' '12' '13' '13' '15' '15' '12' '12' '12' '12'\n",
      " '12' '3' '12' '12' '12' '12' '12' '12' '12' '12' '12' '12' '12' '12' '12'\n",
      " '12' '12' '13' '13' '3' '16' '13' '12' '12' '12' '12' '12' '12' '12' '12'\n",
      " '12' '12' '12' '12' '12' '12' '12' '12' '12' '12' '12' '3' '15' '13' '12'\n",
      " '12' '12' '12' '12' '12' '12' '12' '12' '12' '12' '12' '12' '12' '12'\n",
      " '12' '12' '12' '12' '12' '17' '12' '12' '12' '12' '0' '0' '0' '0' '0' '0'\n",
      " '0' '0' '0']\n",
      "['16' '16' '0' '0' '0' '0' '0' '0' '0' '0' '16' '16' '16' '16' '16' '16'\n",
      " '16' '16' '16' '16' '3' '0' '0' '0' '0' '0' '0' '0' '0' '0' '0' '0' '0'\n",
      " '0' '16' '16' '16' '16' '16' '16' '16' '16' '16' '16' '16' '16' '16' '0'\n",
      " '0' '0' '0' '0' '0' '0' '0' '0' '0' '0' '0' '16' '16' '16' '18' '16' '16'\n",
      " '16' '16' '16' '0' '0' '0' '0' '0' '0' '0' '0' '0' '0' '0' '0' '0' '0'\n",
      " '16' '16' '16' '16' '19' '16' '16' '16' '20' '20' '20' '20' '20' '0' '0'\n",
      " '0' '0' '0' '0' '0' '0' '0' '0' '0' '16' '16' '16' '16' '16' '16' '16'\n",
      " '16' '16' '16' '16' '0' '0' '0' '0' '0']\n",
      "['21' '21' '21' '21' '21' '21' '21' '21' '21' '21' '21' '21' '21' '21'\n",
      " '21' '21' '22' '21' '23' '23' '21' '21' '21' '21' '21' '21' '21' '21'\n",
      " '21' '21' '21' '21' '21' '21' '21' '21' '21' '0' '21' '21' '21' '21' '21'\n",
      " '21' '21' '21' '21' '21' '21' '21' '21' '21' '21' '21' '21' '21' '21'\n",
      " '21' '21' '24' '21' '21' '21' '0' '0' '21' '21' '23' '21' '21' '21' '21'\n",
      " '21' '21' '21' '21' '21' '21' '21' '21' '21' '21' '21' '0' '21' '21' '21'\n",
      " '21' '0' '21' '21' '21' '21' '21' '25' '25' '21' '21' '21' '21' '21' '21'\n",
      " '21' '21' '21' '21' '21' '21' '21' '21' '21' '0' '0' '0' '21' '21' '0'\n",
      " '0' '0' '0' '0' '0']\n"
     ]
    }
   ],
   "source": [
    "\"\"\"\n",
    "TODO: we experiment  with what sequence length means!\n",
    "\"\"\"\n",
    "\n",
    "# The maximum length sentence we want for a single input in characters\n",
    "seq_length = 122\n",
    "# examples_per_epoch = len(vectorized)//(seq_length) # (seq_length+1)\n",
    "\n",
    "# Create training examples / targets\n",
    "dataset = tf.data.Dataset.from_tensor_slices(vectorized)\n",
    "\n",
    "for i in dataset.take(5):\n",
    "  print(idx2word[i.numpy()])"
   ]
  },
  {
   "cell_type": "markdown",
   "metadata": {
    "colab_type": "text",
    "id": "-ZSYAcQV8OGP"
   },
   "source": [
    "The `batch` method lets us easily convert these individual characters to sequences of the desired size."
   ]
  },
  {
   "cell_type": "markdown",
   "metadata": {
    "colab_type": "text",
    "id": "UbLcIPBj_mWZ"
   },
   "source": [
    "For each sequence, duplicate and shift it to form the input and target text by using the `map` method to apply a simple function to each batch:"
   ]
  },
  {
   "cell_type": "code",
   "execution_count": 45,
   "metadata": {
    "colab": {},
    "colab_type": "code",
    "id": "9NGu-FkO_kYU"
   },
   "outputs": [],
   "source": [
    "\"\"\"\n",
    "TODO: experiment with using -3/3 for chunking to represent home & work labels w/ space inbetween \n",
    "\n",
    "alsothis  might  not  be  right . because later get: `(500, 675, 654) # (batch_size, sequence_length, vocab_size)`\n",
    "\"\"\"\n",
    "\n",
    "def split_input_target(chunk):\n",
    "    input_text = chunk[:-1]\n",
    "    target_text = chunk[1:]\n",
    "    return input_text, target_text\n",
    "\n",
    "dataset = dataset.map(split_input_target)"
   ]
  },
  {
   "cell_type": "markdown",
   "metadata": {
    "colab_type": "text",
    "id": "hiCopyGZymwi"
   },
   "source": [
    "Print the first examples input and target values:"
   ]
  },
  {
   "cell_type": "code",
   "execution_count": 46,
   "metadata": {
    "colab": {},
    "colab_type": "code",
    "id": "GNbw-iR0ymwj"
   },
   "outputs": [
    {
     "name": "stdout",
     "output_type": "stream",
     "text": [
      "Input data:  tf.Tensor(\n",
      "[  1 112   1   1   1   1   1   1   1 112 112 112 112 112 112 112   1   1\n",
      "   1   1   1   1   1   1   1   1   1   1   1   1   1   1   1 112 112 112\n",
      " 112 112 112 112 112   1   1   1   1   1   1   1   1   1   1   1   1   1\n",
      "   1   1   1 112 112 112 112 112 112 112 223 223   1   1   1   1   1   1\n",
      "   1   1   1   1   1   1   1   1   1 112 112 112 112 112 112 112   1   1\n",
      "   1 334   1   1   1   1   1   1   1   1   1   1   1   1   1 112 112 112\n",
      " 112 112 112 112   1   1   1   1   1   1   0   0   0], shape=(121,), dtype=int32)\n",
      "Target data: tf.Tensor(\n",
      "[112   1   1   1   1   1   1   1 112 112 112 112 112 112 112   1   1   1\n",
      "   1   1   1   1   1   1   1   1   1   1   1   1   1   1 112 112 112 112\n",
      " 112 112 112 112   1   1   1   1   1   1   1   1   1   1   1   1   1   1\n",
      "   1   1 112 112 112 112 112 112 112 223 223   1   1   1   1   1   1   1\n",
      "   1   1   1   1   1   1   1   1 112 112 112 112 112 112 112   1   1   1\n",
      " 334   1   1   1   1   1   1   1   1   1   1   1   1   1 112 112 112 112\n",
      " 112 112 112   1   1   1   1   1   1   0   0   0   0], shape=(121,), dtype=int32)\n"
     ]
    }
   ],
   "source": [
    "for input_example, target_example in  dataset.take(1):\n",
    "  print('Input data: ', input_example)\n",
    "  print('Target data:', target_example)"
   ]
  },
  {
   "cell_type": "markdown",
   "metadata": {
    "colab_type": "text",
    "id": "_33OHL3b84i0"
   },
   "source": [
    "Each index of these vectors are processed as one time step. For the input at time step 0, the model receives the index for it and trys to predict the index for the next as the next character. At the next timestep, it does the same thing but the `RNN` considers the previous step context in addition to the current input character."
   ]
  },
  {
   "cell_type": "code",
   "execution_count": 47,
   "metadata": {
    "colab": {},
    "colab_type": "code",
    "id": "0eBu9WZG84i0"
   },
   "outputs": [
    {
     "name": "stdout",
     "output_type": "stream",
     "text": [
      "Step    0\n",
      "  input: 1 ('1')\n",
      "  expected output: 112 ('2')\n",
      "Step    1\n",
      "  input: 112 ('2')\n",
      "  expected output: 1 ('1')\n",
      "Step    2\n",
      "  input: 1 ('1')\n",
      "  expected output: 1 ('1')\n",
      "Step    3\n",
      "  input: 1 ('1')\n",
      "  expected output: 1 ('1')\n",
      "Step    4\n",
      "  input: 1 ('1')\n",
      "  expected output: 1 ('1')\n",
      "Step    5\n",
      "  input: 1 ('1')\n",
      "  expected output: 1 ('1')\n",
      "Step    6\n",
      "  input: 1 ('1')\n",
      "  expected output: 1 ('1')\n",
      "Step    7\n",
      "  input: 1 ('1')\n",
      "  expected output: 1 ('1')\n",
      "Step    8\n",
      "  input: 1 ('1')\n",
      "  expected output: 112 ('2')\n",
      "Step    9\n",
      "  input: 112 ('2')\n",
      "  expected output: 112 ('2')\n",
      "Step   10\n",
      "  input: 112 ('2')\n",
      "  expected output: 112 ('2')\n",
      "Step   11\n",
      "  input: 112 ('2')\n",
      "  expected output: 112 ('2')\n",
      "Step   12\n",
      "  input: 112 ('2')\n",
      "  expected output: 112 ('2')\n",
      "Step   13\n",
      "  input: 112 ('2')\n",
      "  expected output: 112 ('2')\n",
      "Step   14\n",
      "  input: 112 ('2')\n",
      "  expected output: 112 ('2')\n"
     ]
    }
   ],
   "source": [
    "for i, (input_idx, target_idx) in enumerate(zip(input_example[:15], target_example[:15])):\n",
    "    print(\"Step {:4d}\".format(i))\n",
    "    print(\"  input: {} ({:s})\".format(input_idx, repr(idx2word[input_idx])))\n",
    "    print(\"  expected output: {} ({:s})\".format(target_idx, repr(idx2word[target_idx])))"
   ]
  },
  {
   "cell_type": "markdown",
   "metadata": {
    "colab_type": "text",
    "id": "MJdfPmdqzf-R"
   },
   "source": [
    "### Create training batches\n",
    "\n",
    "We used `tf.data` to split the text into manageable sequences. But before feeding this data into the model, we need to shuffle the data and pack it into batches."
   ]
  },
  {
   "cell_type": "code",
   "execution_count": 48,
   "metadata": {
    "colab": {},
    "colab_type": "code",
    "id": "p2pGotuNzf-S"
   },
   "outputs": [
    {
     "data": {
      "text/plain": [
       "<DatasetV1Adapter shapes: ((64, 121), (64, 121)), types: (tf.int32, tf.int32)>"
      ]
     },
     "execution_count": 48,
     "metadata": {},
     "output_type": "execute_result"
    }
   ],
   "source": [
    "# Batch size\n",
    "BATCH_SIZE = 64\n",
    "\n",
    "# Buffer size to shuffle the dataset\n",
    "# (TF data is designed to work with possibly infinite sequences,\n",
    "# so it doesn't attempt to shuffle the entire sequence in memory. Instead,\n",
    "# it maintains a buffer in which it shuffles elements).\n",
    "BUFFER_SIZE = 10000\n",
    "\n",
    "dataset = dataset.shuffle(BUFFER_SIZE).batch(BATCH_SIZE, drop_remainder=True)\n",
    "\n",
    "dataset"
   ]
  },
  {
   "cell_type": "markdown",
   "metadata": {
    "colab_type": "text",
    "id": "r6oUuElIMgVx"
   },
   "source": [
    "## Build The Model"
   ]
  },
  {
   "cell_type": "markdown",
   "metadata": {
    "colab_type": "text",
    "id": "m8gPwEjRzf-Z"
   },
   "source": [
    "Use `tf.keras.Sequential` to define the model. For this simple example three layers are used to define our model:\n",
    "\n",
    "* `tf.keras.layers.Embedding`: The input layer. A trainable lookup table that will map the numbers of each character to a vector with `embedding_dim` dimensions;\n",
    "* `tf.keras.layers.GRU`: A type of RNN with size `units=rnn_units` (You can also use a LSTM layer here.)\n",
    "* `tf.keras.layers.Dense`: The output layer, with `vocab_size` outputs."
   ]
  },
  {
   "cell_type": "code",
   "execution_count": 49,
   "metadata": {
    "colab": {},
    "colab_type": "code",
    "id": "zHT8cLh7EAsg"
   },
   "outputs": [
    {
     "name": "stdout",
     "output_type": "stream",
     "text": [
      "652\n"
     ]
    }
   ],
   "source": [
    "# Length of the vocabulary in chars\n",
    "vocab_size = len(vocab)\n",
    "print(vocab_size)\n",
    "\n",
    "# The embedding dimension  -- TODO: experiment with this size\n",
    "embedding_dim = 256\n",
    "\n",
    "# Number of RNN units\n",
    "rnn_units = 1024"
   ]
  },
  {
   "cell_type": "code",
   "execution_count": 50,
   "metadata": {
    "colab": {},
    "colab_type": "code",
    "id": "MtCrdfzEI2N0"
   },
   "outputs": [],
   "source": [
    "def build_model(vocab_size, embedding_dim, rnn_units, batch_size):\n",
    "  model = tf.keras.Sequential([\n",
    "    tf.keras.layers.Embedding(vocab_size, embedding_dim,\n",
    "                              batch_input_shape=[batch_size, None]),\n",
    "    tf.keras.layers.GRU(rnn_units,\n",
    "                        return_sequences=True,\n",
    "                        stateful=True,\n",
    "                        recurrent_initializer='glorot_uniform'),\n",
    "    tf.keras.layers.Dense(vocab_size)\n",
    "  ])\n",
    "  return model"
   ]
  },
  {
   "cell_type": "code",
   "execution_count": 51,
   "metadata": {
    "colab": {},
    "colab_type": "code",
    "id": "wwsrpOik5zhv"
   },
   "outputs": [],
   "source": [
    "model = build_model(\n",
    "  vocab_size = len(vocab),\n",
    "  embedding_dim=embedding_dim,\n",
    "  rnn_units=rnn_units,\n",
    "  batch_size=BATCH_SIZE)"
   ]
  },
  {
   "cell_type": "markdown",
   "metadata": {
    "colab_type": "text",
    "id": "RkA5upJIJ7W7"
   },
   "source": [
    "For each character the model looks up the embedding, runs the GRU one timestep with the embedding as input, and applies the dense layer to generate logits predicting the log-likelihood of the next character:\n",
    "\n",
    "![A drawing of the data passing through the model](images/text_generation_training.png)"
   ]
  },
  {
   "cell_type": "markdown",
   "metadata": {
    "colab_type": "text",
    "id": "-ubPo0_9Prjb"
   },
   "source": [
    "## Try the model\n",
    "\n",
    "Now run the model to see that it behaves as expected.\n",
    "\n",
    "First check the shape of the output:"
   ]
  },
  {
   "cell_type": "code",
   "execution_count": 52,
   "metadata": {
    "colab": {},
    "colab_type": "code",
    "id": "C-_70kKAPrPU"
   },
   "outputs": [
    {
     "name": "stdout",
     "output_type": "stream",
     "text": [
      "64\n",
      "(64, 121, 652) # (batch_size, sequence_length, vocab_size)\n"
     ]
    }
   ],
   "source": [
    "for input_example_batch, target_example_batch in dataset.take(1):\n",
    "  print(len(input_example_batch))\n",
    "  example_batch_predictions = model(input_example_batch)\n",
    "  print(example_batch_predictions.shape, \"# (batch_size, sequence_length, vocab_size)\")"
   ]
  },
  {
   "cell_type": "markdown",
   "metadata": {
    "colab_type": "text",
    "id": "Q6NzLBi4VM4o"
   },
   "source": [
    "In the above example the sequence length of the input is `100` but the model can be run on inputs of any length:"
   ]
  },
  {
   "cell_type": "code",
   "execution_count": 53,
   "metadata": {
    "colab": {},
    "colab_type": "code",
    "id": "vPGmAAXmVLGC"
   },
   "outputs": [
    {
     "name": "stdout",
     "output_type": "stream",
     "text": [
      "_________________________________________________________________\n",
      "Layer (type)                 Output Shape              Param #   \n",
      "=================================================================\n",
      "embedding_2 (Embedding)      (64, None, 256)           166912    \n",
      "_________________________________________________________________\n",
      "gru_2 (GRU)                  (64, None, 1024)          3935232   \n",
      "_________________________________________________________________\n",
      "dense_2 (Dense)              (64, None, 652)           668300    \n",
      "=================================================================\n",
      "Total params: 4,770,444\n",
      "Trainable params: 4,770,444\n",
      "Non-trainable params: 0\n",
      "_________________________________________________________________\n"
     ]
    }
   ],
   "source": [
    "model.summary()"
   ]
  },
  {
   "cell_type": "markdown",
   "metadata": {
    "colab_type": "text",
    "id": "uwv0gEkURfx1"
   },
   "source": [
    "To get actual predictions from the model we need to sample from the output distribution, to get actual character indices. This distribution is defined by the logits over the character vocabulary.\n",
    "\n",
    "Note: It is important to _sample_ from this distribution as taking the _argmax_ of the distribution can easily get the model stuck in a loop.\n",
    "\n",
    "Try it for the first example in the batch:"
   ]
  },
  {
   "cell_type": "code",
   "execution_count": 54,
   "metadata": {
    "colab": {},
    "colab_type": "code",
    "id": "4V4MfFg0RQJg"
   },
   "outputs": [],
   "source": [
    "sampled_indices = tf.random.categorical(example_batch_predictions[0], num_samples=1)\n",
    "sampled_indices = tf.squeeze(sampled_indices,axis=-1).numpy()"
   ]
  },
  {
   "cell_type": "markdown",
   "metadata": {
    "colab_type": "text",
    "id": "QM1Vbxs_URw5"
   },
   "source": [
    "This gives us, at each timestep, a prediction of the next character index:"
   ]
  },
  {
   "cell_type": "code",
   "execution_count": 55,
   "metadata": {
    "colab": {},
    "colab_type": "code",
    "id": "YqFMUQc_UFgM"
   },
   "outputs": [
    {
     "data": {
      "text/plain": [
       "array([531, 482, 158, 564,   1, 623, 342,  80, 524, 392, 636, 380, 233,\n",
       "       280,  53, 308, 610, 164, 491, 388, 523,  42, 409,   1, 358, 268,\n",
       "       579,   9, 171, 557, 404,  10, 220, 203, 249, 284, 135, 518, 549,\n",
       "        77, 144,   9, 454, 405,  14, 498, 580, 600, 436, 328, 138, 619,\n",
       "        87,  70, 265, 183, 189, 281, 536,  44, 146,  71, 562, 496, 641,\n",
       "       345, 127,   5, 327, 332,   0, 151,  22, 491, 338, 291, 636, 568,\n",
       "       617,   7, 417, 463,  72, 261, 648,  97, 563, 603, 126, 157, 620,\n",
       "       347, 456, 100, 212, 477,  48, 271, 477, 530, 334, 454, 330, 140,\n",
       "       333, 426,  68, 252, 139, 112, 187, 542, 558,   4, 239, 344, 314,\n",
       "       106, 400,  19,  84])"
      ]
     },
     "execution_count": 55,
     "metadata": {},
     "output_type": "execute_result"
    }
   ],
   "source": [
    "sampled_indices"
   ]
  },
  {
   "cell_type": "code",
   "execution_count": 56,
   "metadata": {},
   "outputs": [
    {
     "data": {
      "text/plain": [
       "121"
      ]
     },
     "execution_count": 56,
     "metadata": {},
     "output_type": "execute_result"
    }
   ],
   "source": [
    "len(sampled_indices)"
   ]
  },
  {
   "cell_type": "markdown",
   "metadata": {
    "colab_type": "text",
    "id": "LfLtsP3mUhCG"
   },
   "source": [
    "Decode these to see the text predicted by this untrained model:"
   ]
  },
  {
   "cell_type": "code",
   "execution_count": 57,
   "metadata": {
    "colab": {},
    "colab_type": "code",
    "id": "xWcFwPwLSo05"
   },
   "outputs": [
    {
     "name": "stdout",
     "output_type": "stream",
     "text": [
      "Input: \n",
      " array(['548', '548', '548', '548', '548', '548', '548', '548', '548',\n",
      "       '548', '75', '548', '75', '75', '75', '75', '75', '75', '548',\n",
      "       '548', '0', '0', '0', '0', '0', '0', '0', '0', '0', '0', '0', '0',\n",
      "       '0', '0', '0', '194', '194', '194', '548', '0', '0', '0', '0', '0',\n",
      "       '0', '0', '0', '0', '0', '0', '0', '548', '548', '548', '548',\n",
      "       '548', '548', '548', '75', '75', '75', '0', '548', '548', '548',\n",
      "       '548', '316', '316', '548', '548', '548', '548', '548', '548',\n",
      "       '548', '548', '548', '548', '548', '548', '548', '548', '548',\n",
      "       '548', '194', '75', '75', '194', '548', '548', '479', '479', '548',\n",
      "       '548', '548', '548', '548', '548', '548', '548', '548', '548',\n",
      "       '548', '548', '548', '548', '548', '548', '548', '548', '548',\n",
      "       '501', '501', '548', '548', '548', '548', '0', '0', '0', '0'],\n",
      "      dtype='<U3')\n",
      "\n",
      "Next Char Predictions: \n",
      " array(['577', '532', '240', '606', '1', '73', '406', '170', '570', '451',\n",
      "       '85', '440', '308', '350', '146', '376', '648', '246', '540',\n",
      "       '448', '57', '136', '467', '1', '420', '34', '62', '106', '252',\n",
      "       '60', '462', '107', '297', '281', '322', '354', '22', '565', '593',\n",
      "       '168', '228', '106', '507', '463', '110', '547', '620', '639',\n",
      "       '491', '394', '222', '7', '177', '161', '337', '263', '269', '351',\n",
      "       '581', '138', '23', '162', '604', '545', '9', '409', '212', '102',\n",
      "       '393', '398', '0', '234', '118', '540', '402', '360', '85', '61',\n",
      "       '68', '104', '474', '515', '163', '333', '96', '186', '605', '641',\n",
      "       '211', '24', '70', '410', '509', '189', '29', '528', '141', '342',\n",
      "       '528', '576', '4', '507', '396', '224', '399', '482', '16', '325',\n",
      "       '223', '2', '267', '587', '600', '101', '313', '408', '381', '194',\n",
      "       '459', '115', '174'], dtype='<U3')\n"
     ]
    }
   ],
   "source": [
    "print(\"Input: \\n\", repr(idx2word[input_example_batch[0]]))\n",
    "print()\n",
    "print(\"Next Char Predictions: \\n\", repr(idx2word[sampled_indices ]))"
   ]
  },
  {
   "cell_type": "markdown",
   "metadata": {
    "colab_type": "text",
    "id": "LJL0Q0YPY6Ee"
   },
   "source": [
    "## Train the model"
   ]
  },
  {
   "cell_type": "markdown",
   "metadata": {
    "colab_type": "text",
    "id": "YCbHQHiaa4Ic"
   },
   "source": [
    "At this point the problem can be treated as a standard classification problem. Given the previous RNN state, and the input this time step, predict the class of the next character."
   ]
  },
  {
   "cell_type": "markdown",
   "metadata": {
    "colab_type": "text",
    "id": "trpqTWyvk0nr"
   },
   "source": [
    "### Attach an optimizer, and a loss function"
   ]
  },
  {
   "cell_type": "markdown",
   "metadata": {
    "colab_type": "text",
    "id": "UAjbjY03eiQ4"
   },
   "source": [
    "The standard `tf.keras.losses.sparse_categorical_crossentropy` loss function works in this case because it is applied across the last dimension of the predictions.\n",
    "\n",
    "Because our model returns logits, we need to set the `from_logits` flag.\n"
   ]
  },
  {
   "cell_type": "code",
   "execution_count": 58,
   "metadata": {
    "colab": {},
    "colab_type": "code",
    "id": "4HrXTACTdzY-"
   },
   "outputs": [
    {
     "name": "stdout",
     "output_type": "stream",
     "text": [
      "Prediction shape:  (64, 121, 652)  # (batch_size, sequence_length, vocab_size)\n",
      "scalar_loss:       6.4817295\n"
     ]
    }
   ],
   "source": [
    "def loss(labels, logits):\n",
    "  return tf.keras.losses.sparse_categorical_crossentropy(labels, logits, from_logits=True)\n",
    "\n",
    "example_batch_loss  = loss(target_example_batch, example_batch_predictions)\n",
    "print(\"Prediction shape: \", example_batch_predictions.shape, \" # (batch_size, sequence_length, vocab_size)\")\n",
    "print(\"scalar_loss:      \", example_batch_loss.numpy().mean())"
   ]
  },
  {
   "cell_type": "markdown",
   "metadata": {
    "colab_type": "text",
    "id": "jeOXriLcymww"
   },
   "source": [
    "Configure the training procedure using the `tf.keras.Model.compile` method. We'll use `tf.keras.optimizers.Adam` with default arguments and the loss function."
   ]
  },
  {
   "cell_type": "code",
   "execution_count": 59,
   "metadata": {
    "colab": {},
    "colab_type": "code",
    "id": "DDl1_Een6rL0"
   },
   "outputs": [],
   "source": [
    "model.compile(optimizer='adam', loss=loss)"
   ]
  },
  {
   "cell_type": "markdown",
   "metadata": {
    "colab_type": "text",
    "id": "ieSJdchZggUj"
   },
   "source": [
    "### Configure checkpoints"
   ]
  },
  {
   "cell_type": "markdown",
   "metadata": {
    "colab_type": "text",
    "id": "C6XBUUavgF56"
   },
   "source": [
    "Use a `tf.keras.callbacks.ModelCheckpoint` to ensure that checkpoints are saved during training:"
   ]
  },
  {
   "cell_type": "code",
   "execution_count": 60,
   "metadata": {
    "colab": {},
    "colab_type": "code",
    "id": "W6fWTriUZP-n"
   },
   "outputs": [],
   "source": [
    "# Directory where the checkpoints will be saved\n",
    "checkpoint_dir = './training_checkpoints_no_spaces'\n",
    "# Name of the checkpoint files\n",
    "checkpoint_prefix = os.path.join(checkpoint_dir, \"ckpt_{epoch}\")\n",
    "\n",
    "checkpoint_callback=tf.keras.callbacks.ModelCheckpoint(\n",
    "    filepath=checkpoint_prefix,\n",
    "    save_weights_only=True)"
   ]
  },
  {
   "cell_type": "markdown",
   "metadata": {
    "colab_type": "text",
    "id": "3Ky3F_BhgkTW"
   },
   "source": [
    "### Execute the training"
   ]
  },
  {
   "cell_type": "markdown",
   "metadata": {
    "colab_type": "text",
    "id": "IxdOA-rgyGvs"
   },
   "source": [
    "To keep training time reasonable, use 10 epochs to train the model. In Colab, set the runtime to GPU for faster training."
   ]
  },
  {
   "cell_type": "code",
   "execution_count": 61,
   "metadata": {
    "colab": {},
    "colab_type": "code",
    "id": "7yGBE2zxMMHs"
   },
   "outputs": [],
   "source": [
    "EPOCHS=100"
   ]
  },
  {
   "cell_type": "code",
   "execution_count": 62,
   "metadata": {
    "colab": {},
    "colab_type": "code",
    "id": "UK-hmKjYVoll",
    "scrolled": false
   },
   "outputs": [
    {
     "name": "stdout",
     "output_type": "stream",
     "text": [
      "Epoch 1/100\n",
      "2/3 [===================>..........] - ETA: 7s - loss: 6.4309 WARNING:tensorflow:This model was compiled with a Keras optimizer (<tensorflow.python.keras.optimizers.Adam object at 0xb3d7c1ba8>) but is being saved in TensorFlow format with `save_weights`. The model's weights will be saved, but unlike with TensorFlow optimizers in the TensorFlow format the optimizer's state will not be saved.\n",
      "\n",
      "Consider using a TensorFlow optimizer from `tf.train`.\n",
      "3/3 [==============================] - 22s 7s/step - loss: 6.3435\n",
      "Epoch 2/100\n",
      "2/3 [===================>..........] - ETA: 6s - loss: 7.8971 WARNING:tensorflow:This model was compiled with a Keras optimizer (<tensorflow.python.keras.optimizers.Adam object at 0xb3d7c1ba8>) but is being saved in TensorFlow format with `save_weights`. The model's weights will be saved, but unlike with TensorFlow optimizers in the TensorFlow format the optimizer's state will not be saved.\n",
      "\n",
      "Consider using a TensorFlow optimizer from `tf.train`.\n",
      "3/3 [==============================] - 20s 7s/step - loss: 6.9077\n",
      "Epoch 3/100\n",
      "2/3 [===================>..........] - ETA: 6s - loss: 5.3700 WARNING:tensorflow:This model was compiled with a Keras optimizer (<tensorflow.python.keras.optimizers.Adam object at 0xb3d7c1ba8>) but is being saved in TensorFlow format with `save_weights`. The model's weights will be saved, but unlike with TensorFlow optimizers in the TensorFlow format the optimizer's state will not be saved.\n",
      "\n",
      "Consider using a TensorFlow optimizer from `tf.train`.\n",
      "3/3 [==============================] - 20s 7s/step - loss: 5.4033\n",
      "Epoch 4/100\n",
      "2/3 [===================>..........] - ETA: 6s - loss: 5.0411 WARNING:tensorflow:This model was compiled with a Keras optimizer (<tensorflow.python.keras.optimizers.Adam object at 0xb3d7c1ba8>) but is being saved in TensorFlow format with `save_weights`. The model's weights will be saved, but unlike with TensorFlow optimizers in the TensorFlow format the optimizer's state will not be saved.\n",
      "\n",
      "Consider using a TensorFlow optimizer from `tf.train`.\n",
      "3/3 [==============================] - 20s 7s/step - loss: 4.8794\n",
      "Epoch 5/100\n",
      "2/3 [===================>..........] - ETA: 6s - loss: 4.5651 WARNING:tensorflow:This model was compiled with a Keras optimizer (<tensorflow.python.keras.optimizers.Adam object at 0xb3d7c1ba8>) but is being saved in TensorFlow format with `save_weights`. The model's weights will be saved, but unlike with TensorFlow optimizers in the TensorFlow format the optimizer's state will not be saved.\n",
      "\n",
      "Consider using a TensorFlow optimizer from `tf.train`.\n",
      "3/3 [==============================] - 20s 7s/step - loss: 4.5389\n",
      "Epoch 6/100\n",
      "2/3 [===================>..........] - ETA: 6s - loss: 4.4000 WARNING:tensorflow:This model was compiled with a Keras optimizer (<tensorflow.python.keras.optimizers.Adam object at 0xb3d7c1ba8>) but is being saved in TensorFlow format with `save_weights`. The model's weights will be saved, but unlike with TensorFlow optimizers in the TensorFlow format the optimizer's state will not be saved.\n",
      "\n",
      "Consider using a TensorFlow optimizer from `tf.train`.\n",
      "3/3 [==============================] - 20s 7s/step - loss: 4.3750\n",
      "Epoch 7/100\n",
      "2/3 [===================>..........] - ETA: 6s - loss: 4.6110 WARNING:tensorflow:This model was compiled with a Keras optimizer (<tensorflow.python.keras.optimizers.Adam object at 0xb3d7c1ba8>) but is being saved in TensorFlow format with `save_weights`. The model's weights will be saved, but unlike with TensorFlow optimizers in the TensorFlow format the optimizer's state will not be saved.\n",
      "\n",
      "Consider using a TensorFlow optimizer from `tf.train`.\n",
      "3/3 [==============================] - 20s 7s/step - loss: 4.4604\n",
      "Epoch 8/100\n",
      "2/3 [===================>..........] - ETA: 6s - loss: 4.3225 WARNING:tensorflow:This model was compiled with a Keras optimizer (<tensorflow.python.keras.optimizers.Adam object at 0xb3d7c1ba8>) but is being saved in TensorFlow format with `save_weights`. The model's weights will be saved, but unlike with TensorFlow optimizers in the TensorFlow format the optimizer's state will not be saved.\n",
      "\n",
      "Consider using a TensorFlow optimizer from `tf.train`.\n",
      "3/3 [==============================] - 20s 7s/step - loss: 4.4176\n",
      "Epoch 9/100\n",
      "2/3 [===================>..........] - ETA: 6s - loss: 4.2448 WARNING:tensorflow:This model was compiled with a Keras optimizer (<tensorflow.python.keras.optimizers.Adam object at 0xb3d7c1ba8>) but is being saved in TensorFlow format with `save_weights`. The model's weights will be saved, but unlike with TensorFlow optimizers in the TensorFlow format the optimizer's state will not be saved.\n",
      "\n",
      "Consider using a TensorFlow optimizer from `tf.train`.\n",
      "3/3 [==============================] - 20s 7s/step - loss: 4.1088\n",
      "Epoch 10/100\n",
      "2/3 [===================>..........] - ETA: 6s - loss: 4.3633 WARNING:tensorflow:This model was compiled with a Keras optimizer (<tensorflow.python.keras.optimizers.Adam object at 0xb3d7c1ba8>) but is being saved in TensorFlow format with `save_weights`. The model's weights will be saved, but unlike with TensorFlow optimizers in the TensorFlow format the optimizer's state will not be saved.\n",
      "\n",
      "Consider using a TensorFlow optimizer from `tf.train`.\n",
      "3/3 [==============================] - 20s 7s/step - loss: 4.3756\n",
      "Epoch 11/100\n",
      "2/3 [===================>..........] - ETA: 6s - loss: 4.4509 WARNING:tensorflow:This model was compiled with a Keras optimizer (<tensorflow.python.keras.optimizers.Adam object at 0xb3d7c1ba8>) but is being saved in TensorFlow format with `save_weights`. The model's weights will be saved, but unlike with TensorFlow optimizers in the TensorFlow format the optimizer's state will not be saved.\n",
      "\n",
      "Consider using a TensorFlow optimizer from `tf.train`.\n",
      "3/3 [==============================] - 20s 7s/step - loss: 4.4458\n",
      "Epoch 12/100\n",
      "2/3 [===================>..........] - ETA: 6s - loss: 4.2995 WARNING:tensorflow:This model was compiled with a Keras optimizer (<tensorflow.python.keras.optimizers.Adam object at 0xb3d7c1ba8>) but is being saved in TensorFlow format with `save_weights`. The model's weights will be saved, but unlike with TensorFlow optimizers in the TensorFlow format the optimizer's state will not be saved.\n",
      "\n",
      "Consider using a TensorFlow optimizer from `tf.train`.\n",
      "3/3 [==============================] - 20s 7s/step - loss: 4.0455\n",
      "Epoch 13/100\n",
      "2/3 [===================>..........] - ETA: 6s - loss: 4.1445 WARNING:tensorflow:This model was compiled with a Keras optimizer (<tensorflow.python.keras.optimizers.Adam object at 0xb3d7c1ba8>) but is being saved in TensorFlow format with `save_weights`. The model's weights will be saved, but unlike with TensorFlow optimizers in the TensorFlow format the optimizer's state will not be saved.\n",
      "\n",
      "Consider using a TensorFlow optimizer from `tf.train`.\n",
      "3/3 [==============================] - 20s 7s/step - loss: 4.1033\n",
      "Epoch 14/100\n",
      "2/3 [===================>..........] - ETA: 6s - loss: 3.8454 WARNING:tensorflow:This model was compiled with a Keras optimizer (<tensorflow.python.keras.optimizers.Adam object at 0xb3d7c1ba8>) but is being saved in TensorFlow format with `save_weights`. The model's weights will be saved, but unlike with TensorFlow optimizers in the TensorFlow format the optimizer's state will not be saved.\n",
      "\n",
      "Consider using a TensorFlow optimizer from `tf.train`.\n",
      "3/3 [==============================] - 20s 7s/step - loss: 3.8251\n",
      "Epoch 15/100\n",
      "2/3 [===================>..........] - ETA: 6s - loss: 4.0129 WARNING:tensorflow:This model was compiled with a Keras optimizer (<tensorflow.python.keras.optimizers.Adam object at 0xb3d7c1ba8>) but is being saved in TensorFlow format with `save_weights`. The model's weights will be saved, but unlike with TensorFlow optimizers in the TensorFlow format the optimizer's state will not be saved.\n",
      "\n",
      "Consider using a TensorFlow optimizer from `tf.train`.\n",
      "3/3 [==============================] - 20s 7s/step - loss: 4.0132\n",
      "Epoch 16/100\n",
      "2/3 [===================>..........] - ETA: 6s - loss: 3.8678 WARNING:tensorflow:This model was compiled with a Keras optimizer (<tensorflow.python.keras.optimizers.Adam object at 0xb3d7c1ba8>) but is being saved in TensorFlow format with `save_weights`. The model's weights will be saved, but unlike with TensorFlow optimizers in the TensorFlow format the optimizer's state will not be saved.\n",
      "\n",
      "Consider using a TensorFlow optimizer from `tf.train`.\n"
     ]
    },
    {
     "name": "stdout",
     "output_type": "stream",
     "text": [
      "3/3 [==============================] - 20s 7s/step - loss: 3.8898\n",
      "Epoch 17/100\n",
      "2/3 [===================>..........] - ETA: 6s - loss: 3.8708 WARNING:tensorflow:This model was compiled with a Keras optimizer (<tensorflow.python.keras.optimizers.Adam object at 0xb3d7c1ba8>) but is being saved in TensorFlow format with `save_weights`. The model's weights will be saved, but unlike with TensorFlow optimizers in the TensorFlow format the optimizer's state will not be saved.\n",
      "\n",
      "Consider using a TensorFlow optimizer from `tf.train`.\n",
      "3/3 [==============================] - 20s 7s/step - loss: 3.8589\n",
      "Epoch 18/100\n",
      "2/3 [===================>..........] - ETA: 6s - loss: 4.0308 WARNING:tensorflow:This model was compiled with a Keras optimizer (<tensorflow.python.keras.optimizers.Adam object at 0xb3d7c1ba8>) but is being saved in TensorFlow format with `save_weights`. The model's weights will be saved, but unlike with TensorFlow optimizers in the TensorFlow format the optimizer's state will not be saved.\n",
      "\n",
      "Consider using a TensorFlow optimizer from `tf.train`.\n",
      "3/3 [==============================] - 20s 7s/step - loss: 4.0155\n",
      "Epoch 19/100\n",
      "2/3 [===================>..........] - ETA: 6s - loss: 4.1151 WARNING:tensorflow:This model was compiled with a Keras optimizer (<tensorflow.python.keras.optimizers.Adam object at 0xb3d7c1ba8>) but is being saved in TensorFlow format with `save_weights`. The model's weights will be saved, but unlike with TensorFlow optimizers in the TensorFlow format the optimizer's state will not be saved.\n",
      "\n",
      "Consider using a TensorFlow optimizer from `tf.train`.\n",
      "3/3 [==============================] - 20s 7s/step - loss: 3.9950\n",
      "Epoch 20/100\n",
      "2/3 [===================>..........] - ETA: 6s - loss: 4.1539 WARNING:tensorflow:This model was compiled with a Keras optimizer (<tensorflow.python.keras.optimizers.Adam object at 0xb3d7c1ba8>) but is being saved in TensorFlow format with `save_weights`. The model's weights will be saved, but unlike with TensorFlow optimizers in the TensorFlow format the optimizer's state will not be saved.\n",
      "\n",
      "Consider using a TensorFlow optimizer from `tf.train`.\n",
      "3/3 [==============================] - 22s 7s/step - loss: 4.0262\n",
      "Epoch 21/100\n",
      "2/3 [===================>..........] - ETA: 7s - loss: 3.7309 WARNING:tensorflow:This model was compiled with a Keras optimizer (<tensorflow.python.keras.optimizers.Adam object at 0xb3d7c1ba8>) but is being saved in TensorFlow format with `save_weights`. The model's weights will be saved, but unlike with TensorFlow optimizers in the TensorFlow format the optimizer's state will not be saved.\n",
      "\n",
      "Consider using a TensorFlow optimizer from `tf.train`.\n",
      "3/3 [==============================] - 21s 7s/step - loss: 3.8204\n",
      "Epoch 22/100\n",
      "2/3 [===================>..........] - ETA: 6s - loss: 3.8300 WARNING:tensorflow:This model was compiled with a Keras optimizer (<tensorflow.python.keras.optimizers.Adam object at 0xb3d7c1ba8>) but is being saved in TensorFlow format with `save_weights`. The model's weights will be saved, but unlike with TensorFlow optimizers in the TensorFlow format the optimizer's state will not be saved.\n",
      "\n",
      "Consider using a TensorFlow optimizer from `tf.train`.\n",
      "3/3 [==============================] - 20s 7s/step - loss: 3.9576\n",
      "Epoch 23/100\n",
      "2/3 [===================>..........] - ETA: 6s - loss: 3.8724 WARNING:tensorflow:This model was compiled with a Keras optimizer (<tensorflow.python.keras.optimizers.Adam object at 0xb3d7c1ba8>) but is being saved in TensorFlow format with `save_weights`. The model's weights will be saved, but unlike with TensorFlow optimizers in the TensorFlow format the optimizer's state will not be saved.\n",
      "\n",
      "Consider using a TensorFlow optimizer from `tf.train`.\n",
      "3/3 [==============================] - 20s 7s/step - loss: 3.8031\n",
      "Epoch 24/100\n",
      "2/3 [===================>..........] - ETA: 6s - loss: 3.8398 WARNING:tensorflow:This model was compiled with a Keras optimizer (<tensorflow.python.keras.optimizers.Adam object at 0xb3d7c1ba8>) but is being saved in TensorFlow format with `save_weights`. The model's weights will be saved, but unlike with TensorFlow optimizers in the TensorFlow format the optimizer's state will not be saved.\n",
      "\n",
      "Consider using a TensorFlow optimizer from `tf.train`.\n",
      "3/3 [==============================] - 20s 7s/step - loss: 3.9235\n",
      "Epoch 25/100\n",
      "2/3 [===================>..........] - ETA: 6s - loss: 3.9451 WARNING:tensorflow:This model was compiled with a Keras optimizer (<tensorflow.python.keras.optimizers.Adam object at 0xb3d7c1ba8>) but is being saved in TensorFlow format with `save_weights`. The model's weights will be saved, but unlike with TensorFlow optimizers in the TensorFlow format the optimizer's state will not be saved.\n",
      "\n",
      "Consider using a TensorFlow optimizer from `tf.train`.\n",
      "3/3 [==============================] - 20s 7s/step - loss: 3.8962\n",
      "Epoch 26/100\n",
      "2/3 [===================>..........] - ETA: 6s - loss: 3.9105 WARNING:tensorflow:This model was compiled with a Keras optimizer (<tensorflow.python.keras.optimizers.Adam object at 0xb3d7c1ba8>) but is being saved in TensorFlow format with `save_weights`. The model's weights will be saved, but unlike with TensorFlow optimizers in the TensorFlow format the optimizer's state will not be saved.\n",
      "\n",
      "Consider using a TensorFlow optimizer from `tf.train`.\n",
      "3/3 [==============================] - 20s 7s/step - loss: 3.8366\n",
      "Epoch 27/100\n",
      "2/3 [===================>..........] - ETA: 6s - loss: 3.6807 WARNING:tensorflow:This model was compiled with a Keras optimizer (<tensorflow.python.keras.optimizers.Adam object at 0xb3d7c1ba8>) but is being saved in TensorFlow format with `save_weights`. The model's weights will be saved, but unlike with TensorFlow optimizers in the TensorFlow format the optimizer's state will not be saved.\n",
      "\n",
      "Consider using a TensorFlow optimizer from `tf.train`.\n",
      "3/3 [==============================] - 20s 7s/step - loss: 3.7714\n",
      "Epoch 28/100\n",
      "2/3 [===================>..........] - ETA: 6s - loss: 3.7636 WARNING:tensorflow:This model was compiled with a Keras optimizer (<tensorflow.python.keras.optimizers.Adam object at 0xb3d7c1ba8>) but is being saved in TensorFlow format with `save_weights`. The model's weights will be saved, but unlike with TensorFlow optimizers in the TensorFlow format the optimizer's state will not be saved.\n",
      "\n",
      "Consider using a TensorFlow optimizer from `tf.train`.\n",
      "3/3 [==============================] - 20s 7s/step - loss: 3.9676\n",
      "Epoch 29/100\n",
      "2/3 [===================>..........] - ETA: 6s - loss: 3.8854 WARNING:tensorflow:This model was compiled with a Keras optimizer (<tensorflow.python.keras.optimizers.Adam object at 0xb3d7c1ba8>) but is being saved in TensorFlow format with `save_weights`. The model's weights will be saved, but unlike with TensorFlow optimizers in the TensorFlow format the optimizer's state will not be saved.\n",
      "\n",
      "Consider using a TensorFlow optimizer from `tf.train`.\n",
      "3/3 [==============================] - 20s 7s/step - loss: 3.9326\n",
      "Epoch 30/100\n",
      "2/3 [===================>..........] - ETA: 6s - loss: 3.9340 WARNING:tensorflow:This model was compiled with a Keras optimizer (<tensorflow.python.keras.optimizers.Adam object at 0xb3d7c1ba8>) but is being saved in TensorFlow format with `save_weights`. The model's weights will be saved, but unlike with TensorFlow optimizers in the TensorFlow format the optimizer's state will not be saved.\n",
      "\n",
      "Consider using a TensorFlow optimizer from `tf.train`.\n",
      "3/3 [==============================] - 20s 7s/step - loss: 3.9289\n",
      "Epoch 31/100\n",
      "2/3 [===================>..........] - ETA: 6s - loss: 3.6679 WARNING:tensorflow:This model was compiled with a Keras optimizer (<tensorflow.python.keras.optimizers.Adam object at 0xb3d7c1ba8>) but is being saved in TensorFlow format with `save_weights`. The model's weights will be saved, but unlike with TensorFlow optimizers in the TensorFlow format the optimizer's state will not be saved.\n",
      "\n",
      "Consider using a TensorFlow optimizer from `tf.train`.\n",
      "3/3 [==============================] - 20s 7s/step - loss: 3.7136\n",
      "Epoch 32/100\n",
      "2/3 [===================>..........] - ETA: 7s - loss: 3.9291 WARNING:tensorflow:This model was compiled with a Keras optimizer (<tensorflow.python.keras.optimizers.Adam object at 0xb3d7c1ba8>) but is being saved in TensorFlow format with `save_weights`. The model's weights will be saved, but unlike with TensorFlow optimizers in the TensorFlow format the optimizer's state will not be saved.\n",
      "\n",
      "Consider using a TensorFlow optimizer from `tf.train`.\n"
     ]
    },
    {
     "name": "stdout",
     "output_type": "stream",
     "text": [
      "3/3 [==============================] - 21s 7s/step - loss: 3.9601\n",
      "Epoch 33/100\n",
      "2/3 [===================>..........] - ETA: 6s - loss: 3.7839 WARNING:tensorflow:This model was compiled with a Keras optimizer (<tensorflow.python.keras.optimizers.Adam object at 0xb3d7c1ba8>) but is being saved in TensorFlow format with `save_weights`. The model's weights will be saved, but unlike with TensorFlow optimizers in the TensorFlow format the optimizer's state will not be saved.\n",
      "\n",
      "Consider using a TensorFlow optimizer from `tf.train`.\n",
      "3/3 [==============================] - 20s 7s/step - loss: 3.7647\n",
      "Epoch 34/100\n",
      "2/3 [===================>..........] - ETA: 6s - loss: 3.7677 WARNING:tensorflow:This model was compiled with a Keras optimizer (<tensorflow.python.keras.optimizers.Adam object at 0xb3d7c1ba8>) but is being saved in TensorFlow format with `save_weights`. The model's weights will be saved, but unlike with TensorFlow optimizers in the TensorFlow format the optimizer's state will not be saved.\n",
      "\n",
      "Consider using a TensorFlow optimizer from `tf.train`.\n",
      "3/3 [==============================] - 20s 7s/step - loss: 3.7143\n",
      "Epoch 35/100\n",
      "2/3 [===================>..........] - ETA: 6s - loss: 3.6134 WARNING:tensorflow:This model was compiled with a Keras optimizer (<tensorflow.python.keras.optimizers.Adam object at 0xb3d7c1ba8>) but is being saved in TensorFlow format with `save_weights`. The model's weights will be saved, but unlike with TensorFlow optimizers in the TensorFlow format the optimizer's state will not be saved.\n",
      "\n",
      "Consider using a TensorFlow optimizer from `tf.train`.\n",
      "3/3 [==============================] - 20s 7s/step - loss: 3.6136\n",
      "Epoch 36/100\n",
      "2/3 [===================>..........] - ETA: 6s - loss: 3.8152 WARNING:tensorflow:This model was compiled with a Keras optimizer (<tensorflow.python.keras.optimizers.Adam object at 0xb3d7c1ba8>) but is being saved in TensorFlow format with `save_weights`. The model's weights will be saved, but unlike with TensorFlow optimizers in the TensorFlow format the optimizer's state will not be saved.\n",
      "\n",
      "Consider using a TensorFlow optimizer from `tf.train`.\n",
      "3/3 [==============================] - 20s 7s/step - loss: 3.8341\n",
      "Epoch 37/100\n",
      "2/3 [===================>..........] - ETA: 6s - loss: 3.4015 WARNING:tensorflow:This model was compiled with a Keras optimizer (<tensorflow.python.keras.optimizers.Adam object at 0xb3d7c1ba8>) but is being saved in TensorFlow format with `save_weights`. The model's weights will be saved, but unlike with TensorFlow optimizers in the TensorFlow format the optimizer's state will not be saved.\n",
      "\n",
      "Consider using a TensorFlow optimizer from `tf.train`.\n",
      "3/3 [==============================] - 20s 7s/step - loss: 3.4455\n",
      "Epoch 38/100\n",
      "2/3 [===================>..........] - ETA: 6s - loss: 3.5050 WARNING:tensorflow:This model was compiled with a Keras optimizer (<tensorflow.python.keras.optimizers.Adam object at 0xb3d7c1ba8>) but is being saved in TensorFlow format with `save_weights`. The model's weights will be saved, but unlike with TensorFlow optimizers in the TensorFlow format the optimizer's state will not be saved.\n",
      "\n",
      "Consider using a TensorFlow optimizer from `tf.train`.\n",
      "3/3 [==============================] - 20s 7s/step - loss: 3.5001\n",
      "Epoch 39/100\n",
      "2/3 [===================>..........] - ETA: 6s - loss: 3.4912 WARNING:tensorflow:This model was compiled with a Keras optimizer (<tensorflow.python.keras.optimizers.Adam object at 0xb3d7c1ba8>) but is being saved in TensorFlow format with `save_weights`. The model's weights will be saved, but unlike with TensorFlow optimizers in the TensorFlow format the optimizer's state will not be saved.\n",
      "\n",
      "Consider using a TensorFlow optimizer from `tf.train`.\n",
      "3/3 [==============================] - 20s 7s/step - loss: 3.5689\n",
      "Epoch 40/100\n",
      "2/3 [===================>..........] - ETA: 6s - loss: 3.4966 WARNING:tensorflow:This model was compiled with a Keras optimizer (<tensorflow.python.keras.optimizers.Adam object at 0xb3d7c1ba8>) but is being saved in TensorFlow format with `save_weights`. The model's weights will be saved, but unlike with TensorFlow optimizers in the TensorFlow format the optimizer's state will not be saved.\n",
      "\n",
      "Consider using a TensorFlow optimizer from `tf.train`.\n",
      "3/3 [==============================] - 20s 7s/step - loss: 3.4746\n",
      "Epoch 41/100\n",
      "2/3 [===================>..........] - ETA: 6s - loss: 3.7120 WARNING:tensorflow:This model was compiled with a Keras optimizer (<tensorflow.python.keras.optimizers.Adam object at 0xb3d7c1ba8>) but is being saved in TensorFlow format with `save_weights`. The model's weights will be saved, but unlike with TensorFlow optimizers in the TensorFlow format the optimizer's state will not be saved.\n",
      "\n",
      "Consider using a TensorFlow optimizer from `tf.train`.\n",
      "3/3 [==============================] - 20s 7s/step - loss: 3.6240\n",
      "Epoch 42/100\n",
      "2/3 [===================>..........] - ETA: 6s - loss: 3.5313 WARNING:tensorflow:This model was compiled with a Keras optimizer (<tensorflow.python.keras.optimizers.Adam object at 0xb3d7c1ba8>) but is being saved in TensorFlow format with `save_weights`. The model's weights will be saved, but unlike with TensorFlow optimizers in the TensorFlow format the optimizer's state will not be saved.\n",
      "\n",
      "Consider using a TensorFlow optimizer from `tf.train`.\n",
      "3/3 [==============================] - 20s 7s/step - loss: 3.4964\n",
      "Epoch 43/100\n",
      "2/3 [===================>..........] - ETA: 6s - loss: 3.6106 WARNING:tensorflow:This model was compiled with a Keras optimizer (<tensorflow.python.keras.optimizers.Adam object at 0xb3d7c1ba8>) but is being saved in TensorFlow format with `save_weights`. The model's weights will be saved, but unlike with TensorFlow optimizers in the TensorFlow format the optimizer's state will not be saved.\n",
      "\n",
      "Consider using a TensorFlow optimizer from `tf.train`.\n",
      "3/3 [==============================] - 20s 7s/step - loss: 3.5425\n",
      "Epoch 44/100\n",
      "2/3 [===================>..........] - ETA: 6s - loss: 3.2867 WARNING:tensorflow:This model was compiled with a Keras optimizer (<tensorflow.python.keras.optimizers.Adam object at 0xb3d7c1ba8>) but is being saved in TensorFlow format with `save_weights`. The model's weights will be saved, but unlike with TensorFlow optimizers in the TensorFlow format the optimizer's state will not be saved.\n",
      "\n",
      "Consider using a TensorFlow optimizer from `tf.train`.\n",
      "3/3 [==============================] - 20s 7s/step - loss: 3.3366\n",
      "Epoch 45/100\n",
      "2/3 [===================>..........] - ETA: 6s - loss: 3.2273 WARNING:tensorflow:This model was compiled with a Keras optimizer (<tensorflow.python.keras.optimizers.Adam object at 0xb3d7c1ba8>) but is being saved in TensorFlow format with `save_weights`. The model's weights will be saved, but unlike with TensorFlow optimizers in the TensorFlow format the optimizer's state will not be saved.\n",
      "\n",
      "Consider using a TensorFlow optimizer from `tf.train`.\n",
      "3/3 [==============================] - 20s 7s/step - loss: 3.2951\n",
      "Epoch 46/100\n",
      "2/3 [===================>..........] - ETA: 6s - loss: 3.2595 WARNING:tensorflow:This model was compiled with a Keras optimizer (<tensorflow.python.keras.optimizers.Adam object at 0xb3d7c1ba8>) but is being saved in TensorFlow format with `save_weights`. The model's weights will be saved, but unlike with TensorFlow optimizers in the TensorFlow format the optimizer's state will not be saved.\n",
      "\n",
      "Consider using a TensorFlow optimizer from `tf.train`.\n",
      "3/3 [==============================] - 20s 7s/step - loss: 3.2481\n",
      "Epoch 47/100\n",
      "2/3 [===================>..........] - ETA: 6s - loss: 3.3413 WARNING:tensorflow:This model was compiled with a Keras optimizer (<tensorflow.python.keras.optimizers.Adam object at 0xb3d7c1ba8>) but is being saved in TensorFlow format with `save_weights`. The model's weights will be saved, but unlike with TensorFlow optimizers in the TensorFlow format the optimizer's state will not be saved.\n",
      "\n",
      "Consider using a TensorFlow optimizer from `tf.train`.\n",
      "3/3 [==============================] - 20s 7s/step - loss: 3.3462\n",
      "Epoch 48/100\n",
      "2/3 [===================>..........] - ETA: 6s - loss: 3.2411 WARNING:tensorflow:This model was compiled with a Keras optimizer (<tensorflow.python.keras.optimizers.Adam object at 0xb3d7c1ba8>) but is being saved in TensorFlow format with `save_weights`. The model's weights will be saved, but unlike with TensorFlow optimizers in the TensorFlow format the optimizer's state will not be saved.\n",
      "\n",
      "Consider using a TensorFlow optimizer from `tf.train`.\n"
     ]
    },
    {
     "name": "stdout",
     "output_type": "stream",
     "text": [
      "3/3 [==============================] - 20s 7s/step - loss: 3.1902\n",
      "Epoch 49/100\n",
      "2/3 [===================>..........] - ETA: 6s - loss: 2.9958 WARNING:tensorflow:This model was compiled with a Keras optimizer (<tensorflow.python.keras.optimizers.Adam object at 0xb3d7c1ba8>) but is being saved in TensorFlow format with `save_weights`. The model's weights will be saved, but unlike with TensorFlow optimizers in the TensorFlow format the optimizer's state will not be saved.\n",
      "\n",
      "Consider using a TensorFlow optimizer from `tf.train`.\n",
      "3/3 [==============================] - 20s 7s/step - loss: 2.9990\n",
      "Epoch 50/100\n",
      "2/3 [===================>..........] - ETA: 6s - loss: 3.0755 WARNING:tensorflow:This model was compiled with a Keras optimizer (<tensorflow.python.keras.optimizers.Adam object at 0xb3d7c1ba8>) but is being saved in TensorFlow format with `save_weights`. The model's weights will be saved, but unlike with TensorFlow optimizers in the TensorFlow format the optimizer's state will not be saved.\n",
      "\n",
      "Consider using a TensorFlow optimizer from `tf.train`.\n",
      "3/3 [==============================] - 20s 7s/step - loss: 3.0760\n",
      "Epoch 51/100\n",
      "2/3 [===================>..........] - ETA: 6s - loss: 2.9447 WARNING:tensorflow:This model was compiled with a Keras optimizer (<tensorflow.python.keras.optimizers.Adam object at 0xb3d7c1ba8>) but is being saved in TensorFlow format with `save_weights`. The model's weights will be saved, but unlike with TensorFlow optimizers in the TensorFlow format the optimizer's state will not be saved.\n",
      "\n",
      "Consider using a TensorFlow optimizer from `tf.train`.\n",
      "3/3 [==============================] - 20s 7s/step - loss: 2.9387\n",
      "Epoch 52/100\n",
      "2/3 [===================>..........] - ETA: 6s - loss: 2.8562 WARNING:tensorflow:This model was compiled with a Keras optimizer (<tensorflow.python.keras.optimizers.Adam object at 0xb3d7c1ba8>) but is being saved in TensorFlow format with `save_weights`. The model's weights will be saved, but unlike with TensorFlow optimizers in the TensorFlow format the optimizer's state will not be saved.\n",
      "\n",
      "Consider using a TensorFlow optimizer from `tf.train`.\n",
      "3/3 [==============================] - 20s 7s/step - loss: 2.8062\n",
      "Epoch 53/100\n",
      "2/3 [===================>..........] - ETA: 6s - loss: 2.7210 WARNING:tensorflow:This model was compiled with a Keras optimizer (<tensorflow.python.keras.optimizers.Adam object at 0xb3d7c1ba8>) but is being saved in TensorFlow format with `save_weights`. The model's weights will be saved, but unlike with TensorFlow optimizers in the TensorFlow format the optimizer's state will not be saved.\n",
      "\n",
      "Consider using a TensorFlow optimizer from `tf.train`.\n",
      "3/3 [==============================] - 22s 7s/step - loss: 2.7420\n",
      "Epoch 54/100\n",
      "2/3 [===================>..........] - ETA: 6s - loss: 2.4683 WARNING:tensorflow:This model was compiled with a Keras optimizer (<tensorflow.python.keras.optimizers.Adam object at 0xb3d7c1ba8>) but is being saved in TensorFlow format with `save_weights`. The model's weights will be saved, but unlike with TensorFlow optimizers in the TensorFlow format the optimizer's state will not be saved.\n",
      "\n",
      "Consider using a TensorFlow optimizer from `tf.train`.\n",
      "3/3 [==============================] - 20s 7s/step - loss: 2.4813\n",
      "Epoch 55/100\n",
      "2/3 [===================>..........] - ETA: 6s - loss: 2.4475 WARNING:tensorflow:This model was compiled with a Keras optimizer (<tensorflow.python.keras.optimizers.Adam object at 0xb3d7c1ba8>) but is being saved in TensorFlow format with `save_weights`. The model's weights will be saved, but unlike with TensorFlow optimizers in the TensorFlow format the optimizer's state will not be saved.\n",
      "\n",
      "Consider using a TensorFlow optimizer from `tf.train`.\n",
      "3/3 [==============================] - 20s 7s/step - loss: 2.5808\n",
      "Epoch 56/100\n",
      "2/3 [===================>..........] - ETA: 6s - loss: 2.2660 WARNING:tensorflow:This model was compiled with a Keras optimizer (<tensorflow.python.keras.optimizers.Adam object at 0xb3d7c1ba8>) but is being saved in TensorFlow format with `save_weights`. The model's weights will be saved, but unlike with TensorFlow optimizers in the TensorFlow format the optimizer's state will not be saved.\n",
      "\n",
      "Consider using a TensorFlow optimizer from `tf.train`.\n",
      "3/3 [==============================] - 20s 7s/step - loss: 2.2521\n",
      "Epoch 57/100\n",
      "2/3 [===================>..........] - ETA: 6s - loss: 2.6679 WARNING:tensorflow:This model was compiled with a Keras optimizer (<tensorflow.python.keras.optimizers.Adam object at 0xb3d7c1ba8>) but is being saved in TensorFlow format with `save_weights`. The model's weights will be saved, but unlike with TensorFlow optimizers in the TensorFlow format the optimizer's state will not be saved.\n",
      "\n",
      "Consider using a TensorFlow optimizer from `tf.train`.\n",
      "3/3 [==============================] - 20s 7s/step - loss: 2.7481\n",
      "Epoch 58/100\n",
      "2/3 [===================>..........] - ETA: 6s - loss: 2.2184 WARNING:tensorflow:This model was compiled with a Keras optimizer (<tensorflow.python.keras.optimizers.Adam object at 0xb3d7c1ba8>) but is being saved in TensorFlow format with `save_weights`. The model's weights will be saved, but unlike with TensorFlow optimizers in the TensorFlow format the optimizer's state will not be saved.\n",
      "\n",
      "Consider using a TensorFlow optimizer from `tf.train`.\n",
      "3/3 [==============================] - 20s 7s/step - loss: 2.1755\n",
      "Epoch 59/100\n",
      "2/3 [===================>..........] - ETA: 6s - loss: 2.3704 WARNING:tensorflow:This model was compiled with a Keras optimizer (<tensorflow.python.keras.optimizers.Adam object at 0xb3d7c1ba8>) but is being saved in TensorFlow format with `save_weights`. The model's weights will be saved, but unlike with TensorFlow optimizers in the TensorFlow format the optimizer's state will not be saved.\n",
      "\n",
      "Consider using a TensorFlow optimizer from `tf.train`.\n",
      "3/3 [==============================] - 20s 7s/step - loss: 2.2211\n",
      "Epoch 60/100\n",
      "2/3 [===================>..........] - ETA: 6s - loss: 2.1000 WARNING:tensorflow:This model was compiled with a Keras optimizer (<tensorflow.python.keras.optimizers.Adam object at 0xb3d7c1ba8>) but is being saved in TensorFlow format with `save_weights`. The model's weights will be saved, but unlike with TensorFlow optimizers in the TensorFlow format the optimizer's state will not be saved.\n",
      "\n",
      "Consider using a TensorFlow optimizer from `tf.train`.\n",
      "3/3 [==============================] - 20s 7s/step - loss: 2.1331\n",
      "Epoch 61/100\n",
      "2/3 [===================>..........] - ETA: 6s - loss: 2.1777 WARNING:tensorflow:This model was compiled with a Keras optimizer (<tensorflow.python.keras.optimizers.Adam object at 0xb3d7c1ba8>) but is being saved in TensorFlow format with `save_weights`. The model's weights will be saved, but unlike with TensorFlow optimizers in the TensorFlow format the optimizer's state will not be saved.\n",
      "\n",
      "Consider using a TensorFlow optimizer from `tf.train`.\n",
      "3/3 [==============================] - 20s 7s/step - loss: 2.2074\n",
      "Epoch 62/100\n",
      "2/3 [===================>..........] - ETA: 6s - loss: 2.0596 WARNING:tensorflow:This model was compiled with a Keras optimizer (<tensorflow.python.keras.optimizers.Adam object at 0xb3d7c1ba8>) but is being saved in TensorFlow format with `save_weights`. The model's weights will be saved, but unlike with TensorFlow optimizers in the TensorFlow format the optimizer's state will not be saved.\n",
      "\n",
      "Consider using a TensorFlow optimizer from `tf.train`.\n",
      "3/3 [==============================] - 20s 7s/step - loss: 2.0512\n",
      "Epoch 63/100\n",
      "2/3 [===================>..........] - ETA: 6s - loss: 1.7909 WARNING:tensorflow:This model was compiled with a Keras optimizer (<tensorflow.python.keras.optimizers.Adam object at 0xb3d7c1ba8>) but is being saved in TensorFlow format with `save_weights`. The model's weights will be saved, but unlike with TensorFlow optimizers in the TensorFlow format the optimizer's state will not be saved.\n",
      "\n",
      "Consider using a TensorFlow optimizer from `tf.train`.\n",
      "3/3 [==============================] - 20s 7s/step - loss: 1.7833\n",
      "Epoch 64/100\n",
      "2/3 [===================>..........] - ETA: 6s - loss: 1.8869 WARNING:tensorflow:This model was compiled with a Keras optimizer (<tensorflow.python.keras.optimizers.Adam object at 0xb3d7c1ba8>) but is being saved in TensorFlow format with `save_weights`. The model's weights will be saved, but unlike with TensorFlow optimizers in the TensorFlow format the optimizer's state will not be saved.\n",
      "\n",
      "Consider using a TensorFlow optimizer from `tf.train`.\n"
     ]
    },
    {
     "name": "stdout",
     "output_type": "stream",
     "text": [
      "3/3 [==============================] - 20s 7s/step - loss: 1.9193\n",
      "Epoch 65/100\n",
      "2/3 [===================>..........] - ETA: 6s - loss: 1.9018 WARNING:tensorflow:This model was compiled with a Keras optimizer (<tensorflow.python.keras.optimizers.Adam object at 0xb3d7c1ba8>) but is being saved in TensorFlow format with `save_weights`. The model's weights will be saved, but unlike with TensorFlow optimizers in the TensorFlow format the optimizer's state will not be saved.\n",
      "\n",
      "Consider using a TensorFlow optimizer from `tf.train`.\n",
      "3/3 [==============================] - 20s 7s/step - loss: 1.8353\n",
      "Epoch 66/100\n",
      "2/3 [===================>..........] - ETA: 6s - loss: 1.6820 WARNING:tensorflow:This model was compiled with a Keras optimizer (<tensorflow.python.keras.optimizers.Adam object at 0xb3d7c1ba8>) but is being saved in TensorFlow format with `save_weights`. The model's weights will be saved, but unlike with TensorFlow optimizers in the TensorFlow format the optimizer's state will not be saved.\n",
      "\n",
      "Consider using a TensorFlow optimizer from `tf.train`.\n",
      "3/3 [==============================] - 20s 7s/step - loss: 1.8382\n",
      "Epoch 67/100\n",
      "2/3 [===================>..........] - ETA: 6s - loss: 1.6515 WARNING:tensorflow:This model was compiled with a Keras optimizer (<tensorflow.python.keras.optimizers.Adam object at 0xb3d7c1ba8>) but is being saved in TensorFlow format with `save_weights`. The model's weights will be saved, but unlike with TensorFlow optimizers in the TensorFlow format the optimizer's state will not be saved.\n",
      "\n",
      "Consider using a TensorFlow optimizer from `tf.train`.\n",
      "3/3 [==============================] - 20s 7s/step - loss: 1.6488\n",
      "Epoch 68/100\n",
      "2/3 [===================>..........] - ETA: 6s - loss: 1.7202 WARNING:tensorflow:This model was compiled with a Keras optimizer (<tensorflow.python.keras.optimizers.Adam object at 0xb3d7c1ba8>) but is being saved in TensorFlow format with `save_weights`. The model's weights will be saved, but unlike with TensorFlow optimizers in the TensorFlow format the optimizer's state will not be saved.\n",
      "\n",
      "Consider using a TensorFlow optimizer from `tf.train`.\n",
      "3/3 [==============================] - 20s 7s/step - loss: 1.7194\n",
      "Epoch 69/100\n",
      "2/3 [===================>..........] - ETA: 6s - loss: 1.6486 WARNING:tensorflow:This model was compiled with a Keras optimizer (<tensorflow.python.keras.optimizers.Adam object at 0xb3d7c1ba8>) but is being saved in TensorFlow format with `save_weights`. The model's weights will be saved, but unlike with TensorFlow optimizers in the TensorFlow format the optimizer's state will not be saved.\n",
      "\n",
      "Consider using a TensorFlow optimizer from `tf.train`.\n",
      "3/3 [==============================] - 20s 7s/step - loss: 1.6265\n",
      "Epoch 70/100\n",
      "2/3 [===================>..........] - ETA: 6s - loss: 1.6185 WARNING:tensorflow:This model was compiled with a Keras optimizer (<tensorflow.python.keras.optimizers.Adam object at 0xb3d7c1ba8>) but is being saved in TensorFlow format with `save_weights`. The model's weights will be saved, but unlike with TensorFlow optimizers in the TensorFlow format the optimizer's state will not be saved.\n",
      "\n",
      "Consider using a TensorFlow optimizer from `tf.train`.\n",
      "3/3 [==============================] - 20s 7s/step - loss: 1.5988\n",
      "Epoch 71/100\n",
      "2/3 [===================>..........] - ETA: 6s - loss: 1.6292 WARNING:tensorflow:This model was compiled with a Keras optimizer (<tensorflow.python.keras.optimizers.Adam object at 0xb3d7c1ba8>) but is being saved in TensorFlow format with `save_weights`. The model's weights will be saved, but unlike with TensorFlow optimizers in the TensorFlow format the optimizer's state will not be saved.\n",
      "\n",
      "Consider using a TensorFlow optimizer from `tf.train`.\n",
      "3/3 [==============================] - 20s 7s/step - loss: 1.6999\n",
      "Epoch 72/100\n",
      "2/3 [===================>..........] - ETA: 6s - loss: 1.7154 WARNING:tensorflow:This model was compiled with a Keras optimizer (<tensorflow.python.keras.optimizers.Adam object at 0xb3d7c1ba8>) but is being saved in TensorFlow format with `save_weights`. The model's weights will be saved, but unlike with TensorFlow optimizers in the TensorFlow format the optimizer's state will not be saved.\n",
      "\n",
      "Consider using a TensorFlow optimizer from `tf.train`.\n",
      "3/3 [==============================] - 20s 7s/step - loss: 1.6810\n",
      "Epoch 73/100\n",
      "2/3 [===================>..........] - ETA: 6s - loss: 1.4906 WARNING:tensorflow:This model was compiled with a Keras optimizer (<tensorflow.python.keras.optimizers.Adam object at 0xb3d7c1ba8>) but is being saved in TensorFlow format with `save_weights`. The model's weights will be saved, but unlike with TensorFlow optimizers in the TensorFlow format the optimizer's state will not be saved.\n",
      "\n",
      "Consider using a TensorFlow optimizer from `tf.train`.\n",
      "3/3 [==============================] - 20s 7s/step - loss: 1.4872\n",
      "Epoch 74/100\n",
      "2/3 [===================>..........] - ETA: 6s - loss: 1.4686 WARNING:tensorflow:This model was compiled with a Keras optimizer (<tensorflow.python.keras.optimizers.Adam object at 0xb3d7c1ba8>) but is being saved in TensorFlow format with `save_weights`. The model's weights will be saved, but unlike with TensorFlow optimizers in the TensorFlow format the optimizer's state will not be saved.\n",
      "\n",
      "Consider using a TensorFlow optimizer from `tf.train`.\n",
      "3/3 [==============================] - 20s 7s/step - loss: 1.4330\n",
      "Epoch 75/100\n",
      "2/3 [===================>..........] - ETA: 6s - loss: 1.4944 WARNING:tensorflow:This model was compiled with a Keras optimizer (<tensorflow.python.keras.optimizers.Adam object at 0xb3d7c1ba8>) but is being saved in TensorFlow format with `save_weights`. The model's weights will be saved, but unlike with TensorFlow optimizers in the TensorFlow format the optimizer's state will not be saved.\n",
      "\n",
      "Consider using a TensorFlow optimizer from `tf.train`.\n",
      "3/3 [==============================] - 20s 7s/step - loss: 1.4739\n",
      "Epoch 76/100\n",
      "2/3 [===================>..........] - ETA: 6s - loss: 1.4736 WARNING:tensorflow:This model was compiled with a Keras optimizer (<tensorflow.python.keras.optimizers.Adam object at 0xb3d7c1ba8>) but is being saved in TensorFlow format with `save_weights`. The model's weights will be saved, but unlike with TensorFlow optimizers in the TensorFlow format the optimizer's state will not be saved.\n",
      "\n",
      "Consider using a TensorFlow optimizer from `tf.train`.\n",
      "3/3 [==============================] - 20s 7s/step - loss: 1.4844\n",
      "Epoch 77/100\n",
      "2/3 [===================>..........] - ETA: 6s - loss: 1.4059 WARNING:tensorflow:This model was compiled with a Keras optimizer (<tensorflow.python.keras.optimizers.Adam object at 0xb3d7c1ba8>) but is being saved in TensorFlow format with `save_weights`. The model's weights will be saved, but unlike with TensorFlow optimizers in the TensorFlow format the optimizer's state will not be saved.\n",
      "\n",
      "Consider using a TensorFlow optimizer from `tf.train`.\n",
      "3/3 [==============================] - 20s 7s/step - loss: 1.4183\n",
      "Epoch 78/100\n",
      "2/3 [===================>..........] - ETA: 6s - loss: 1.3679 WARNING:tensorflow:This model was compiled with a Keras optimizer (<tensorflow.python.keras.optimizers.Adam object at 0xb3d7c1ba8>) but is being saved in TensorFlow format with `save_weights`. The model's weights will be saved, but unlike with TensorFlow optimizers in the TensorFlow format the optimizer's state will not be saved.\n",
      "\n",
      "Consider using a TensorFlow optimizer from `tf.train`.\n",
      "3/3 [==============================] - 20s 7s/step - loss: 1.3365\n",
      "Epoch 79/100\n",
      "2/3 [===================>..........] - ETA: 6s - loss: 1.3840 WARNING:tensorflow:This model was compiled with a Keras optimizer (<tensorflow.python.keras.optimizers.Adam object at 0xb3d7c1ba8>) but is being saved in TensorFlow format with `save_weights`. The model's weights will be saved, but unlike with TensorFlow optimizers in the TensorFlow format the optimizer's state will not be saved.\n",
      "\n",
      "Consider using a TensorFlow optimizer from `tf.train`.\n",
      "3/3 [==============================] - 20s 7s/step - loss: 1.3138\n",
      "Epoch 80/100\n",
      "2/3 [===================>..........] - ETA: 6s - loss: 1.3565 WARNING:tensorflow:This model was compiled with a Keras optimizer (<tensorflow.python.keras.optimizers.Adam object at 0xb3d7c1ba8>) but is being saved in TensorFlow format with `save_weights`. The model's weights will be saved, but unlike with TensorFlow optimizers in the TensorFlow format the optimizer's state will not be saved.\n",
      "\n",
      "Consider using a TensorFlow optimizer from `tf.train`.\n"
     ]
    },
    {
     "name": "stdout",
     "output_type": "stream",
     "text": [
      "3/3 [==============================] - 20s 7s/step - loss: 1.3490\n",
      "Epoch 81/100\n",
      "2/3 [===================>..........] - ETA: 6s - loss: 1.3264 WARNING:tensorflow:This model was compiled with a Keras optimizer (<tensorflow.python.keras.optimizers.Adam object at 0xb3d7c1ba8>) but is being saved in TensorFlow format with `save_weights`. The model's weights will be saved, but unlike with TensorFlow optimizers in the TensorFlow format the optimizer's state will not be saved.\n",
      "\n",
      "Consider using a TensorFlow optimizer from `tf.train`.\n",
      "3/3 [==============================] - 20s 7s/step - loss: 1.3270\n",
      "Epoch 82/100\n",
      "2/3 [===================>..........] - ETA: 6s - loss: 1.2852 WARNING:tensorflow:This model was compiled with a Keras optimizer (<tensorflow.python.keras.optimizers.Adam object at 0xb3d7c1ba8>) but is being saved in TensorFlow format with `save_weights`. The model's weights will be saved, but unlike with TensorFlow optimizers in the TensorFlow format the optimizer's state will not be saved.\n",
      "\n",
      "Consider using a TensorFlow optimizer from `tf.train`.\n",
      "3/3 [==============================] - 20s 7s/step - loss: 1.2845\n",
      "Epoch 83/100\n",
      "2/3 [===================>..........] - ETA: 6s - loss: 1.2311 WARNING:tensorflow:This model was compiled with a Keras optimizer (<tensorflow.python.keras.optimizers.Adam object at 0xb3d7c1ba8>) but is being saved in TensorFlow format with `save_weights`. The model's weights will be saved, but unlike with TensorFlow optimizers in the TensorFlow format the optimizer's state will not be saved.\n",
      "\n",
      "Consider using a TensorFlow optimizer from `tf.train`.\n",
      "3/3 [==============================] - 20s 7s/step - loss: 1.2696\n",
      "Epoch 84/100\n",
      "2/3 [===================>..........] - ETA: 6s - loss: 1.4205 WARNING:tensorflow:This model was compiled with a Keras optimizer (<tensorflow.python.keras.optimizers.Adam object at 0xb3d7c1ba8>) but is being saved in TensorFlow format with `save_weights`. The model's weights will be saved, but unlike with TensorFlow optimizers in the TensorFlow format the optimizer's state will not be saved.\n",
      "\n",
      "Consider using a TensorFlow optimizer from `tf.train`.\n",
      "3/3 [==============================] - 20s 7s/step - loss: 1.3912\n",
      "Epoch 85/100\n",
      "2/3 [===================>..........] - ETA: 6s - loss: 1.1825 WARNING:tensorflow:This model was compiled with a Keras optimizer (<tensorflow.python.keras.optimizers.Adam object at 0xb3d7c1ba8>) but is being saved in TensorFlow format with `save_weights`. The model's weights will be saved, but unlike with TensorFlow optimizers in the TensorFlow format the optimizer's state will not be saved.\n",
      "\n",
      "Consider using a TensorFlow optimizer from `tf.train`.\n",
      "3/3 [==============================] - 20s 7s/step - loss: 1.1399\n",
      "Epoch 86/100\n",
      "2/3 [===================>..........] - ETA: 6s - loss: 1.2841 WARNING:tensorflow:This model was compiled with a Keras optimizer (<tensorflow.python.keras.optimizers.Adam object at 0xb3d7c1ba8>) but is being saved in TensorFlow format with `save_weights`. The model's weights will be saved, but unlike with TensorFlow optimizers in the TensorFlow format the optimizer's state will not be saved.\n",
      "\n",
      "Consider using a TensorFlow optimizer from `tf.train`.\n",
      "3/3 [==============================] - 23s 8s/step - loss: 1.2271\n",
      "Epoch 87/100\n",
      "2/3 [===================>..........] - ETA: 6s - loss: 1.2992 WARNING:tensorflow:This model was compiled with a Keras optimizer (<tensorflow.python.keras.optimizers.Adam object at 0xb3d7c1ba8>) but is being saved in TensorFlow format with `save_weights`. The model's weights will be saved, but unlike with TensorFlow optimizers in the TensorFlow format the optimizer's state will not be saved.\n",
      "\n",
      "Consider using a TensorFlow optimizer from `tf.train`.\n",
      "3/3 [==============================] - 20s 7s/step - loss: 1.3259\n",
      "Epoch 88/100\n",
      "2/3 [===================>..........] - ETA: 6s - loss: 1.1656 WARNING:tensorflow:This model was compiled with a Keras optimizer (<tensorflow.python.keras.optimizers.Adam object at 0xb3d7c1ba8>) but is being saved in TensorFlow format with `save_weights`. The model's weights will be saved, but unlike with TensorFlow optimizers in the TensorFlow format the optimizer's state will not be saved.\n",
      "\n",
      "Consider using a TensorFlow optimizer from `tf.train`.\n",
      "3/3 [==============================] - 20s 7s/step - loss: 1.2256\n",
      "Epoch 89/100\n",
      "2/3 [===================>..........] - ETA: 6s - loss: 1.3024 WARNING:tensorflow:This model was compiled with a Keras optimizer (<tensorflow.python.keras.optimizers.Adam object at 0xb3d7c1ba8>) but is being saved in TensorFlow format with `save_weights`. The model's weights will be saved, but unlike with TensorFlow optimizers in the TensorFlow format the optimizer's state will not be saved.\n",
      "\n",
      "Consider using a TensorFlow optimizer from `tf.train`.\n",
      "3/3 [==============================] - 20s 7s/step - loss: 1.2662\n",
      "Epoch 90/100\n",
      "2/3 [===================>..........] - ETA: 6s - loss: 1.1776 WARNING:tensorflow:This model was compiled with a Keras optimizer (<tensorflow.python.keras.optimizers.Adam object at 0xb3d7c1ba8>) but is being saved in TensorFlow format with `save_weights`. The model's weights will be saved, but unlike with TensorFlow optimizers in the TensorFlow format the optimizer's state will not be saved.\n",
      "\n",
      "Consider using a TensorFlow optimizer from `tf.train`.\n",
      "3/3 [==============================] - 20s 7s/step - loss: 1.1773\n",
      "Epoch 91/100\n",
      "2/3 [===================>..........] - ETA: 6s - loss: 1.0707 WARNING:tensorflow:This model was compiled with a Keras optimizer (<tensorflow.python.keras.optimizers.Adam object at 0xb3d7c1ba8>) but is being saved in TensorFlow format with `save_weights`. The model's weights will be saved, but unlike with TensorFlow optimizers in the TensorFlow format the optimizer's state will not be saved.\n",
      "\n",
      "Consider using a TensorFlow optimizer from `tf.train`.\n",
      "3/3 [==============================] - 20s 7s/step - loss: 1.1276\n",
      "Epoch 92/100\n",
      "2/3 [===================>..........] - ETA: 6s - loss: 1.1823 WARNING:tensorflow:This model was compiled with a Keras optimizer (<tensorflow.python.keras.optimizers.Adam object at 0xb3d7c1ba8>) but is being saved in TensorFlow format with `save_weights`. The model's weights will be saved, but unlike with TensorFlow optimizers in the TensorFlow format the optimizer's state will not be saved.\n",
      "\n",
      "Consider using a TensorFlow optimizer from `tf.train`.\n",
      "3/3 [==============================] - 20s 7s/step - loss: 1.1610\n",
      "Epoch 93/100\n",
      "2/3 [===================>..........] - ETA: 6s - loss: 0.9853 WARNING:tensorflow:This model was compiled with a Keras optimizer (<tensorflow.python.keras.optimizers.Adam object at 0xb3d7c1ba8>) but is being saved in TensorFlow format with `save_weights`. The model's weights will be saved, but unlike with TensorFlow optimizers in the TensorFlow format the optimizer's state will not be saved.\n",
      "\n",
      "Consider using a TensorFlow optimizer from `tf.train`.\n",
      "3/3 [==============================] - 20s 7s/step - loss: 0.9949\n",
      "Epoch 94/100\n",
      "2/3 [===================>..........] - ETA: 7:37 - loss: 1.1210WARNING:tensorflow:This model was compiled with a Keras optimizer (<tensorflow.python.keras.optimizers.Adam object at 0xb3d7c1ba8>) but is being saved in TensorFlow format with `save_weights`. The model's weights will be saved, but unlike with TensorFlow optimizers in the TensorFlow format the optimizer's state will not be saved.\n",
      "\n",
      "Consider using a TensorFlow optimizer from `tf.train`.\n",
      "3/3 [==============================] - 922s 307s/step - loss: 1.1463\n",
      "Epoch 95/100\n",
      "2/3 [===================>..........] - ETA: 9s - loss: 1.0024 WARNING:tensorflow:This model was compiled with a Keras optimizer (<tensorflow.python.keras.optimizers.Adam object at 0xb3d7c1ba8>) but is being saved in TensorFlow format with `save_weights`. The model's weights will be saved, but unlike with TensorFlow optimizers in the TensorFlow format the optimizer's state will not be saved.\n",
      "\n",
      "Consider using a TensorFlow optimizer from `tf.train`.\n",
      "3/3 [==============================] - 25s 8s/step - loss: 1.0863\n",
      "Epoch 96/100\n",
      "2/3 [===================>..........] - ETA: 6s - loss: 1.0253 WARNING:tensorflow:This model was compiled with a Keras optimizer (<tensorflow.python.keras.optimizers.Adam object at 0xb3d7c1ba8>) but is being saved in TensorFlow format with `save_weights`. The model's weights will be saved, but unlike with TensorFlow optimizers in the TensorFlow format the optimizer's state will not be saved.\n",
      "\n",
      "Consider using a TensorFlow optimizer from `tf.train`.\n"
     ]
    },
    {
     "name": "stdout",
     "output_type": "stream",
     "text": [
      "3/3 [==============================] - 20s 7s/step - loss: 1.0653\n",
      "Epoch 97/100\n",
      "2/3 [===================>..........] - ETA: 6s - loss: 1.0392 WARNING:tensorflow:This model was compiled with a Keras optimizer (<tensorflow.python.keras.optimizers.Adam object at 0xb3d7c1ba8>) but is being saved in TensorFlow format with `save_weights`. The model's weights will be saved, but unlike with TensorFlow optimizers in the TensorFlow format the optimizer's state will not be saved.\n",
      "\n",
      "Consider using a TensorFlow optimizer from `tf.train`.\n",
      "3/3 [==============================] - 20s 7s/step - loss: 1.0335\n",
      "Epoch 98/100\n",
      "2/3 [===================>..........] - ETA: 6s - loss: 1.0786 WARNING:tensorflow:This model was compiled with a Keras optimizer (<tensorflow.python.keras.optimizers.Adam object at 0xb3d7c1ba8>) but is being saved in TensorFlow format with `save_weights`. The model's weights will be saved, but unlike with TensorFlow optimizers in the TensorFlow format the optimizer's state will not be saved.\n",
      "\n",
      "Consider using a TensorFlow optimizer from `tf.train`.\n",
      "3/3 [==============================] - 20s 7s/step - loss: 1.0970\n",
      "Epoch 99/100\n",
      "2/3 [===================>..........] - ETA: 6s - loss: 1.0281 WARNING:tensorflow:This model was compiled with a Keras optimizer (<tensorflow.python.keras.optimizers.Adam object at 0xb3d7c1ba8>) but is being saved in TensorFlow format with `save_weights`. The model's weights will be saved, but unlike with TensorFlow optimizers in the TensorFlow format the optimizer's state will not be saved.\n",
      "\n",
      "Consider using a TensorFlow optimizer from `tf.train`.\n",
      "3/3 [==============================] - 20s 7s/step - loss: 1.0579\n",
      "Epoch 100/100\n",
      "2/3 [===================>..........] - ETA: 6s - loss: 1.0225 WARNING:tensorflow:This model was compiled with a Keras optimizer (<tensorflow.python.keras.optimizers.Adam object at 0xb3d7c1ba8>) but is being saved in TensorFlow format with `save_weights`. The model's weights will be saved, but unlike with TensorFlow optimizers in the TensorFlow format the optimizer's state will not be saved.\n",
      "\n",
      "Consider using a TensorFlow optimizer from `tf.train`.\n",
      "3/3 [==============================] - 20s 7s/step - loss: 0.9946\n"
     ]
    }
   ],
   "source": [
    "history = model.fit(dataset, epochs=EPOCHS, callbacks=[checkpoint_callback], steps_per_epoch=3)"
   ]
  },
  {
   "cell_type": "markdown",
   "metadata": {
    "colab_type": "text",
    "id": "kKkD5M6eoSiN"
   },
   "source": [
    "## Generate text"
   ]
  },
  {
   "cell_type": "markdown",
   "metadata": {
    "colab_type": "text",
    "id": "JIPcXllKjkdr"
   },
   "source": [
    "### Restore the latest checkpoint"
   ]
  },
  {
   "cell_type": "markdown",
   "metadata": {
    "colab_type": "text",
    "id": "LyeYRiuVjodY"
   },
   "source": [
    "To keep this prediction step simple, use a batch size of 1.\n",
    "\n",
    "Because of the way the RNN state is passed from timestep to timestep, the model only accepts a fixed batch size once built.\n",
    "\n",
    "To run the model with a different `batch_size`, we need to rebuild the model and restore the weights from the checkpoint.\n"
   ]
  },
  {
   "cell_type": "code",
   "execution_count": 63,
   "metadata": {
    "colab": {},
    "colab_type": "code",
    "id": "zk2WJ2-XjkGz"
   },
   "outputs": [
    {
     "data": {
      "text/plain": [
       "'./training_checkpoints_no_spaces/ckpt_100'"
      ]
     },
     "execution_count": 63,
     "metadata": {},
     "output_type": "execute_result"
    }
   ],
   "source": [
    "tf.train.latest_checkpoint(checkpoint_dir)"
   ]
  },
  {
   "cell_type": "code",
   "execution_count": 64,
   "metadata": {
    "colab": {},
    "colab_type": "code",
    "id": "LycQ-ot_jjyu"
   },
   "outputs": [],
   "source": [
    "model = build_model(vocab_size, embedding_dim, rnn_units, batch_size=1)\n",
    "\n",
    "model.load_weights(tf.train.latest_checkpoint(checkpoint_dir))\n",
    "\n",
    "model.build(tf.TensorShape([1, None]))"
   ]
  },
  {
   "cell_type": "code",
   "execution_count": 65,
   "metadata": {
    "colab": {},
    "colab_type": "code",
    "id": "71xa6jnYVrAN"
   },
   "outputs": [
    {
     "name": "stdout",
     "output_type": "stream",
     "text": [
      "_________________________________________________________________\n",
      "Layer (type)                 Output Shape              Param #   \n",
      "=================================================================\n",
      "embedding_3 (Embedding)      (1, None, 256)            166912    \n",
      "_________________________________________________________________\n",
      "gru_3 (GRU)                  (1, None, 1024)           3935232   \n",
      "_________________________________________________________________\n",
      "dense_3 (Dense)              (1, None, 652)            668300    \n",
      "=================================================================\n",
      "Total params: 4,770,444\n",
      "Trainable params: 4,770,444\n",
      "Non-trainable params: 0\n",
      "_________________________________________________________________\n"
     ]
    }
   ],
   "source": [
    "model.summary()"
   ]
  },
  {
   "cell_type": "markdown",
   "metadata": {
    "colab_type": "text",
    "id": "DjGz1tDkzf-u"
   },
   "source": [
    "### The prediction loop\n",
    "\n",
    "The following code block generates the text:\n",
    "\n",
    "* It Starts by choosing a start string, initializing the RNN state and setting the number of characters to generate.\n",
    "\n",
    "* Get the prediction distribution of the next character using the start string and the RNN state.\n",
    "\n",
    "* Then, use a categorical distribution to calculate the index of the predicted character. Use this predicted character as our next input to the model.\n",
    "\n",
    "* The RNN state returned by the model is fed back into the model so that it now has more context, instead than only one word. After predicting the next word, the modified RNN states are again fed back into the model, which is how it learns as it gets more context from the previously predicted words.\n",
    "\n",
    "\n",
    "![To generate text the model's output is fed back to the input](images/text_generation_sampling.png)\n",
    "\n",
    "Looking at the generated text, you'll see the model knows when to capitalize, make paragraphs and imitates a Shakespeare-like writing vocabulary. With the small number of training epochs, it has not yet learned to form coherent sentences."
   ]
  },
  {
   "cell_type": "code",
   "execution_count": 66,
   "metadata": {
    "colab": {},
    "colab_type": "code",
    "id": "WvuwZBX5Ogfd"
   },
   "outputs": [],
   "source": [
    "def generate_text(model, start_string):\n",
    "  # Evaluation step (generating text using the learned model)\n",
    "\n",
    "\n",
    "  # Number of characters to generate\n",
    "  num_generate = seq_length\n",
    "\n",
    "  # Converting our start string to numbers (vectorizing)\n",
    "  tokens = start_string.split(\" \"\n",
    "  print(\"tokens:\", tokens)\n",
    "  input_eval = [word2idx[s] for s in tokens]\n",
    "  print('input_eval:')\n",
    "  print(input_eval)\n",
    "  input_eval = tf.expand_dims(input_eval, 0)\n",
    "\n",
    "  # Empty string to store our results\n",
    "  text_generated = []\n",
    "\n",
    "  # Low temperatures results in more predictable text.\n",
    "  # Higher temperatures results in more surprising text.\n",
    "  # Experiment to find the best setting.\n",
    "  temperature = 1.0\n",
    "\n",
    "  # Here batch size == 1\n",
    "  model.reset_states()\n",
    "  for i in range(num_generate):\n",
    "      predictions = model(input_eval)\n",
    "      # remove the batch dimension\n",
    "      predictions = tf.squeeze(predictions, 0)\n",
    "\n",
    "      # using a categorical distribution to predict the word returned by the model\n",
    "      predictions = predictions / temperature\n",
    "      predicted_id = tf.random.categorical(predictions, num_samples=1)[-1,0].numpy()\n",
    "\n",
    "      # We pass the predicted word as the next input to the model\n",
    "      # along with the previous hidden state\n",
    "      input_eval = tf.expand_dims([predicted_id], 0)\n",
    "\n",
    "      text_generated.append(idx2word[predicted_id])\n",
    "\n",
    "  return (' '.join(tokens + text_generated)) #join with a space"
   ]
  },
  {
   "cell_type": "code",
   "execution_count": 67,
   "metadata": {
    "colab": {},
    "colab_type": "code",
    "id": "ktovv0RFhrkn"
   },
   "outputs": [
    {
     "name": "stdout",
     "output_type": "stream",
     "text": [
      "tokens: ['1', '2', '1', '1']\n",
      "input_eval:\n",
      "[1, 112, 1, 1]\n",
      "1 2 1 1 1 1 1 1 1 1 1 1 1 1 1 1 1 1 1 1 1 495 206 559 405 619 619 214 69 69 619 65 0 113 0 0 0 0 0 358 14 133 0 0 0 0 0 0 0 0 0 170 500 407 468 468 87 0 0 0 0 0 0 0 2 218 0 0 0 0 0 0 0 0 0 0 378 12 113 113 113 113 113 113 0 0 0 0 217 515 236 0 0 0 0 0 0 0 0 0 0 0 7 0 0 0 0 0 0 0 0 0 0 0 0 0 0 0 0 0 0 0 0 0 0 0\n"
     ]
    }
   ],
   "source": [
    "print(generate_text(model, start_string=u\"1 2 1 1\"))"
   ]
  },
  {
   "cell_type": "code",
   "execution_count": 68,
   "metadata": {
    "colab": {},
    "colab_type": "code",
    "id": "ktovv0RFhrkn",
    "scrolled": false
   },
   "outputs": [
    {
     "name": "stdout",
     "output_type": "stream",
     "text": [
      "tokens: ['424', '0', '424', '424', '424', '424', '424', '424']\n",
      "input_eval:\n",
      "[362, 0, 362, 362, 362, 362, 362, 362]\n",
      "424 0 424 424 424 424 424 424 424 424 424 424 424 424 424 424 63 63 63 427 0 90 0 0 0 0 0 333 333 333 333 333 333 193 0 0 468 0 0 0 68 299 299 299 299 299 299 299 0 0 444 0 0 0 0 0 0 0 0 0 0 0 0 0 0 0 0 0 0 0 0 0 0 0 0 0 0 0 0 0 0 0 0 0 0 11 0 0 0 0 0 0 0 0 0 0 0 0 147 0 0 0 0 0 0 0 0 0 0 0 0 0 0 0 0 0 0 0 0 0 0 0 0 0 0 0 0 0 0 0\n"
     ]
    }
   ],
   "source": [
    "print(generate_text(model, start_string=u\"424 0 424 424 424 424 424 424\"))"
   ]
  },
  {
   "cell_type": "code",
   "execution_count": 77,
   "metadata": {},
   "outputs": [
    {
     "name": "stdout",
     "output_type": "stream",
     "text": [
      "['1', '1', '1', '1', '1', '1', '1', '1', '1', '2', '2', '2', '2', '2', '2', '2', '0', '0', '1', '1', '3', '1', '1', '1', '1', '1', '1', '1', '1', '1', '1', '1', '1', '1', '1', '4', '1', '1', '5', '5', '1', '1', '1', '1', '1', '1', '1', '1', '1', '1', '1', '1', '1', '1', '1', '1', '1', '1', '0', '2', '2', '2', '2', '2', '1', '1', '1', '6', '6', '6', '6', '1', '1', '1', '1', '1', '1', '1', '1', '1', '1', '2', '2', '2', '2', '2', '2', '2', '1', '1', '1', '1', '1', '7', '1', '1', '1', '1', '1', '1']\n",
      "7854444\n",
      "[('650', 1), ('651', 32), ('295', 35), ('649', 76), ('395', 92), ('606', 119), ('390', 377), ('578', 554), ('619', 574), ('627', 607), ('103', 686), ('514', 734), ('646', 864), ('642', 898), ('623', 911), ('608', 953), ('226', 965), ('143', 981), ('648', 1013), ('392', 1129), ('200', 1196), ('107', 1252), ('452', 1274), ('501', 1475), ('631', 1482), ('557', 1510), ('234', 1548), ('595', 1579), ('190', 1630), ('562', 1665), ('299', 1679), ('628', 1680), ('485', 1713), ('617', 1714), ('222', 1716), ('570', 1732), ('276', 1771), ('460', 1790), ('507', 1794), ('599', 1834), ('643', 1857), ('290', 1869), ('96', 1926), ('644', 2030), ('568', 2089), ('417', 2095), ('511', 2114), ('90', 2127), ('561', 2152), ('622', 2170), ('378', 2173), ('151', 2202), ('647', 2214), ('379', 2237), ('583', 2250), ('150', 2262), ('632', 2291), ('602', 2315), ('63', 2385), ('329', 2437), ('455', 2441), ('205', 2442), ('419', 2445), ('62', 2451), ('374', 2466), ('560', 2493), ('361', 2496), ('57', 2506), ('100', 2536), ('645', 2537), ('585', 2590), ('81', 2604), ('605', 2627), ('458', 2678), ('454', 2703), ('596', 2713), ('641', 2721), ('432', 2738), ('584', 2744), ('586', 2749), ('504', 2750), ('20', 2755), ('260', 2773), ('462', 2788), ('154', 2797), ('156', 2803), ('360', 2805), ('581', 2837), ('538', 2846), ('250', 2859), ('140', 2867), ('303', 2868), ('197', 2884), ('67', 2903), ('459', 2914), ('204', 2916), ('495', 2919), ('273', 2923), ('373', 2926), ('512', 2926), ('98', 2927), ('444', 2939), ('139', 2969), ('521', 2972), ('634', 2977), ('626', 2983), ('345', 2990), ('362', 3003), ('433', 3026), ('104', 3040), ('539', 3044), ('327', 3049), ('535', 3074), ('621', 3074), ('587', 3087), ('624', 3101), ('607', 3105), ('215', 3147), ('93', 3151), ('162', 3152), ('494', 3158), ('185', 3190), ('516', 3194), ('413', 3196), ('547', 3199), ('457', 3237), ('365', 3241), ('227', 3262), ('313', 3271), ('559', 3279), ('266', 3311), ('616', 3347), ('548', 3355), ('115', 3365), ('182', 3373), ('488', 3424), ('490', 3461), ('213', 3470), ('407', 3522), ('216', 3528), ('209', 3537), ('212', 3543), ('536', 3545), ('415', 3546), ('640', 3547), ('429', 3558), ('312', 3561), ('208', 3601), ('527', 3601), ('499', 3603), ('550', 3634), ('336', 3641), ('403', 3641), ('600', 3648), ('105', 3659), ('612', 3676), ('340', 3677), ('614', 3680), ('262', 3692), ('152', 3700), ('589', 3714), ('72', 3731), ('629', 3738), ('604', 3763), ('14', 3825), ('191', 3836), ('376', 3839), ('380', 3845), ('522', 3845), ('268', 3868), ('306', 3868), ('206', 3872), ('316', 3872), ('263', 3886), ('317', 3896), ('611', 3904), ('540', 3905), ('513', 3925), ('461', 3935), ('437', 3942), ('83', 3943), ('575', 3947), ('416', 3957), ('590', 3971), ('545', 3989), ('70', 3995), ('196', 4011), ('537', 4015), ('630', 4072), ('288', 4085), ('471', 4085), ('193', 4104), ('533', 4116), ('577', 4123), ('101', 4124), ('542', 4141), ('25', 4145), ('636', 4145), ('192', 4147), ('366', 4149), ('427', 4152), ('505', 4152), ('431', 4176), ('86', 4178), ('116', 4203), ('168', 4212), ('356', 4229), ('502', 4235), ('167', 4253), ('368', 4281), ('99', 4329), ('526', 4332), ('142', 4334), ('484', 4335), ('491', 4345), ('256', 4355), ('440', 4358), ('487', 4366), ('88', 4369), ('500', 4372), ('297', 4375), ('122', 4401), ('401', 4412), ('386', 4424), ('95', 4431), ('597', 4440), ('529', 4442), ('315', 4447), ('565', 4448), ('450', 4461), ('555', 4464), ('408', 4471), ('637', 4500), ('571', 4521), ('428', 4522), ('174', 4523), ('267', 4530), ('625', 4546), ('114', 4548), ('7', 4559), ('434', 4572), ('367', 4577), ('54', 4606), ('69', 4649), ('393', 4654), ('347', 4663), ('199', 4667), ('430', 4669), ('566', 4679), ('264', 4682), ('92', 4683), ('456', 4698), ('567', 4712), ('613', 4724), ('284', 4729), ('265', 4732), ('363', 4759), ('125', 4763), ('638', 4763), ('541', 4787), ('406', 4790), ('358', 4805), ('66', 4814), ('438', 4818), ('164', 4819), ('546', 4833), ('528', 4849), ('305', 4854), ('451', 4854), ('633', 4856), ('286', 4860), ('236', 4864), ('320', 4885), ('9', 4925), ('477', 4930), ('576', 4935), ('323', 4945), ('556', 4945), ('161', 4954), ('165', 4956), ('466', 4956), ('111', 4958), ('231', 4965), ('198', 4980), ('508', 4982), ('400', 4993), ('580', 5012), ('337', 5022), ('549', 5029), ('120', 5044), ('240', 5045), ('121', 5046), ('476', 5058), ('423', 5062), ('186', 5110), ('412', 5118), ('572', 5142), ('532', 5155), ('325', 5160), ('426', 5196), ('424', 5209), ('480', 5228), ('159', 5231), ('239', 5250), ('278', 5258), ('2', 5260), ('348', 5275), ('287', 5287), ('43', 5296), ('289', 5312), ('402', 5339), ('235', 5342), ('97', 5353), ('579', 5354), ('467', 5365), ('591', 5387), ('42', 5390), ('503', 5391), ('523', 5393), ('17', 5420), ('158', 5421), ('130', 5428), ('179', 5428), ('19', 5435), ('285', 5437), ('308', 5456), ('558', 5464), ('145', 5479), ('609', 5502), ('473', 5511), ('8', 5511), ('249', 5528), ('543', 5528), ('409', 5531), ('357', 5546), ('524', 5546), ('530', 5556), ('228', 5566), ('492', 5573), ('178', 5589), ('515', 5608), ('620', 5629), ('519', 5654), ('153', 5682), ('21', 5683), ('339', 5704), ('202', 5724), ('84', 5745), ('321', 5749), ('486', 5754), ('364', 5757), ('474', 5758), ('553', 5764), ('404', 5787), ('618', 5799), ('435', 5800), ('396', 5846), ('525', 5856), ('479', 5929), ('269', 5930), ('318', 5938), ('610', 5942), ('108', 5944), ('588', 5950), ('22', 5968), ('112', 5981), ('189', 5981), ('359', 5989), ('594', 6009), ('211', 6074), ('15', 6079), ('294', 6089), ('233', 6120), ('391', 6126), ('436', 6133), ('383', 6142), ('324', 6176), ('410', 6179), ('498', 6190), ('291', 6244), ('155', 6246), ('201', 6254), ('370', 6265), ('110', 6282), ('601', 6282), ('241', 6302), ('183', 6340), ('248', 6384), ('510', 6389), ('194', 6399), ('639', 6402), ('76', 6423), ('301', 6441), ('489', 6451), ('147', 6456), ('418', 6476), ('230', 6491), ('85', 6506), ('349', 6517), ('405', 6520), ('375', 6523), ('129', 6554), ('207', 6557), ('237', 6565), ('371', 6594), ('531', 6615), ('387', 6619), ('478', 6635), ('354', 6637), ('384', 6696), ('319', 6739), ('31', 6787), ('322', 6793), ('30', 6832), ('144', 6835), ('448', 6838), ('292', 6842), ('232', 6848), ('330', 6849), ('314', 6921), ('509', 6946), ('420', 6960), ('176', 6983), ('353', 6987), ('75', 7010), ('18', 7029), ('271', 7079), ('342', 7130), ('245', 7134), ('389', 7137), ('534', 7161), ('598', 7170), ('463', 7189), ('55', 7207), ('421', 7255), ('210', 7264), ('280', 7278), ('351', 7280), ('332', 7289), ('53', 7289), ('443', 7300), ('483', 7330), ('493', 7338), ('338', 7361), ('123', 7376), ('282', 7377), ('60', 7402), ('44', 7410), ('414', 7415), ('26', 7438), ('520', 7488), ('73', 7503), ('272', 7505), ('397', 7525), ('422', 7546), ('171', 7551), ('453', 7552), ('388', 7565), ('138', 7584), ('552', 7598), ('141', 7602), ('281', 7620), ('352', 7631), ('506', 7676), ('551', 7692), ('411', 7698), ('124', 7799), ('574', 7818), ('310', 7838), ('372', 7855), ('447', 7869), ('304', 7875), ('252', 7886), ('298', 7908), ('331', 7912), ('195', 7934), ('544', 7945), ('293', 8005), ('311', 8005), ('137', 8091), ('554', 8105), ('341', 8108), ('175', 8129), ('229', 8129), ('518', 8129), ('381', 8140), ('279', 8147), ('254', 8279), ('399', 8309), ('177', 8317), ('131', 8341), ('445', 8351), ('475', 8374), ('470', 8397), ('328', 8402), ('482', 8404), ('326', 8415), ('258', 8425), ('309', 8425), ('244', 8434), ('180', 8446), ('109', 8448), ('5', 8451), ('102', 8468), ('134', 8491), ('465', 8498), ('32', 8533), ('133', 8540), ('635', 8568), ('335', 8572), ('582', 8590), ('369', 8607), ('126', 8608), ('203', 8659), ('593', 8678), ('214', 8688), ('425', 8747), ('300', 8831), ('87', 8869), ('117', 8882), ('91', 8884), ('333', 8950), ('246', 9017), ('563', 9018), ('603', 9047), ('615', 9052), ('77', 9101), ('302', 9164), ('65', 9192), ('569', 9229), ('1', 9239), ('472', 9277), ('23', 9323), ('275', 9351), ('106', 9364), ('127', 9436), ('39', 9461), ('184', 9467), ('346', 9492), ('344', 9577), ('464', 9586), ('135', 9622), ('80', 9719), ('334', 9771), ('307', 9790), ('163', 9812), ('11', 9814), ('439', 9857), ('225', 9862), ('89', 9879), ('50', 9885), ('270', 9888), ('46', 9936), ('446', 9943), ('517', 9953), ('573', 9989), ('468', 9991), ('277', 10005), ('223', 10047), ('187', 10072), ('350', 10072), ('261', 10088), ('481', 10117), ('283', 10145), ('382', 10234), ('16', 10304), ('251', 10341), ('113', 10345), ('255', 10359), ('441', 10402), ('219', 10453), ('166', 10455), ('242', 10531), ('6', 10556), ('27', 10590), ('343', 10654), ('41', 10661), ('74', 10672), ('377', 10678), ('220', 10723), ('36', 10785), ('71', 10806), ('221', 10870), ('469', 11064), ('78', 11124), ('157', 11220), ('238', 11229), ('257', 11310), ('10', 11324), ('3', 11336), ('148', 11342), ('259', 11381), ('253', 11409), ('181', 11441), ('442', 11461), ('564', 11576), ('218', 11594), ('394', 11616), ('38', 11626), ('496', 11636), ('247', 11649), ('592', 11751), ('118', 11808), ('497', 11893), ('296', 12029), ('136', 12076), ('172', 12218), ('79', 12307), ('52', 12394), ('173', 12397), ('160', 12409), ('355', 12429), ('37', 12530), ('217', 12639), ('119', 12644), ('82', 12720), ('132', 12752), ('35', 12780), ('169', 12810), ('58', 12844), ('128', 13133), ('94', 13144), ('12', 13174), ('61', 13488), ('146', 13527), ('40', 13563), ('398', 13630), ('45', 13795), ('24', 13876), ('243', 13913), ('49', 14276), ('188', 14373), ('170', 14704), ('33', 14709), ('47', 14715), ('34', 15301), ('28', 15357), ('48', 15560), ('274', 15643), ('449', 16402), ('56', 16451), ('59', 16995), ('149', 17184), ('51', 17268), ('68', 17457), ('385', 19843), ('4', 19955), ('224', 20099), ('29', 24051), ('64', 26181), ('13', 45488), ('0', 3741444)]\n"
     ]
    }
   ],
   "source": [
    "# Get the counts of each tract in our dataset to see if model is predicting the highest occuring ones more.\n",
    "\n",
    "text = open(path_to_file, 'rb').read().decode(encoding='utf-8')\n",
    "lines = text.split('\\n')\n",
    "\n",
    "all_tokens = []\n",
    "for line in lines:\n",
    "    tokens = line.split(' ')\n",
    "    all_tokens += tokens\n",
    "print(all_tokens[:100])\n",
    "all_tokens = all_tokens[:len(all_tokens)-1] # last element is empty string \"\"\n",
    "print(len(all_tokens))\n",
    "\n",
    "counts = []\n",
    "for word in idx2word:\n",
    "    count = all_tokens.count(word)\n",
    "    counts.append((word, count))\n",
    "    \n",
    "sorted_counts = sorted(counts, key=lambda tup: tup[1])\n",
    "print(sorted_counts)  "
   ]
  },
  {
   "cell_type": "markdown",
   "metadata": {
    "colab_type": "text",
    "id": "AM2Uma_-yVIq"
   },
   "source": [
    "The easiest thing you can do to improve the results it to train it for longer (try `EPOCHS=30`).\n",
    "\n",
    "You can also experiment with a different start string, or try adding another RNN layer to improve the model's accuracy, or adjusting the temperature parameter to generate more or less random predictions."
   ]
  },
  {
   "cell_type": "markdown",
   "metadata": {
    "colab_type": "text",
    "id": "Y4QwTjAM6A2O"
   },
   "source": [
    "## Advanced: Customized Training\n",
    "\n",
    "The above training procedure is simple, but does not give you much control.\n",
    "\n",
    "So now that you've seen how to run the model manually let's unpack the training loop, and implement it ourselves. This gives a starting point if, for example, to implement _curriculum learning_ to help stabilize the model's open-loop output.\n",
    "\n",
    "We will use `tf.GradientTape` to track the gradients. You can learn more about this approach by reading the [eager execution guide](https://www.tensorflow.org/guide/eager).\n",
    "\n",
    "The procedure works as follows:\n",
    "\n",
    "* First, initialize the RNN state. We do this by calling the `tf.keras.Model.reset_states` method.\n",
    "\n",
    "* Next, iterate over the dataset (batch by batch) and calculate the *predictions* associated with each.\n",
    "\n",
    "* Open a `tf.GradientTape`, and calculate the predictions and loss in that context.\n",
    "\n",
    "* Calculate the gradients of the loss with respect to the model variables using the `tf.GradientTape.grads` method.\n",
    "\n",
    "* Finally, take a step downwards by using the optimizer's `tf.train.Optimizer.apply_gradients` method.\n",
    "\n"
   ]
  },
  {
   "cell_type": "code",
   "execution_count": null,
   "metadata": {
    "colab": {},
    "colab_type": "code",
    "id": "_XAm7eCoKULT"
   },
   "outputs": [],
   "source": [
    "model = build_model(\n",
    "  vocab_size = len(vocab),\n",
    "  embedding_dim=embedding_dim,\n",
    "  rnn_units=rnn_units,\n",
    "  batch_size=BATCH_SIZE)"
   ]
  },
  {
   "cell_type": "code",
   "execution_count": null,
   "metadata": {
    "colab": {},
    "colab_type": "code",
    "id": "qUKhnZtMVpoJ"
   },
   "outputs": [],
   "source": [
    "optimizer = tf.keras.optimizers.Adam()"
   ]
  },
  {
   "cell_type": "code",
   "execution_count": null,
   "metadata": {
    "colab": {},
    "colab_type": "code",
    "id": "b4kH1o0leVIp"
   },
   "outputs": [],
   "source": [
    "@tf.function\n",
    "def train_step(inp, target):\n",
    "  with tf.GradientTape() as tape:\n",
    "    predictions = model(inp)\n",
    "    loss = tf.reduce_mean(\n",
    "        tf.keras.losses.sparse_categorical_crossentropy(\n",
    "            target, predictions, from_logits=True))\n",
    "  grads = tape.gradient(loss, model.trainable_variables)\n",
    "  optimizer.apply_gradients(zip(grads, model.trainable_variables))\n",
    "\n",
    "  return loss"
   ]
  },
  {
   "cell_type": "code",
   "execution_count": null,
   "metadata": {
    "colab": {},
    "colab_type": "code",
    "id": "d4tSNwymzf-q"
   },
   "outputs": [],
   "source": [
    "# Training step\n",
    "EPOCHS = 30\n",
    "\n",
    "for epoch in range(EPOCHS):\n",
    "  start = time.time()\n",
    "\n",
    "  # initializing the hidden state at the start of every epoch\n",
    "  # initally hidden is None\n",
    "  hidden = model.reset_states()\n",
    "\n",
    "  for (batch_n, (inp, target)) in enumerate(dataset):\n",
    "    loss = train_step(inp, target)\n",
    "\n",
    "    if batch_n % 100 == 0:\n",
    "      template = 'Epoch {} Batch {} Loss {}'\n",
    "      print(template.format(epoch+1, batch_n, loss))\n",
    "\n",
    "  # saving (checkpoint) the model every 5 epochs\n",
    "  if (epoch + 1) % 5 == 0:\n",
    "    model.save_weights(checkpoint_prefix.format(epoch=epoch))\n",
    "\n",
    "  print ('Epoch {} Loss {:.4f}'.format(epoch+1, loss))\n",
    "  print ('Time taken for 1 epoch {} sec\\n'.format(time.time() - start))\n",
    "\n",
    "model.save_weights(checkpoint_prefix.format(epoch=epoch))"
   ]
  },
  {
   "cell_type": "code",
   "execution_count": null,
   "metadata": {},
   "outputs": [],
   "source": []
  }
 ],
 "metadata": {
  "accelerator": "GPU",
  "colab": {
   "collapsed_sections": [],
   "name": "text_generation.ipynb",
   "private_outputs": true,
   "provenance": [],
   "toc_visible": true,
   "version": "0.3.2"
  },
  "kernelspec": {
   "display_name": "Python 3",
   "language": "python",
   "name": "python3"
  },
  "language_info": {
   "codemirror_mode": {
    "name": "ipython",
    "version": 3
   },
   "file_extension": ".py",
   "mimetype": "text/x-python",
   "name": "python",
   "nbconvert_exporter": "python",
   "pygments_lexer": "ipython3",
   "version": "3.7.1"
  }
 },
 "nbformat": 4,
 "nbformat_minor": 1
}

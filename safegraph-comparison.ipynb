{
 "cells": [
  {
   "cell_type": "markdown",
   "metadata": {
    "id": "mjUR2XYBtSO3"
   },
   "source": [
    "![alt text](https://global-uploads.webflow.com/5baafc2653bd67278f206724/5be267a03f7813daf821b31e_safegraph-logo-hidpi%403x-p-500.png)\n"
   ]
  },
  {
   "cell_type": "markdown",
   "metadata": {
    "id": "ZE97HH76SArR"
   },
   "source": [
    "# This notebook is based on a notebook provided by SafeGraph and modified by Alex Berke\n",
    "\n",
    "It was modified to measure the correlation / reporting bias of devices at the census tract level, constrained to 3 census tracts in MA. "
   ]
  },
  {
   "cell_type": "markdown",
   "metadata": {
    "id": "xsNNli6GTN6s"
   },
   "source": [
    "# \"What about bias in your dataset?\" \n",
    "\n",
    "## Quantifying Sampling Bias in SafeGraph Patterns\n",
    "\n",
    "--------------\n",
    "**[Ryan Fox Squire](https://www.linkedin.com/in/ryanfoxsquire/) | Data Scientist, [SafeGraph](https://safegraph.com/?utm_source=content&utm_medium=referral&utm_campaign=colabnotebook&utm_content=panel_bias)**\n",
    "\n",
    "\n",
    "Oct 2019\n",
    "\n",
    "--------------\n",
    "*Share this notebook: [Shareable Link](https://colab.research.google.com/drive/1u15afRytJMsizySFqA2EPlXSh3KTmNTQ#offline=true&sandboxMode=true\n",
    ")*\n"
   ]
  },
  {
   "cell_type": "markdown",
   "metadata": {
    "id": "oBADlZgHTsWg"
   },
   "source": [
    "## Introduction: \"What about bias in your dataset?\"\n",
    "\n",
    "SafeGraph Patterns measures foot-traffic patterns to 3.6MM commercial points-of-interest from over 45MM mobile devices in the United States and provides a monumental window into American commerce. SafeGraph data users look through this window to ask detailed questions about consumer behavior. \n",
    "<br/><br/>\n",
    "\n",
    "![alt text](https://user-images.githubusercontent.com/6432906/67054597-f33e9a80-f0f9-11e9-81e2-777d78ef36d9.png)\n",
    "\n",
    "###### Image Credit: [123RF Stock Photo ](https://www.123rf.com/profile_elenabsl)\n",
    "<br/><br/>\n",
    "\n",
    "A common question we hear from SafeGraph Patterns customers is “What about bias in your dataset?”. \"Does your panel really represent the true American public?\". \"How do we know that your panel isn't oversampling wealthier people?\".  This is the kind of sophisticated data skepticism we ***love*** to hear.  A key part of [SafeGraph’s vision](https://blog.safegraph.com/safegraph-vision-and-values-circa-2017-d188d4185df2/?utm_source=content&utm_medium=referral&utm_campaign=colabnotebook&utm_content=panel_bias) is to *“Seek the Truth About the World...Of course, data can never be 100% true, but we should strive to make it 100% true.”* \n",
    "\n",
    "And although SafeGraph Patterns aggregates data from ~ 10% of devices in the United States (a very impressive sample, if we don't say so ourselves!) this sample is not a perfect representative subset of the population. Like all samples, the SafeGraph dataset has [sampling error](https://en.wikipedia.org/wiki/Sampling_error). \n",
    "<br/><br/>\n",
    "\n",
    "### This is a technical blog post designed for data scientists and analysts to answer the following questions:\n",
    "* What is Sampling Bias and why is it a problem?\n",
    "* How biased is the SafeGraph Patterns dataset? How do we quantify sampling bias?\n",
    "\n",
    "We also include a short preview of a future post:\n",
    "* How do we correct the sampling bias to answer questions about consumer behavior? (e.g., What is a brand's true customer demographic? Or how far do people travel to visit my stores?)\n",
    "\n",
    "\n"
   ]
  },
  {
   "cell_type": "markdown",
   "metadata": {
    "id": "YDKLdlIk79-m"
   },
   "source": [
    "## What is Sampling Bias?\n",
    "\n",
    "\n",
    "\n",
    "[Sampling error](https://en.wikipedia.org/wiki/Sampling_error) is the difference between a sample and the population. Here, the “sample” is the panel of devices aggregated into SafeGraph Patterns and the “population” is the US Population. There are many possible causes of sampling error, but usually the most worrisome is **sampling bias**. Sampling bias is problematic because, unlike other sources of errors which diminish as your sample size increases, sampling bias is a systematic error, not helped by increasing sample size.\n",
    "<br/><br/>\n",
    "\n",
    "[Sampling bias](https://en.wikipedia.org/wiki/Sampling_bias) goes by multiple names (e.g., selection bias, ascertainment bias... these terms have nuanced technical differences, but are generally used synonymously). **Sampling bias is sampling error that arises from the collection of data from sub-groups of the population disproportionately.**  The intuition is simple: you want to sample from sub-groups of the population proportional to their presence in the population. If your population is 80% women and 20% men, then a true random sample should also approximately be 80% women and 20% men. If your sample is actually 50% men and 50% women, then your sample is biased in favor of men. \n",
    "\n",
    "\n",
    "\n",
    "\n"
   ]
  },
  {
   "cell_type": "markdown",
   "metadata": {
    "id": "MXRIRdBE-Puu"
   },
   "source": [
    "\n",
    "## Why is Sampling Bias (sometimes) a Huge Problem?\n",
    "\n",
    "Sampling bias can be insidious and is one of the most common types of mistakes in statistical analysis of survey or panel data. \n",
    "<br/><br/>\n",
    "\n",
    "**Example Scenario:** \n",
    "\n",
    " <img src=\"data:image/png;base64,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\" alt=\"Email Survey\" ALIGN=\"right\">\n",
    "\n",
    "> You manage a national retail business, and you email a survey to all your customers. When you analyze the results, you notice that most of the respondents live in California. In reality, most of your stores are in the Midwest. For whatever reason, your survey has significant sampling bias in favor of California. Customers in California may be different from your customers in the midwest in important ways (e.g. demographics, income, retail alternatives, product preferences, etc.). This is a problem. If you applied the results of your survey to your Midwest locations, then you would have a skewed view which could lead to bad (and expensive) business decisions (like stocking the wrong product mix or launching the wrong marketing campaign or buying the wrong real estate).\n",
    "\n",
    "\n",
    "\n",
    "\n",
    "How do you know whether sampling bias is a problem in your study? In general, if an independent variable (e.g. a consumer's home state) shows a significant correlation with your outcome variable (e.g. product preferences), then the distribution of this variable in your sample should be similar to the distribution of this variable in the whole population. If it isn’t, then you have a problematic sampling bias.\n",
    "\n",
    "\n",
    "A [simple random sample](https://en.wikipedia.org/wiki/Simple_random_sample) generally solves sampling bias (and is why random assignment to groups is a critical feature of AB tests). But often in the real world (like the email survey example above) random sampling during data collection isn't possible. You have to work with the data you get, and sometimes that data has sampling bias. \n"
   ]
  },
  {
   "cell_type": "markdown",
   "metadata": {
    "id": "pvPYDci4Dnf-"
   },
   "source": [
    "# How to Quantify Sampling Bias in SafeGraph Patterns\n",
    "\n",
    "We want to measure the (sampling) bias in the SafeGraph Patterns dataset so that we can answer questions like \"How many people visited this store?\" and \"Who are the customers of my competitor?\" without getting a biased or incomplete picture. \n",
    "\n",
    "\n",
    "\n"
   ]
  },
  {
   "cell_type": "markdown",
   "metadata": {
    "id": "2PgWXrESeVvE"
   },
   "source": [
    "\n",
    "## What is SafeGraph Patterns?\n",
    "SafeGraph Patterns is a dataset about commercial brick-and-mortar points-of-interest (POI) and  includes anonymized counts of how many people visit these POI each month. The counts of visitors are derived from a panel of anonymized mobile device data (see **What is the Panel Sample?** below). These counts are broken down by different dimensions, including by the **home census block group of the visitor**. For example, the dataset may report that 85 total devices visited a specific POI. It also reports that 50 of those visitors live in census block group X, 25 live in census block Y, and 10 live in census block group Z. \n",
    "\n",
    "\n",
    "\n",
    "The aggregated form of SafeGraph Patterns helps to ensure the protection of individuals' privacy, while also providing actionable data for statistical analysis and data science. For all the details on SafeGraph Patterns, see the [SafeGraph Patterns docs](https://docs.safegraph.com/docs/places-schema#section-patterns/?utm_source=content&utm_medium=referral&utm_campaign=colabnotebook&utm_content=panel_bias). \n",
    "\n"
   ]
  },
  {
   "cell_type": "markdown",
   "metadata": {
    "id": "WUWFYLLXowUJ"
   },
   "source": [
    "### What is the Panel Sample?\n",
    "\n",
    "But what is the sample from which SafeGraph Patterns is aggregated? SafeGraph Patterns is aggregated from a [panel](https://en.wikipedia.org/wiki/Panel_data) (sample of population that is measured longitudinally) of ~40MM mobile devices (e.g., smart phones) in the USA. \n",
    "\n",
    "Protecting individual consumer privacy is at the core of the SafeGraph mission:  \n",
    "\n",
    "\n",
    "\n",
    "> \"SafeGraph’s mission is to make the world’s data open for innovation while protecting individuals privacy.\" - [SafeGraph Vision and Values](https://blog.safegraph.com/safegraph-vision-and-values-circa-2017-d188d4185df2/?utm_source=content&utm_medium=referral&utm_campaign=colabnotebook&utm_content=panel_bias)\n",
    "\n",
    "The devices in the panel are fully anonymized; **no device-level demographic data exists for devices in the panel**. However, for every device in the panel, SafeGraph *estimates* the home census block group (CBG) of that device, based on the most common location during night time hours. Importantly, none of the anonymized device-specific data is available to us as customers of SafeGraph data; SafeGraph Patterns is an aggregated view. SafeGraph provides an aggregated summary of the panel, [Home Location Distributions by State/Census Block Group](https://docs.safegraph.com/docs/places-schema#section-home-location-distributions-by-state-census-block-group/?utm_source=content&utm_medium=referral&utm_campaign=colabnotebook&utm_content=panel_bias), as part of the Panel Overview Data. "
   ]
  },
  {
   "cell_type": "markdown",
   "metadata": {
    "id": "OakYTjSBom-z"
   },
   "source": [
    "\n",
    "## We can quantify Sampling Bias by comparing  the Panel Sample to the US Census Population\n",
    "\n",
    "Since the US Census publishes population and demographic data for every census block group (CBG), we can  use the US Census data as a groundtruth against which to benchmark sampling bias in the panel. \n"
   ]
  },
  {
   "cell_type": "markdown",
   "metadata": {
    "id": "5PHoLRDdXk2H"
   },
   "source": [
    "\n",
    "We will explore sampling bias on several dimensions: \n",
    "\n",
    "* Geographic\n",
    "  * State \n",
    "  * County\n",
    "  * Census Block Group\n",
    "  \n",
    "* Demographic (inferred from census block group)\n",
    "  * Race\n",
    "  * Educational Attainment\n",
    "  * Household Income\n",
    " \n",
    "<br/><br/>\n",
    "\n",
    "To start, let's load up the datasets. \n",
    "\n",
    "\n"
   ]
  },
  {
   "cell_type": "markdown",
   "metadata": {
    "id": "t86CDrDHfi7a"
   },
   "source": [
    "## Notebook and Data Setup\n",
    "\n",
    "**Quick Start -- How to use this notebook**\n",
    "* This is an interactive [Google CoLab notebook](https://colab.research.google.com/notebooks/welcome.ipynb). \n",
    "* If you want, you can simply read through and see my code and my results below. Enjoy!\n",
    "* Moreover, you are viewing an ephemeral copy of this notebook **that you can edit and re-run yourself**. You are highly encouraged to interact with the code and try things--only you can see your ephemeral copy (try double-clicking into this cell right now!)\n",
    "  * If you want to save your changes, then you save a copy to your own Google Drive.\n",
    "* As-is, this notebook reads data from a public Google Drive owned by SafeGraph.\n",
    "  * For this to work, Google will prompt you to login, and confirm that you want to run a notebook written by SafeGraph (you should click \"Run Anyway\"), and authenticate your user. \n",
    "  * Be assured, this notebook does not read any data from your personal drive and your data is not shared with SafeGraph. That's just how Google CoLab reads from Google Drive. \n",
    "\n",
    "Pro-Tip for Power Users:\n",
    "* Alternatively, you can upload your own copy of these datasets into *your* Google Drive and [mount your Google drive to this notebook (see \"Bonus Method\")](hhttps://towardsdatascience.com/3-ways-to-load-csv-files-into-colab-7c14fcbdcb92). This is how I worked with the data during the development of the notebook. It slightly changes how you read the data, so I have left those commands inline below, but commented out with the tag `#ForMountedDrive` in case you prefer this option.\n",
    "  * All of the datasets used in this notebook can be obtained for free from [SafeGraph.com](https://shop.safegraph.com/?utm_source=content&utm_medium=referral&utm_campaign=colabnotebook&utm_content=panel_bias) with the coupon code at the bottom of the notebook.\n",
    "\n",
    "\n",
    "\n",
    "---\n",
    "\n",
    "If you want to edit the code interactively, make sure you can run the cell directly below. Otherwise, just read on!"
   ]
  },
  {
   "cell_type": "code",
   "execution_count": null,
   "metadata": {
    "colab": {
     "base_uri": "https://localhost:8080/"
    },
    "id": "OqkjFI5pYwHm",
    "outputId": "8d7d0be8-db18-4b7b-daa3-222d53c8128e"
   },
   "outputs": [
    {
     "name": "stdout",
     "output_type": "stream",
     "text": [
      "If your name is A, then you've successfuly run this cell. \n",
      "You are authenticated and can edit and re-run anything in the notebook. Enjoy!\n"
     ]
    }
   ],
   "source": [
    "your_name = \"A\" # << You can edit this\n",
    "\n",
    "################################\n",
    "\n",
    "# These libraries are required to read directly from SafeGraph's public GoogleDrive\n",
    "# This is not necessary if you mount your own Drive directly. \n",
    "\n",
    "from pydrive.auth import GoogleAuth\n",
    "from pydrive.drive import GoogleDrive\n",
    "from google.colab import auth\n",
    "from oauth2client.client import GoogleCredentials\n",
    "\n",
    "# Authenticate and create the PyDrive client.\n",
    "auth.authenticate_user()\n",
    "gauth = GoogleAuth()\n",
    "gauth.credentials = GoogleCredentials.get_application_default()\n",
    "drive = GoogleDrive(gauth)\n",
    "\n",
    "################################\n",
    "\n",
    "print(\"If your name is {0}, then you've successfuly run this cell. \\nYou are authenticated and can edit and re-run anything in the notebook. Enjoy!\".format(your_name))"
   ]
  },
  {
   "cell_type": "code",
   "execution_count": null,
   "metadata": {
    "id": "WC76yxp30Mxl"
   },
   "outputs": [],
   "source": [
    "# #ForMountedDrive -- mount your google drive with the below command\n",
    "# from google.colab import drive\n",
    "# drive.mount('/content/drive')"
   ]
  },
  {
   "cell_type": "markdown",
   "metadata": {
    "id": "lNGAVwMbm_lo"
   },
   "source": [
    "**Load libraries:**"
   ]
  },
  {
   "cell_type": "code",
   "execution_count": null,
   "metadata": {
    "colab": {
     "base_uri": "https://localhost:8080/"
    },
    "id": "p2PqcEYpVnXp",
    "outputId": "461db318-76c1-478f-c998-02bedf3fa23b"
   },
   "outputs": [
    {
     "name": "stdout",
     "output_type": "stream",
     "text": [
      "This notebook is running python version: 3.7.12\n",
      "This notebook is running pandas version: 1.1.5\n"
     ]
    }
   ],
   "source": [
    "%matplotlib inline\n",
    "\n",
    "import matplotlib\n",
    "import numpy as np\n",
    "import matplotlib.pyplot as plt\n",
    "import pandas as pd\n",
    "import os\n",
    "\n",
    "\n",
    "#~~~~~~ Display Settings\n",
    "\n",
    "plt.rcParams['figure.figsize'] = [8, 8]\n",
    "pd.set_option('display.max_rows', 5000)\n",
    "pd.set_option('display.max_columns', 500)\n",
    "pd.set_option('display.width', 10000)\n",
    "\n",
    "#~~~~~~\n",
    "\n",
    "import platform\n",
    "print(\"This notebook is running python version: {0}\".format(platform.python_version()))\n",
    "print(\"This notebook is running pandas version: {0}\".format(pd.__version__))\n",
    "\n",
    "# This is what the original author is running:\n",
    "# This notebook is running python version: 3.6.8\n",
    "# This notebook is running pandas version: 0.24.2\n"
   ]
  },
  {
   "cell_type": "code",
   "execution_count": null,
   "metadata": {
    "id": "JNr78OyMHpn_"
   },
   "outputs": [],
   "source": [
    "################################\n",
    "\n",
    "# These functions are required to read directly from SafeGraph's Public Drive\n",
    "# These are not necessary if you've directly mounted your own google drive\n",
    "\n",
    "def pd_read_csv_drive(id, drive=drive, dtype=None):\n",
    "  downloaded = drive.CreateFile({'id':id}) \n",
    "  downloaded.GetContentFile('Filename.csv')  \n",
    "  return(pd.read_csv('Filename.csv',dtype=dtype))\n",
    "\n",
    "\n",
    "# Note: OpenCensusData public GDrive folder: https://drive.google.com/open?id=1btSS6zo7_wJCCXAigkbhnaoeU-Voa9pG\n",
    "\n",
    "drive_ids = {'cbg_b19.csv' : '1d9GscpWbrnP2xNLKKlgd6xLcFTzJydY4',\n",
    "              'cbg_b01.csv' : '1QqttoDRoKpZM2TyyRwJ8B9c5bYZrHysB',\n",
    "              'cbg_b02.csv' : '1Zqqf3iLDkDWPl2theLlUm_cAbvznj-Kx',\n",
    "              'cbg_b15.csv' : '1xeSZShcX3egZFsalGOFD6Ze2jTof6ri-',\n",
    "              'cbg_field_descriptions.csv' : '1a7_7WxY6eaUIObkVwfknl9C7nPltYxPd',\n",
    "              'cbg_fips_codes.csv' : '1dB_HeAw11TmsZ8MATMedC9j2csTRAiVm',\n",
    "             'home_panel_summary.csv': '1aiwhO6Pw1ZfUOoqUf6mS70s9tJgsAVp5'\n",
    "}\n",
    "\n",
    "################################"
   ]
  },
  {
   "cell_type": "markdown",
   "metadata": {
    "id": "VHjCUWtF6SaG"
   },
   "source": [
    "### Load Open Census Data\n",
    "\n",
    "Census data can be be difficult to navigate, so SafeGraph [packaged all of it in a convenient single download called Open Census Data](https://blog.safegraph.com/download-open-census-data-visualize-neighborhood-insights-9348145bb5f1/?utm_source=content&utm_medium=referral&utm_campaign=colabnotebook&utm_content=panel_bias). \n",
    "\n",
    "This notebook is pulling Open Census Data from a public Google Drive created by SafeGraph (See Notebook and Data Setup, above).  \n",
    "\n",
    "If you want your own copy of Open Census Data, you can [download Open Census Data here](https://www.safegraph.com/open-census-data/?utm_source=content&utm_medium=referral&utm_campaign=colabnotebook&utm_content=panel_bias). See the [SafeGraph Open Census Data docs](https://docs.safegraph.com/docs/open-census-data/?utm_source=content&utm_medium=referral&utm_campaign=colabnotebook&utm_content=panel_bias) for documentation on what is included and how the files are organized.\n",
    "\n"
   ]
  },
  {
   "cell_type": "code",
   "execution_count": null,
   "metadata": {
    "id": "faR7Yxi31FyR"
   },
   "outputs": [],
   "source": [
    "# #ForMountedDrive --  After Mounting Drive we can access files in your google drive\n",
    "# sg_ocd_dir = \"/content/drive/My Drive/publicly_shared/openCensusData/\" # copy/paste path for SafeGraph Open Census Data\n",
    "# print(\"expected output is ['metadata', 'geometry', 'data']\")\n",
    "# print(os.listdir(sg_ocd_dir))"
   ]
  },
  {
   "cell_type": "markdown",
   "metadata": {
    "id": "aDwGk1sS8dgQ"
   },
   "source": [
    "The total population of each `census_block_group` is stored in the file `cbg_b01.csv`"
   ]
  },
  {
   "cell_type": "code",
   "execution_count": null,
   "metadata": {
    "colab": {
     "base_uri": "https://localhost:8080/",
     "height": 204
    },
    "id": "id9Y2g6A3QQO",
    "outputId": "33c3c3e6-e8c9-4704-a1e1-3a072e261b71"
   },
   "outputs": [
    {
     "data": {
      "text/html": [
       "<div>\n",
       "<style scoped>\n",
       "    .dataframe tbody tr th:only-of-type {\n",
       "        vertical-align: middle;\n",
       "    }\n",
       "\n",
       "    .dataframe tbody tr th {\n",
       "        vertical-align: top;\n",
       "    }\n",
       "\n",
       "    .dataframe thead th {\n",
       "        text-align: right;\n",
       "    }\n",
       "</style>\n",
       "<table border=\"1\" class=\"dataframe\">\n",
       "  <thead>\n",
       "    <tr style=\"text-align: right;\">\n",
       "      <th></th>\n",
       "      <th>census_block_group</th>\n",
       "      <th>B01001e1</th>\n",
       "    </tr>\n",
       "  </thead>\n",
       "  <tbody>\n",
       "    <tr>\n",
       "      <th>0</th>\n",
       "      <td>010010201001</td>\n",
       "      <td>745</td>\n",
       "    </tr>\n",
       "    <tr>\n",
       "      <th>1</th>\n",
       "      <td>010010201002</td>\n",
       "      <td>1265</td>\n",
       "    </tr>\n",
       "    <tr>\n",
       "      <th>2</th>\n",
       "      <td>010010202001</td>\n",
       "      <td>960</td>\n",
       "    </tr>\n",
       "    <tr>\n",
       "      <th>3</th>\n",
       "      <td>010010202002</td>\n",
       "      <td>1236</td>\n",
       "    </tr>\n",
       "    <tr>\n",
       "      <th>4</th>\n",
       "      <td>010010203001</td>\n",
       "      <td>2364</td>\n",
       "    </tr>\n",
       "  </tbody>\n",
       "</table>\n",
       "</div>"
      ],
      "text/plain": [
       "  census_block_group  B01001e1\n",
       "0       010010201001       745\n",
       "1       010010201002      1265\n",
       "2       010010202001       960\n",
       "3       010010202002      1236\n",
       "4       010010203001      2364"
      ]
     },
     "execution_count": 44,
     "metadata": {},
     "output_type": "execute_result"
    }
   ],
   "source": [
    "# cbg_b01 = pd.read_csv(sg_ocd_dir + \"data/cbg_b01.csv\",dtype = {'census_block_group': str}) #ForMountedDrive\n",
    "cbg_b01 = pd_read_csv_drive(drive_ids['cbg_b01.csv'],dtype = {'census_block_group': str})\n",
    "columns = ['census_block_group', 'B01001e1']\n",
    "cbg_b01 = cbg_b01[columns]\n",
    "cbg_b01.head()"
   ]
  },
  {
   "cell_type": "code",
   "execution_count": null,
   "metadata": {
    "colab": {
     "base_uri": "https://localhost:8080/"
    },
    "id": "WUDg_XLy3qY9",
    "outputId": "9c2794b5-812c-4b43-9214-63a11f8aa0a8"
   },
   "outputs": [
    {
     "name": "stdout",
     "output_type": "stream",
     "text": [
      "B01001e1\n",
      "4    SEX BY AGE: Total: Total population -- (Estimate)\n",
      "Name: field_full_name, dtype: object\n"
     ]
    }
   ],
   "source": [
    "# cbg_field_desc = pd.read_csv(sg_ocd_dir + \"metadata/cbg_field_descriptions.csv\") #ForMountedDrive\n",
    "cbg_field_desc = pd_read_csv_drive(drive_ids['cbg_field_descriptions.csv'])\n",
    "print('B01001e1')\n",
    "print(cbg_field_desc[cbg_field_desc.table_id == 'B01001e1'].field_full_name)\n",
    " "
   ]
  },
  {
   "cell_type": "markdown",
   "metadata": {
    "id": "hoIIvgHv9Fif"
   },
   "source": [
    "So, `B01001e1` is the `table_id` code for the  `Total Population`. This dataset tells us the Total Population for each census block group. \n",
    "\n",
    "For the sake of clarity, we rename this column.\n"
   ]
  },
  {
   "cell_type": "code",
   "execution_count": null,
   "metadata": {
    "colab": {
     "base_uri": "https://localhost:8080/"
    },
    "id": "1rBmxern3jGq",
    "outputId": "1d96103c-75d6-40bc-91c6-b8b71bb81469"
   },
   "outputs": [
    {
     "name": "stdout",
     "output_type": "stream",
     "text": [
      "Total USA population according to US Census: 322087547\n"
     ]
    }
   ],
   "source": [
    "cbg_b01.rename({'B01001e1':'census_population'}, axis='columns', inplace=True)\n",
    "\n",
    "total_usa_pop = cbg_b01['census_population'].sum()\n",
    "print(\"Total USA population according to US Census: {0}\".format(total_usa_pop))"
   ]
  },
  {
   "cell_type": "markdown",
   "metadata": {
    "id": "IJW1dfsK_RZf"
   },
   "source": [
    "### Load SafeGraph Panel Summary\n"
   ]
  },
  {
   "cell_type": "code",
   "execution_count": null,
   "metadata": {
    "id": "TBqeRr3GTMza"
   },
   "outputs": [],
   "source": [
    "# #ForMountedDrive - Upload your patterns data to Google drive and copy the path\n",
    "# patterns_path = \"/content/drive/My Drive/publicly_shared/Major-Brands-2019-Oct-CORE-PATTERNS\"\n",
    "# # Confirm correct structure\n",
    "# print(\"expected files: ['home_panel_summary.csv','core_poi-patterns.csv','brand_info.csv','visit_panel_summary.csv']\")\n",
    "# os.listdir(patterns_path)"
   ]
  },
  {
   "cell_type": "markdown",
   "metadata": {
    "id": "3yF9cR_KACSm"
   },
   "source": [
    "For reference, see [schema of home_panel_summary.csv ](https://docs.safegraph.com/docs/places-schema#section-home-location-distributions-by-state-census-block-group/?utm_source=content&utm_medium=referral&utm_campaign=colabnotebook&utm_content=panel_bias)\n",
    "\n",
    "This dataset tells us how many devices are residing in each CBG in the SafeGraph dataset."
   ]
  },
  {
   "cell_type": "code",
   "execution_count": null,
   "metadata": {
    "colab": {
     "base_uri": "https://localhost:8080/",
     "height": 204
    },
    "id": "8wsO2TG-ABbx",
    "outputId": "60c6bcab-c08f-4f4e-b2ec-510291cd9522"
   },
   "outputs": [
    {
     "data": {
      "text/html": [
       "<div>\n",
       "<style scoped>\n",
       "    .dataframe tbody tr th:only-of-type {\n",
       "        vertical-align: middle;\n",
       "    }\n",
       "\n",
       "    .dataframe tbody tr th {\n",
       "        vertical-align: top;\n",
       "    }\n",
       "\n",
       "    .dataframe thead th {\n",
       "        text-align: right;\n",
       "    }\n",
       "</style>\n",
       "<table border=\"1\" class=\"dataframe\">\n",
       "  <thead>\n",
       "    <tr style=\"text-align: right;\">\n",
       "      <th></th>\n",
       "      <th>year</th>\n",
       "      <th>month</th>\n",
       "      <th>state</th>\n",
       "      <th>census_block_group</th>\n",
       "      <th>number_devices_residing</th>\n",
       "    </tr>\n",
       "  </thead>\n",
       "  <tbody>\n",
       "    <tr>\n",
       "      <th>0</th>\n",
       "      <td>2019</td>\n",
       "      <td>9</td>\n",
       "      <td>ak</td>\n",
       "      <td>021580001001</td>\n",
       "      <td>31</td>\n",
       "    </tr>\n",
       "    <tr>\n",
       "      <th>1</th>\n",
       "      <td>2019</td>\n",
       "      <td>9</td>\n",
       "      <td>ak</td>\n",
       "      <td>020200023033</td>\n",
       "      <td>114</td>\n",
       "    </tr>\n",
       "    <tr>\n",
       "      <th>2</th>\n",
       "      <td>2019</td>\n",
       "      <td>9</td>\n",
       "      <td>ak</td>\n",
       "      <td>021050003001</td>\n",
       "      <td>105</td>\n",
       "    </tr>\n",
       "    <tr>\n",
       "      <th>3</th>\n",
       "      <td>2019</td>\n",
       "      <td>9</td>\n",
       "      <td>ak</td>\n",
       "      <td>021700006042</td>\n",
       "      <td>67</td>\n",
       "    </tr>\n",
       "    <tr>\n",
       "      <th>4</th>\n",
       "      <td>2019</td>\n",
       "      <td>9</td>\n",
       "      <td>ak</td>\n",
       "      <td>021880001003</td>\n",
       "      <td>8</td>\n",
       "    </tr>\n",
       "  </tbody>\n",
       "</table>\n",
       "</div>"
      ],
      "text/plain": [
       "   year  month state census_block_group  number_devices_residing\n",
       "0  2019      9    ak       021580001001                       31\n",
       "1  2019      9    ak       020200023033                      114\n",
       "2  2019      9    ak       021050003001                      105\n",
       "3  2019      9    ak       021700006042                       67\n",
       "4  2019      9    ak       021880001003                        8"
      ]
     },
     "execution_count": 48,
     "metadata": {},
     "output_type": "execute_result"
    }
   ],
   "source": [
    "# home_panel = pd.read_csv(patterns_path + '/home_panel_summary.csv', dtype = {'census_block_group': str}) #ForMountedDrive\n",
    "home_panel = pd_read_csv_drive(drive_ids['home_panel_summary.csv'], dtype = {'census_block_group': str})\n",
    "home_panel.head()"
   ]
  },
  {
   "cell_type": "markdown",
   "metadata": {
    "id": "IiDR7_7kA2D0"
   },
   "source": [
    "I want to compute the correlation between number of devices residing and census populations at the census __tract__ level in specific tracts in MA.\n",
    "\n",
    "counties = ['middlesex', 'norfolk', 'suffolk']"
   ]
  },
  {
   "cell_type": "code",
   "execution_count": null,
   "metadata": {
    "id": "H7IT9SfbIE74"
   },
   "outputs": [],
   "source": [
    "counties = ['middlesex', 'norfolk', 'suffolk']"
   ]
  },
  {
   "cell_type": "code",
   "execution_count": null,
   "metadata": {
    "colab": {
     "base_uri": "https://localhost:8080/",
     "height": 204
    },
    "id": "vMA3FjQqJkfF",
    "outputId": "a374ef8e-fe0e-4338-cf22-111b72df76bd"
   },
   "outputs": [
    {
     "data": {
      "text/html": [
       "<div>\n",
       "<style scoped>\n",
       "    .dataframe tbody tr th:only-of-type {\n",
       "        vertical-align: middle;\n",
       "    }\n",
       "\n",
       "    .dataframe tbody tr th {\n",
       "        vertical-align: top;\n",
       "    }\n",
       "\n",
       "    .dataframe thead th {\n",
       "        text-align: right;\n",
       "    }\n",
       "</style>\n",
       "<table border=\"1\" class=\"dataframe\">\n",
       "  <thead>\n",
       "    <tr style=\"text-align: right;\">\n",
       "      <th></th>\n",
       "      <th>census_tract</th>\n",
       "      <th>census_population</th>\n",
       "    </tr>\n",
       "  </thead>\n",
       "  <tbody>\n",
       "    <tr>\n",
       "      <th>0</th>\n",
       "      <td>01001020100</td>\n",
       "      <td>2010</td>\n",
       "    </tr>\n",
       "    <tr>\n",
       "      <th>1</th>\n",
       "      <td>01001020200</td>\n",
       "      <td>2196</td>\n",
       "    </tr>\n",
       "    <tr>\n",
       "      <th>2</th>\n",
       "      <td>01001020300</td>\n",
       "      <td>3136</td>\n",
       "    </tr>\n",
       "    <tr>\n",
       "      <th>3</th>\n",
       "      <td>01001020400</td>\n",
       "      <td>4563</td>\n",
       "    </tr>\n",
       "    <tr>\n",
       "      <th>4</th>\n",
       "      <td>01001020500</td>\n",
       "      <td>10529</td>\n",
       "    </tr>\n",
       "  </tbody>\n",
       "</table>\n",
       "</div>"
      ],
      "text/plain": [
       "  census_tract  census_population\n",
       "0  01001020100               2010\n",
       "1  01001020200               2196\n",
       "2  01001020300               3136\n",
       "3  01001020400               4563\n",
       "4  01001020500              10529"
      ]
     },
     "execution_count": 86,
     "metadata": {},
     "output_type": "execute_result"
    }
   ],
   "source": [
    "cbg_b01['census_tract'] = [fips[0:11] for fips in cbg_b01.census_block_group]\n",
    "ct = cbg_b01.groupby([\"census_tract\"]).sum().reset_index()\n",
    "ct.head()"
   ]
  },
  {
   "cell_type": "code",
   "execution_count": null,
   "metadata": {
    "colab": {
     "base_uri": "https://localhost:8080/",
     "height": 204
    },
    "id": "LB_T5rIEK_ip",
    "outputId": "d70df11a-80d9-4f89-e2b3-572a87dcbd47"
   },
   "outputs": [
    {
     "data": {
      "text/html": [
       "<div>\n",
       "<style scoped>\n",
       "    .dataframe tbody tr th:only-of-type {\n",
       "        vertical-align: middle;\n",
       "    }\n",
       "\n",
       "    .dataframe tbody tr th {\n",
       "        vertical-align: top;\n",
       "    }\n",
       "\n",
       "    .dataframe thead th {\n",
       "        text-align: right;\n",
       "    }\n",
       "</style>\n",
       "<table border=\"1\" class=\"dataframe\">\n",
       "  <thead>\n",
       "    <tr style=\"text-align: right;\">\n",
       "      <th></th>\n",
       "      <th>census_tract</th>\n",
       "      <th>number_devices_residing</th>\n",
       "    </tr>\n",
       "  </thead>\n",
       "  <tbody>\n",
       "    <tr>\n",
       "      <th>0</th>\n",
       "      <td>25001010100</td>\n",
       "      <td>1843</td>\n",
       "    </tr>\n",
       "    <tr>\n",
       "      <th>1</th>\n",
       "      <td>25001010206</td>\n",
       "      <td>1339</td>\n",
       "    </tr>\n",
       "    <tr>\n",
       "      <th>2</th>\n",
       "      <td>25001010208</td>\n",
       "      <td>392</td>\n",
       "    </tr>\n",
       "    <tr>\n",
       "      <th>3</th>\n",
       "      <td>25001010304</td>\n",
       "      <td>400</td>\n",
       "    </tr>\n",
       "    <tr>\n",
       "      <th>4</th>\n",
       "      <td>25001010306</td>\n",
       "      <td>244</td>\n",
       "    </tr>\n",
       "  </tbody>\n",
       "</table>\n",
       "</div>"
      ],
      "text/plain": [
       "  census_tract  number_devices_residing\n",
       "0  25001010100                     1843\n",
       "1  25001010206                     1339\n",
       "2  25001010208                      392\n",
       "3  25001010304                      400\n",
       "4  25001010306                      244"
      ]
     },
     "execution_count": 94,
     "metadata": {},
     "output_type": "execute_result"
    }
   ],
   "source": [
    "home_panel['census_tract'] = [fips[0:11] for fips in home_panel.census_block_group]\n",
    "panel = home_panel[(home_panel.state==\"ma\")].groupby([\"census_tract\"]).sum()[[\"number_devices_residing\"]].reset_index()\n",
    "panel.head()"
   ]
  },
  {
   "cell_type": "markdown",
   "metadata": {
    "id": "EEPQVGlfGtdH"
   },
   "source": [
    "### Join Census and Home Panel data to compare relative population distribution"
   ]
  },
  {
   "cell_type": "code",
   "execution_count": null,
   "metadata": {
    "colab": {
     "base_uri": "https://localhost:8080/",
     "height": 204
    },
    "id": "MOLhli-kLZiz",
    "outputId": "cdca0144-8343-4c61-b8e5-bdea903015aa"
   },
   "outputs": [
    {
     "data": {
      "text/html": [
       "<div>\n",
       "<style scoped>\n",
       "    .dataframe tbody tr th:only-of-type {\n",
       "        vertical-align: middle;\n",
       "    }\n",
       "\n",
       "    .dataframe tbody tr th {\n",
       "        vertical-align: top;\n",
       "    }\n",
       "\n",
       "    .dataframe thead th {\n",
       "        text-align: right;\n",
       "    }\n",
       "</style>\n",
       "<table border=\"1\" class=\"dataframe\">\n",
       "  <thead>\n",
       "    <tr style=\"text-align: right;\">\n",
       "      <th></th>\n",
       "      <th>census_tract</th>\n",
       "      <th>number_devices_residing</th>\n",
       "      <th>census_population</th>\n",
       "      <th>state_fips</th>\n",
       "      <th>county_fips</th>\n",
       "      <th>state</th>\n",
       "      <th>county</th>\n",
       "    </tr>\n",
       "  </thead>\n",
       "  <tbody>\n",
       "    <tr>\n",
       "      <th>0</th>\n",
       "      <td>25001010100</td>\n",
       "      <td>1843</td>\n",
       "      <td>2962</td>\n",
       "      <td>25</td>\n",
       "      <td>001</td>\n",
       "      <td>MA</td>\n",
       "      <td>Barnstable County</td>\n",
       "    </tr>\n",
       "    <tr>\n",
       "      <th>1</th>\n",
       "      <td>25001010206</td>\n",
       "      <td>1339</td>\n",
       "      <td>3168</td>\n",
       "      <td>25</td>\n",
       "      <td>001</td>\n",
       "      <td>MA</td>\n",
       "      <td>Barnstable County</td>\n",
       "    </tr>\n",
       "    <tr>\n",
       "      <th>2</th>\n",
       "      <td>25001010208</td>\n",
       "      <td>392</td>\n",
       "      <td>1589</td>\n",
       "      <td>25</td>\n",
       "      <td>001</td>\n",
       "      <td>MA</td>\n",
       "      <td>Barnstable County</td>\n",
       "    </tr>\n",
       "    <tr>\n",
       "      <th>3</th>\n",
       "      <td>25001010304</td>\n",
       "      <td>400</td>\n",
       "      <td>2107</td>\n",
       "      <td>25</td>\n",
       "      <td>001</td>\n",
       "      <td>MA</td>\n",
       "      <td>Barnstable County</td>\n",
       "    </tr>\n",
       "    <tr>\n",
       "      <th>4</th>\n",
       "      <td>25001010306</td>\n",
       "      <td>244</td>\n",
       "      <td>2817</td>\n",
       "      <td>25</td>\n",
       "      <td>001</td>\n",
       "      <td>MA</td>\n",
       "      <td>Barnstable County</td>\n",
       "    </tr>\n",
       "  </tbody>\n",
       "</table>\n",
       "</div>"
      ],
      "text/plain": [
       "  census_tract  number_devices_residing  census_population state_fips county_fips state             county\n",
       "0  25001010100                     1843               2962         25         001    MA  Barnstable County\n",
       "1  25001010206                     1339               3168         25         001    MA  Barnstable County\n",
       "2  25001010208                      392               1589         25         001    MA  Barnstable County\n",
       "3  25001010304                      400               2107         25         001    MA  Barnstable County\n",
       "4  25001010306                      244               2817         25         001    MA  Barnstable County"
      ]
     },
     "execution_count": 95,
     "metadata": {},
     "output_type": "execute_result"
    }
   ],
   "source": [
    "panel = pd.merge(panel,ct)\n",
    "panel['state_fips'] = [fips[0:2] for fips in panel.census_tract]\n",
    "panel['county_fips'] = [fips[2:5] for fips in panel.census_tract]\n",
    "# Also load in FIPS codes for county names\n",
    "# fips_codes = pd.read_csv(sg_ocd_dir + \"metadata/cbg_fips_codes.csv\", dtype = {'state_fips': str, 'county_fips':str}) #ForMountedDrive\n",
    "fips_codes = pd_read_csv_drive(drive_ids['cbg_fips_codes.csv'], dtype = {'state_fips': str, 'county_fips':str})\n",
    "county_codes = fips_codes[['state_fips','county_fips', 'state', 'county']].drop_duplicates()\n",
    "panel = pd.merge(panel, county_codes)\n",
    "panel.head()"
   ]
  },
  {
   "cell_type": "code",
   "execution_count": null,
   "metadata": {
    "colab": {
     "base_uri": "https://localhost:8080/",
     "height": 222
    },
    "id": "wynazbO1_jBW",
    "outputId": "326e8b2f-8768-4fd4-b334-1ad018ee64d1"
   },
   "outputs": [
    {
     "name": "stdout",
     "output_type": "stream",
     "text": [
      "counties in MA: 14\n"
     ]
    },
    {
     "data": {
      "text/html": [
       "<div>\n",
       "<style scoped>\n",
       "    .dataframe tbody tr th:only-of-type {\n",
       "        vertical-align: middle;\n",
       "    }\n",
       "\n",
       "    .dataframe tbody tr th {\n",
       "        vertical-align: top;\n",
       "    }\n",
       "\n",
       "    .dataframe thead th {\n",
       "        text-align: right;\n",
       "    }\n",
       "</style>\n",
       "<table border=\"1\" class=\"dataframe\">\n",
       "  <thead>\n",
       "    <tr style=\"text-align: right;\">\n",
       "      <th></th>\n",
       "      <th>census_tract</th>\n",
       "      <th>number_devices_residing</th>\n",
       "      <th>census_population</th>\n",
       "      <th>state_fips</th>\n",
       "      <th>county_fips</th>\n",
       "      <th>state</th>\n",
       "      <th>county</th>\n",
       "    </tr>\n",
       "  </thead>\n",
       "  <tbody>\n",
       "    <tr>\n",
       "      <th>0</th>\n",
       "      <td>25001010100</td>\n",
       "      <td>1843</td>\n",
       "      <td>2962</td>\n",
       "      <td>25</td>\n",
       "      <td>001</td>\n",
       "      <td>MA</td>\n",
       "      <td>Barnstable County</td>\n",
       "    </tr>\n",
       "    <tr>\n",
       "      <th>1</th>\n",
       "      <td>25001010206</td>\n",
       "      <td>1339</td>\n",
       "      <td>3168</td>\n",
       "      <td>25</td>\n",
       "      <td>001</td>\n",
       "      <td>MA</td>\n",
       "      <td>Barnstable County</td>\n",
       "    </tr>\n",
       "    <tr>\n",
       "      <th>2</th>\n",
       "      <td>25001010208</td>\n",
       "      <td>392</td>\n",
       "      <td>1589</td>\n",
       "      <td>25</td>\n",
       "      <td>001</td>\n",
       "      <td>MA</td>\n",
       "      <td>Barnstable County</td>\n",
       "    </tr>\n",
       "    <tr>\n",
       "      <th>3</th>\n",
       "      <td>25001010304</td>\n",
       "      <td>400</td>\n",
       "      <td>2107</td>\n",
       "      <td>25</td>\n",
       "      <td>001</td>\n",
       "      <td>MA</td>\n",
       "      <td>Barnstable County</td>\n",
       "    </tr>\n",
       "    <tr>\n",
       "      <th>4</th>\n",
       "      <td>25001010306</td>\n",
       "      <td>244</td>\n",
       "      <td>2817</td>\n",
       "      <td>25</td>\n",
       "      <td>001</td>\n",
       "      <td>MA</td>\n",
       "      <td>Barnstable County</td>\n",
       "    </tr>\n",
       "  </tbody>\n",
       "</table>\n",
       "</div>"
      ],
      "text/plain": [
       "  census_tract  number_devices_residing  census_population state_fips county_fips state             county\n",
       "0  25001010100                     1843               2962         25         001    MA  Barnstable County\n",
       "1  25001010206                     1339               3168         25         001    MA  Barnstable County\n",
       "2  25001010208                      392               1589         25         001    MA  Barnstable County\n",
       "3  25001010304                      400               2107         25         001    MA  Barnstable County\n",
       "4  25001010306                      244               2817         25         001    MA  Barnstable County"
      ]
     },
     "execution_count": 96,
     "metadata": {},
     "output_type": "execute_result"
    }
   ],
   "source": [
    "print('counties in MA: %s' % len(fips_codes[fips_codes.state == 'MA']))\n",
    "panel[panel.state == 'MA'].head()"
   ]
  },
  {
   "cell_type": "markdown",
   "metadata": {
    "id": "YS5Hl_kENa5D"
   },
   "source": [
    "Middlesex county (017)\n",
    "\n",
    "Norfolk county (021)\n",
    "\n",
    "Suffolk county (025)"
   ]
  },
  {
   "cell_type": "code",
   "execution_count": null,
   "metadata": {
    "colab": {
     "base_uri": "https://localhost:8080/",
     "height": 258
    },
    "id": "13ETs8kq72kQ",
    "outputId": "8a9291e9-0ef8-492d-84f8-4e4a75b83cd0"
   },
   "outputs": [
    {
     "name": "stdout",
     "output_type": "stream",
     "text": [
      "total population for counties (middlesex, norfolk, suffolk): 3026547\n",
      "total devices for counties (middlesex, norfolk, suffolk): 396061\n",
      "13.09 %\n"
     ]
    },
    {
     "data": {
      "text/html": [
       "<div>\n",
       "<style scoped>\n",
       "    .dataframe tbody tr th:only-of-type {\n",
       "        vertical-align: middle;\n",
       "    }\n",
       "\n",
       "    .dataframe tbody tr th {\n",
       "        vertical-align: top;\n",
       "    }\n",
       "\n",
       "    .dataframe thead th {\n",
       "        text-align: right;\n",
       "    }\n",
       "</style>\n",
       "<table border=\"1\" class=\"dataframe\">\n",
       "  <thead>\n",
       "    <tr style=\"text-align: right;\">\n",
       "      <th></th>\n",
       "      <th>census_tract</th>\n",
       "      <th>number_devices_residing</th>\n",
       "      <th>census_population</th>\n",
       "      <th>state_fips</th>\n",
       "      <th>county_fips</th>\n",
       "      <th>state</th>\n",
       "      <th>county</th>\n",
       "    </tr>\n",
       "  </thead>\n",
       "  <tbody>\n",
       "    <tr>\n",
       "      <th>547</th>\n",
       "      <td>25017300100</td>\n",
       "      <td>235</td>\n",
       "      <td>3196</td>\n",
       "      <td>25</td>\n",
       "      <td>017</td>\n",
       "      <td>MA</td>\n",
       "      <td>Middlesex County</td>\n",
       "    </tr>\n",
       "    <tr>\n",
       "      <th>548</th>\n",
       "      <td>25017301101</td>\n",
       "      <td>300</td>\n",
       "      <td>4092</td>\n",
       "      <td>25</td>\n",
       "      <td>017</td>\n",
       "      <td>MA</td>\n",
       "      <td>Middlesex County</td>\n",
       "    </tr>\n",
       "    <tr>\n",
       "      <th>549</th>\n",
       "      <td>25017301102</td>\n",
       "      <td>361</td>\n",
       "      <td>5277</td>\n",
       "      <td>25</td>\n",
       "      <td>017</td>\n",
       "      <td>MA</td>\n",
       "      <td>Middlesex County</td>\n",
       "    </tr>\n",
       "    <tr>\n",
       "      <th>550</th>\n",
       "      <td>25017310100</td>\n",
       "      <td>904</td>\n",
       "      <td>5962</td>\n",
       "      <td>25</td>\n",
       "      <td>017</td>\n",
       "      <td>MA</td>\n",
       "      <td>Middlesex County</td>\n",
       "    </tr>\n",
       "    <tr>\n",
       "      <th>551</th>\n",
       "      <td>25017310200</td>\n",
       "      <td>533</td>\n",
       "      <td>6735</td>\n",
       "      <td>25</td>\n",
       "      <td>017</td>\n",
       "      <td>MA</td>\n",
       "      <td>Middlesex County</td>\n",
       "    </tr>\n",
       "  </tbody>\n",
       "</table>\n",
       "</div>"
      ],
      "text/plain": [
       "    census_tract  number_devices_residing  census_population state_fips county_fips state            county\n",
       "547  25017300100                      235               3196         25         017    MA  Middlesex County\n",
       "548  25017301101                      300               4092         25         017    MA  Middlesex County\n",
       "549  25017301102                      361               5277         25         017    MA  Middlesex County\n",
       "550  25017310100                      904               5962         25         017    MA  Middlesex County\n",
       "551  25017310200                      533               6735         25         017    MA  Middlesex County"
      ]
     },
     "execution_count": 108,
     "metadata": {},
     "output_type": "execute_result"
    }
   ],
   "source": [
    "panel = panel[(panel.county_fips=='017') | (panel.county_fips=='021') | (panel.county_fips=='025')]\n",
    "print('total population for counties (middlesex, norfolk, suffolk): %s' % panel.census_population.sum())\n",
    "print('total devices for counties (middlesex, norfolk, suffolk): %s' % panel.number_devices_residing.sum())\n",
    "print('%0.2f %%' % (100*panel.number_devices_residing.sum()/panel.census_population.sum()))\n",
    "panel.head()"
   ]
  },
  {
   "cell_type": "markdown",
   "metadata": {
    "id": "zq5uJVTaHgqU"
   },
   "source": [
    "Check if we are missing any CBGs in the Home Panel dataset, and set the value to 0. "
   ]
  },
  {
   "cell_type": "code",
   "execution_count": null,
   "metadata": {
    "colab": {
     "base_uri": "https://localhost:8080/",
     "height": 85
    },
    "id": "pBAbiovm0NBc",
    "outputId": "bc1fb7da-c67a-4176-9858-7287ac64a407"
   },
   "outputs": [
    {
     "name": "stdout",
     "output_type": "stream",
     "text": [
      "We are missing SG data for 0 tracts containing 0 residents\n",
      "Set number_devices_residing to 0 for missing CBGs\n"
     ]
    },
    {
     "data": {
      "text/html": [
       "<div>\n",
       "<style scoped>\n",
       "    .dataframe tbody tr th:only-of-type {\n",
       "        vertical-align: middle;\n",
       "    }\n",
       "\n",
       "    .dataframe tbody tr th {\n",
       "        vertical-align: top;\n",
       "    }\n",
       "\n",
       "    .dataframe thead th {\n",
       "        text-align: right;\n",
       "    }\n",
       "</style>\n",
       "<table border=\"1\" class=\"dataframe\">\n",
       "  <thead>\n",
       "    <tr style=\"text-align: right;\">\n",
       "      <th></th>\n",
       "      <th>census_tract</th>\n",
       "      <th>number_devices_residing</th>\n",
       "      <th>census_population</th>\n",
       "      <th>state_fips</th>\n",
       "      <th>county_fips</th>\n",
       "      <th>state</th>\n",
       "      <th>county</th>\n",
       "    </tr>\n",
       "  </thead>\n",
       "  <tbody>\n",
       "  </tbody>\n",
       "</table>\n",
       "</div>"
      ],
      "text/plain": [
       "Empty DataFrame\n",
       "Columns: [census_tract, number_devices_residing, census_population, state_fips, county_fips, state, county]\n",
       "Index: []"
      ]
     },
     "execution_count": 109,
     "metadata": {},
     "output_type": "execute_result"
    }
   ],
   "source": [
    "missing_cts = panel[panel.number_devices_residing.isnull()].sort_values('census_population', ascending = False)\n",
    "print(\"We are missing SG data for {0} tracts containing {1} residents\".format(missing_cts.shape[0],missing_cts.census_population.sum()))\n",
    "panel = panel.fillna(0)\n",
    "print(\"Set number_devices_residing to 0 for missing CBGs\") # For these, we will set the value to 0, since the panel has 0 devices in these CBGs. \n",
    "panel[(panel.number_devices_residing == 0) & (panel.census_population > 0)].head()"
   ]
  },
  {
   "cell_type": "code",
   "execution_count": null,
   "metadata": {
    "colab": {
     "base_uri": "https://localhost:8080/"
    },
    "id": "qUAHU3UBIj1S",
    "outputId": "537b110a-d42f-4396-d810-b64c45d939d7"
   },
   "outputs": [
    {
     "data": {
      "text/plain": [
       "census_population          3026547\n",
       "number_devices_residing     396061\n",
       "dtype: int64"
      ]
     },
     "execution_count": 110,
     "metadata": {},
     "output_type": "execute_result"
    }
   ],
   "source": [
    "total_population = panel[['census_population','number_devices_residing']].sum(axis = 0)\n",
    "total_population"
   ]
  },
  {
   "cell_type": "markdown",
   "metadata": {
    "id": "nUrAZqaTxzU8"
   },
   "source": [
    "Briefly, we define some functions given the above framework to aid in exploratory data analysis and visualization."
   ]
  },
  {
   "cell_type": "code",
   "execution_count": null,
   "metadata": {
    "id": "NPPbHRkeLmwN"
   },
   "outputs": [],
   "source": [
    "# functions for exploratory data analysis and visualization of Sampling Bias\n",
    "\n",
    "\n",
    "def compute_bias(df, sample_var_col='number_devices_residing', pop_var_col='census_population'):\n",
    "  # compute bias for a dataframe of observed and expected values\n",
    "  # returns a pd.Series\n",
    "  observed_proportion = df[sample_var_col] / df[sample_var_col].sum()*100\n",
    "  expected_proportion = df[pop_var_col] / df[pop_var_col].sum()*100\n",
    "  bias = observed_proportion - expected_proportion\n",
    "  return(bias)\n",
    "  \n",
    "\n",
    "def make_center_line_coords(df,x,y):\n",
    "  # This creates two coords to define the hypothetical line in which x and y are perfectly correlatd\n",
    "  expected_slope = df[y].sum()/df[x].sum()\n",
    "  xcoord = np.array([df[x].min(), df[x].max()])\n",
    "  ycoord = expected_slope*xcoord\n",
    "  return((xcoord,ycoord))\n",
    "  \n",
    "def plot_sg_vs_census(df, xvar, yvar,bias_col='bias',xlim_=None,ylim_=None,text_col=None, num_to_label=5,alpha=0.9,labelfontsize=14):\n",
    "  # `text_col` is the column used to annotate the points\n",
    "  # `num_to_label` sets the top num_to_label records sorted by yvar to be annotated\n",
    "  \n",
    "  plt.rcParams['figure.figsize'] = [7, 7]\n",
    "  \n",
    "  # Report Stats\n",
    "  pearson_r = df.corr().loc[xvar, yvar]\n",
    "  print(\"pearson r: {0:.3f}\".format(pearson_r))\n",
    "  \n",
    "  # scatter plot\n",
    "  ax = df.plot.scatter(xvar, yvar, alpha = alpha, edgecolor = 'k', xlim = xlim_, ylim = ylim_)\n",
    "  # annotate \n",
    "  xadj = df[xvar].max()*0.02\n",
    "  if(text_col is not None):\n",
    "    for i, point in df.sort_values(by=xvar,ascending=False).iloc[0:num_to_label].iterrows():\n",
    "      ax.text(point[xvar] + xadj, point[yvar], str(point[text_col]),fontsize=labelfontsize, verticalalignment='center')\n",
    "  # plot expectation line\n",
    "  line_coords = make_center_line_coords(df,xvar,yvar)\n",
    "  plt.plot(line_coords[0],line_coords[1], color = 'k',linestyle='-', linewidth=1)\n",
    "  return(ax)\n"
   ]
  },
  {
   "cell_type": "code",
   "execution_count": null,
   "metadata": {
    "colab": {
     "base_uri": "https://localhost:8080/"
    },
    "id": "9V0gb9B8QjZg",
    "outputId": "45f8be07-0d29-4e10-d867-cba79f005b7e"
   },
   "outputs": [
    {
     "data": {
      "text/plain": [
       "651"
      ]
     },
     "execution_count": 116,
     "metadata": {},
     "output_type": "execute_result"
    }
   ],
   "source": [
    "len(panel)"
   ]
  },
  {
   "cell_type": "markdown",
   "metadata": {
    "id": "xz0kAF1ePjjL"
   },
   "source": [
    "## Sampling Bias at the Tract Level"
   ]
  },
  {
   "cell_type": "code",
   "execution_count": null,
   "metadata": {
    "colab": {
     "base_uri": "https://localhost:8080/",
     "height": 479
    },
    "id": "iOBSaYSYQ-4L",
    "outputId": "a0a85740-7f10-48dd-e780-0436062f21f9"
   },
   "outputs": [
    {
     "name": "stdout",
     "output_type": "stream",
     "text": [
      "Figure: Tract-Level Sampling Bias\n",
      "pearson r: 0.122\n"
     ]
    },
    {
     "data": {
      "image/png": "[encoded data removed]",
      "text/plain": [
       "<Figure size 504x504 with 1 Axes>"
      ]
     },
     "metadata": {
      "needs_background": "light"
     },
     "output_type": "display_data"
    }
   ],
   "source": [
    "print(\"Figure: Tract-Level Sampling Bias\")\n",
    "ax = plot_sg_vs_census(panel,'census_population','number_devices_residing', alpha = 0.5, text_col='census_tract', num_to_label=9,labelfontsize=8)"
   ]
  },
  {
   "cell_type": "markdown",
   "metadata": {
    "id": "WNj5fehYTIfB"
   },
   "source": [
    "Figure Explanation:\n",
    "* Above is a scatter plot of `census_population` on the x-axis and  `number_devices_residing` (in panel sample) on the y-axis.\n",
    "* There is one point for each census tract in the panel. The line shows the expected relationship for a true random sample. \n",
    "* Points above the line are over-indexed groups in the panel. Points below the line are under-indexed groups in the panel. "
   ]
  }
 ],
 "metadata": {
  "accelerator": "GPU",
  "colab": {
   "collapsed_sections": [],
   "name": "Copy of Quantifying Sampling Bias in SafeGraph Patterns-BlogPost-2019-10.ipynb",
   "provenance": [],
   "toc_visible": true
  },
  "kernelspec": {
   "display_name": "Python 3 (ipykernel)",
   "language": "python",
   "name": "python3"
  },
  "language_info": {
   "codemirror_mode": {
    "name": "ipython",
    "version": 3
   },
   "file_extension": ".py",
   "mimetype": "text/x-python",
   "name": "python",
   "nbconvert_exporter": "python",
   "pygments_lexer": "ipython3",
   "version": "3.7.1"
  }
 },
 "nbformat": 4,
 "nbformat_minor": 1
}
